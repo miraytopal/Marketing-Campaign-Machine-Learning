{
  "nbformat": 4,
  "nbformat_minor": 0,
  "metadata": {
    "colab": {
      "provenance": []
    },
    "kernelspec": {
      "name": "python3",
      "display_name": "Python 3"
    },
    "language_info": {
      "name": "python"
    }
  },
  "cells": [
    {
      "cell_type": "markdown",
      "metadata": {
        "id": "sqRabAYBbJ4P"
      },
      "source": [
        "##4. MODEL"
      ]
    },
    {
      "cell_type": "code",
      "execution_count": null,
      "metadata": {
        "id": "RVP7n6_pNwE5"
      },
      "outputs": [],
      "source": [
        "y_train = X_train[['Response']]\n",
        "X_train = X_train.drop('Response', axis = 1)\n",
        "y_test = X_test[['Response']]\n",
        "X_test = X_test.drop('Response', axis = 1)"
      ]
    },
    {
      "cell_type": "markdown",
      "metadata": {
        "id": "Ju4oyLSXsoIW"
      },
      "source": [
        "NOTE: We have unbalanced data, but we need balanced data to avoid biasing our model and improve our performance metrics. So we'll use to Smote(Synthetic Minority Oversampling Technique)."
      ]
    },
    {
      "cell_type": "code",
      "execution_count": null,
      "metadata": {
        "id": "qo_-6AIb5TI8"
      },
      "outputs": [],
      "source": [
        "sm = SMOTE(sampling_strategy='auto', k_neighbors=8, random_state=42)\n",
        "X_train, y_train = sm.fit_resample(X_train, y_train)",
        "df_balanced = pd.concat([pd.DataFrame(X_train), pd.DataFrame(y_train)], axis=1)"
      ]
    },
    {
      "cell_type": "code",
      "execution_count": null,
      "metadata": {
        "colab": {
          "base_uri": "https://localhost:8080/",
          "height": 364
        },
        "id": "HinwPIfgOBKz",
        "outputId": "d9c1721c-42d6-420b-a316-28bdbcd5542e"
      },
      "outputs": [
        {
          "output_type": "execute_result",
          "data": {
            "text/plain": [
              "         Income  Recency  NumDealsPurchases  NumWebPurchases  \\\n",
              "count   3052.00  3052.00            3052.00          3052.00   \n",
              "mean   55169.04    42.12               2.14             4.33   \n",
              "std    22216.44    27.44               1.79             2.62   \n",
              "min     1730.00     0.00               0.00             0.00   \n",
              "25%    36973.65    18.75               1.00             2.00   \n",
              "50%    55317.14    39.00               2.00             4.00   \n",
              "75%    73448.50    63.00               3.00             6.00   \n",
              "max   116768.00    99.00              15.00            27.00   \n",
              "\n",
              "       NumCatalogPurchases  NumStorePurchases  NumWebVisitsMonth  \\\n",
              "count              3052.00            3052.00            3052.00   \n",
              "mean                  3.16               5.74               5.11   \n",
              "std                   2.98               3.04               2.41   \n",
              "min                   0.00               0.00               0.00   \n",
              "25%                   1.00               3.00               3.00   \n",
              "50%                   2.00               5.00               6.00   \n",
              "75%                   5.00               8.00               7.00   \n",
              "max                  28.00              13.00              20.00   \n",
              "\n",
              "       AcceptedCmp3  AcceptedCmp4  AcceptedCmp5  AcceptedCmp1  AcceptedCmp2  \\\n",
              "count       3052.00       3052.00       3052.00       3052.00       3052.00   \n",
              "mean           0.07          0.06          0.12          0.08          0.01   \n",
              "std            0.25          0.24          0.32          0.27          0.09   \n",
              "min            0.00          0.00          0.00          0.00          0.00   \n",
              "25%            0.00          0.00          0.00          0.00          0.00   \n",
              "50%            0.00          0.00          0.00          0.00          0.00   \n",
              "75%            0.00          0.00          0.00          0.00          0.00   \n",
              "max            1.00          1.00          1.00          1.00          1.00   \n",
              "\n",
              "       Education_Graduate  Education_Postgraduate  Education_Undergraduate  \\\n",
              "count             3052.00                 3052.00                  3052.00   \n",
              "mean                 0.39                    0.31                     0.07   \n",
              "std                  0.49                    0.46                     0.25   \n",
              "min                  0.00                    0.00                     0.00   \n",
              "25%                  0.00                    0.00                     0.00   \n",
              "50%                  0.00                    0.00                     0.00   \n",
              "75%                  1.00                    1.00                     0.00   \n",
              "max                  1.00                    1.00                     1.00   \n",
              "\n",
              "          Age    Year   Month  TotalMntSpent  FamilySize  Response  \n",
              "count 3052.00 3052.00 3052.00        3052.00     3052.00   3052.00  \n",
              "mean    52.82 2012.80    6.33         770.96        2.26      0.50  \n",
              "std     11.36    0.69    3.25         680.24        0.95      0.50  \n",
              "min     26.00 2012.00    1.00           5.00        1.00      0.00  \n",
              "25%     44.00 2012.00    4.00         104.00        2.00      0.00  \n",
              "50%     52.00 2013.00    6.00         603.00        2.00      0.50  \n",
              "75%     62.00 2013.00    9.00        1345.25        3.00      1.00  \n",
              "max     82.00 2014.00   12.00        2525.00        5.00      1.00  "
            ],
            "text/html": [
              "\n",
              "  <div id=\"df-1698c68b-8ba1-42bf-b7a1-8ac90f814cc1\">\n",
              "    <div class=\"colab-df-container\">\n",
              "      <div>\n",
              "<style scoped>\n",
              "    .dataframe tbody tr th:only-of-type {\n",
              "        vertical-align: middle;\n",
              "    }\n",
              "\n",
              "    .dataframe tbody tr th {\n",
              "        vertical-align: top;\n",
              "    }\n",
              "\n",
              "    .dataframe thead th {\n",
              "        text-align: right;\n",
              "    }\n",
              "</style>\n",
              "<table border=\"1\" class=\"dataframe\">\n",
              "  <thead>\n",
              "    <tr style=\"text-align: right;\">\n",
              "      <th></th>\n",
              "      <th>Income</th>\n",
              "      <th>Recency</th>\n",
              "      <th>NumDealsPurchases</th>\n",
              "      <th>NumWebPurchases</th>\n",
              "      <th>NumCatalogPurchases</th>\n",
              "      <th>NumStorePurchases</th>\n",
              "      <th>NumWebVisitsMonth</th>\n",
              "      <th>AcceptedCmp3</th>\n",
              "      <th>AcceptedCmp4</th>\n",
              "      <th>AcceptedCmp5</th>\n",
              "      <th>AcceptedCmp1</th>\n",
              "      <th>AcceptedCmp2</th>\n",
              "      <th>Education_Graduate</th>\n",
              "      <th>Education_Postgraduate</th>\n",
              "      <th>Education_Undergraduate</th>\n",
              "      <th>Age</th>\n",
              "      <th>Year</th>\n",
              "      <th>Month</th>\n",
              "      <th>TotalMntSpent</th>\n",
              "      <th>FamilySize</th>\n",
              "      <th>Response</th>\n",
              "    </tr>\n",
              "  </thead>\n",
              "  <tbody>\n",
              "    <tr>\n",
              "      <th>count</th>\n",
              "      <td>3052.00</td>\n",
              "      <td>3052.00</td>\n",
              "      <td>3052.00</td>\n",
              "      <td>3052.00</td>\n",
              "      <td>3052.00</td>\n",
              "      <td>3052.00</td>\n",
              "      <td>3052.00</td>\n",
              "      <td>3052.00</td>\n",
              "      <td>3052.00</td>\n",
              "      <td>3052.00</td>\n",
              "      <td>3052.00</td>\n",
              "      <td>3052.00</td>\n",
              "      <td>3052.00</td>\n",
              "      <td>3052.00</td>\n",
              "      <td>3052.00</td>\n",
              "      <td>3052.00</td>\n",
              "      <td>3052.00</td>\n",
              "      <td>3052.00</td>\n",
              "      <td>3052.00</td>\n",
              "      <td>3052.00</td>\n",
              "      <td>3052.00</td>\n",
              "    </tr>\n",
              "    <tr>\n",
              "      <th>mean</th>\n",
              "      <td>55169.04</td>\n",
              "      <td>42.12</td>\n",
              "      <td>2.14</td>\n",
              "      <td>4.33</td>\n",
              "      <td>3.16</td>\n",
              "      <td>5.74</td>\n",
              "      <td>5.11</td>\n",
              "      <td>0.07</td>\n",
              "      <td>0.06</td>\n",
              "      <td>0.12</td>\n",
              "      <td>0.08</td>\n",
              "      <td>0.01</td>\n",
              "      <td>0.39</td>\n",
              "      <td>0.31</td>\n",
              "      <td>0.07</td>\n",
              "      <td>52.82</td>\n",
              "      <td>2012.80</td>\n",
              "      <td>6.33</td>\n",
              "      <td>770.96</td>\n",
              "      <td>2.26</td>\n",
              "      <td>0.50</td>\n",
              "    </tr>\n",
              "    <tr>\n",
              "      <th>std</th>\n",
              "      <td>22216.44</td>\n",
              "      <td>27.44</td>\n",
              "      <td>1.79</td>\n",
              "      <td>2.62</td>\n",
              "      <td>2.98</td>\n",
              "      <td>3.04</td>\n",
              "      <td>2.41</td>\n",
              "      <td>0.25</td>\n",
              "      <td>0.24</td>\n",
              "      <td>0.32</td>\n",
              "      <td>0.27</td>\n",
              "      <td>0.09</td>\n",
              "      <td>0.49</td>\n",
              "      <td>0.46</td>\n",
              "      <td>0.25</td>\n",
              "      <td>11.36</td>\n",
              "      <td>0.69</td>\n",
              "      <td>3.25</td>\n",
              "      <td>680.24</td>\n",
              "      <td>0.95</td>\n",
              "      <td>0.50</td>\n",
              "    </tr>\n",
              "    <tr>\n",
              "      <th>min</th>\n",
              "      <td>1730.00</td>\n",
              "      <td>0.00</td>\n",
              "      <td>0.00</td>\n",
              "      <td>0.00</td>\n",
              "      <td>0.00</td>\n",
              "      <td>0.00</td>\n",
              "      <td>0.00</td>\n",
              "      <td>0.00</td>\n",
              "      <td>0.00</td>\n",
              "      <td>0.00</td>\n",
              "      <td>0.00</td>\n",
              "      <td>0.00</td>\n",
              "      <td>0.00</td>\n",
              "      <td>0.00</td>\n",
              "      <td>0.00</td>\n",
              "      <td>26.00</td>\n",
              "      <td>2012.00</td>\n",
              "      <td>1.00</td>\n",
              "      <td>5.00</td>\n",
              "      <td>1.00</td>\n",
              "      <td>0.00</td>\n",
              "    </tr>\n",
              "    <tr>\n",
              "      <th>25%</th>\n",
              "      <td>36973.65</td>\n",
              "      <td>18.75</td>\n",
              "      <td>1.00</td>\n",
              "      <td>2.00</td>\n",
              "      <td>1.00</td>\n",
              "      <td>3.00</td>\n",
              "      <td>3.00</td>\n",
              "      <td>0.00</td>\n",
              "      <td>0.00</td>\n",
              "      <td>0.00</td>\n",
              "      <td>0.00</td>\n",
              "      <td>0.00</td>\n",
              "      <td>0.00</td>\n",
              "      <td>0.00</td>\n",
              "      <td>0.00</td>\n",
              "      <td>44.00</td>\n",
              "      <td>2012.00</td>\n",
              "      <td>4.00</td>\n",
              "      <td>104.00</td>\n",
              "      <td>2.00</td>\n",
              "      <td>0.00</td>\n",
              "    </tr>\n",
              "    <tr>\n",
              "      <th>50%</th>\n",
              "      <td>55317.14</td>\n",
              "      <td>39.00</td>\n",
              "      <td>2.00</td>\n",
              "      <td>4.00</td>\n",
              "      <td>2.00</td>\n",
              "      <td>5.00</td>\n",
              "      <td>6.00</td>\n",
              "      <td>0.00</td>\n",
              "      <td>0.00</td>\n",
              "      <td>0.00</td>\n",
              "      <td>0.00</td>\n",
              "      <td>0.00</td>\n",
              "      <td>0.00</td>\n",
              "      <td>0.00</td>\n",
              "      <td>0.00</td>\n",
              "      <td>52.00</td>\n",
              "      <td>2013.00</td>\n",
              "      <td>6.00</td>\n",
              "      <td>603.00</td>\n",
              "      <td>2.00</td>\n",
              "      <td>0.50</td>\n",
              "    </tr>\n",
              "    <tr>\n",
              "      <th>75%</th>\n",
              "      <td>73448.50</td>\n",
              "      <td>63.00</td>\n",
              "      <td>3.00</td>\n",
              "      <td>6.00</td>\n",
              "      <td>5.00</td>\n",
              "      <td>8.00</td>\n",
              "      <td>7.00</td>\n",
              "      <td>0.00</td>\n",
              "      <td>0.00</td>\n",
              "      <td>0.00</td>\n",
              "      <td>0.00</td>\n",
              "      <td>0.00</td>\n",
              "      <td>1.00</td>\n",
              "      <td>1.00</td>\n",
              "      <td>0.00</td>\n",
              "      <td>62.00</td>\n",
              "      <td>2013.00</td>\n",
              "      <td>9.00</td>\n",
              "      <td>1345.25</td>\n",
              "      <td>3.00</td>\n",
              "      <td>1.00</td>\n",
              "    </tr>\n",
              "    <tr>\n",
              "      <th>max</th>\n",
              "      <td>116768.00</td>\n",
              "      <td>99.00</td>\n",
              "      <td>15.00</td>\n",
              "      <td>27.00</td>\n",
              "      <td>28.00</td>\n",
              "      <td>13.00</td>\n",
              "      <td>20.00</td>\n",
              "      <td>1.00</td>\n",
              "      <td>1.00</td>\n",
              "      <td>1.00</td>\n",
              "      <td>1.00</td>\n",
              "      <td>1.00</td>\n",
              "      <td>1.00</td>\n",
              "      <td>1.00</td>\n",
              "      <td>1.00</td>\n",
              "      <td>82.00</td>\n",
              "      <td>2014.00</td>\n",
              "      <td>12.00</td>\n",
              "      <td>2525.00</td>\n",
              "      <td>5.00</td>\n",
              "      <td>1.00</td>\n",
              "    </tr>\n",
              "  </tbody>\n",
              "</table>\n",
              "</div>\n",
              "      <button class=\"colab-df-convert\" onclick=\"convertToInteractive('df-1698c68b-8ba1-42bf-b7a1-8ac90f814cc1')\"\n",
              "              title=\"Convert this dataframe to an interactive table.\"\n",
              "              style=\"display:none;\">\n",
              "        \n",
              "  <svg xmlns=\"http://www.w3.org/2000/svg\" height=\"24px\"viewBox=\"0 0 24 24\"\n",
              "       width=\"24px\">\n",
              "    <path d=\"M0 0h24v24H0V0z\" fill=\"none\"/>\n",
              "    <path d=\"M18.56 5.44l.94 2.06.94-2.06 2.06-.94-2.06-.94-.94-2.06-.94 2.06-2.06.94zm-11 1L8.5 8.5l.94-2.06 2.06-.94-2.06-.94L8.5 2.5l-.94 2.06-2.06.94zm10 10l.94 2.06.94-2.06 2.06-.94-2.06-.94-.94-2.06-.94 2.06-2.06.94z\"/><path d=\"M17.41 7.96l-1.37-1.37c-.4-.4-.92-.59-1.43-.59-.52 0-1.04.2-1.43.59L10.3 9.45l-7.72 7.72c-.78.78-.78 2.05 0 2.83L4 21.41c.39.39.9.59 1.41.59.51 0 1.02-.2 1.41-.59l7.78-7.78 2.81-2.81c.8-.78.8-2.07 0-2.86zM5.41 20L4 18.59l7.72-7.72 1.47 1.35L5.41 20z\"/>\n",
              "  </svg>\n",
              "      </button>\n",
              "      \n",
              "  <style>\n",
              "    .colab-df-container {\n",
              "      display:flex;\n",
              "      flex-wrap:wrap;\n",
              "      gap: 12px;\n",
              "    }\n",
              "\n",
              "    .colab-df-convert {\n",
              "      background-color: #E8F0FE;\n",
              "      border: none;\n",
              "      border-radius: 50%;\n",
              "      cursor: pointer;\n",
              "      display: none;\n",
              "      fill: #1967D2;\n",
              "      height: 32px;\n",
              "      padding: 0 0 0 0;\n",
              "      width: 32px;\n",
              "    }\n",
              "\n",
              "    .colab-df-convert:hover {\n",
              "      background-color: #E2EBFA;\n",
              "      box-shadow: 0px 1px 2px rgba(60, 64, 67, 0.3), 0px 1px 3px 1px rgba(60, 64, 67, 0.15);\n",
              "      fill: #174EA6;\n",
              "    }\n",
              "\n",
              "    [theme=dark] .colab-df-convert {\n",
              "      background-color: #3B4455;\n",
              "      fill: #D2E3FC;\n",
              "    }\n",
              "\n",
              "    [theme=dark] .colab-df-convert:hover {\n",
              "      background-color: #434B5C;\n",
              "      box-shadow: 0px 1px 3px 1px rgba(0, 0, 0, 0.15);\n",
              "      filter: drop-shadow(0px 1px 2px rgba(0, 0, 0, 0.3));\n",
              "      fill: #FFFFFF;\n",
              "    }\n",
              "  </style>\n",
              "\n",
              "      <script>\n",
              "        const buttonEl =\n",
              "          document.querySelector('#df-1698c68b-8ba1-42bf-b7a1-8ac90f814cc1 button.colab-df-convert');\n",
              "        buttonEl.style.display =\n",
              "          google.colab.kernel.accessAllowed ? 'block' : 'none';\n",
              "\n",
              "        async function convertToInteractive(key) {\n",
              "          const element = document.querySelector('#df-1698c68b-8ba1-42bf-b7a1-8ac90f814cc1');\n",
              "          const dataTable =\n",
              "            await google.colab.kernel.invokeFunction('convertToInteractive',\n",
              "                                                     [key], {});\n",
              "          if (!dataTable) return;\n",
              "\n",
              "          const docLinkHtml = 'Like what you see? Visit the ' +\n",
              "            '<a target=\"_blank\" href=https://colab.research.google.com/notebooks/data_table.ipynb>data table notebook</a>'\n",
              "            + ' to learn more about interactive tables.';\n",
              "          element.innerHTML = '';\n",
              "          dataTable['output_type'] = 'display_data';\n",
              "          await google.colab.output.renderOutput(dataTable, element);\n",
              "          const docLink = document.createElement('div');\n",
              "          docLink.innerHTML = docLinkHtml;\n",
              "          element.appendChild(docLink);\n",
              "        }\n",
              "      </script>\n",
              "    </div>\n",
              "  </div>\n",
              "  "
            ]
          },
          "metadata": {},
          "execution_count": 85
        }
      ],
      "source": [
        "# Let's take a look at the descriptive statistics of our new data after the SMOTE technique\n",
        "df_balanced.describe()"
      ]
    },
    {
      "cell_type": "code",
      "execution_count": null,
      "metadata": {
        "colab": {
          "base_uri": "https://localhost:8080/"
        },
        "id": "LZDwH71b5TI8",
        "outputId": "5bed07d5-a9ae-4b68-8371-310a03a0f007"
      },
      "outputs": [
        {
          "output_type": "stream",
          "name": "stderr",
          "text": [
            "/usr/local/lib/python3.8/dist-packages/sklearn/utils/validation.py:993: DataConversionWarning: A column-vector y was passed when a 1d array was expected. Please change the shape of y to (n_samples, ), for example using ravel().\n",
            "  y = column_or_1d(y, warn=True)\n",
            "/usr/local/lib/python3.8/dist-packages/sklearn/linear_model/_logistic.py:814: ConvergenceWarning: lbfgs failed to converge (status=1):\n",
            "STOP: TOTAL NO. of ITERATIONS REACHED LIMIT.\n",
            "\n",
            "Increase the number of iterations (max_iter) or scale the data as shown in:\n",
            "    https://scikit-learn.org/stable/modules/preprocessing.html\n",
            "Please also refer to the documentation for alternative solver options:\n",
            "    https://scikit-learn.org/stable/modules/linear_model.html#logistic-regression\n",
            "  n_iter_i = _check_optimize_result(\n",
            "<ipython-input-86-e27397bc1dce>:9: DataConversionWarning: A column-vector y was passed when a 1d array was expected. Please change the shape of y to (n_samples,), for example using ravel().\n",
            "  model = algorithm().fit(X_train,y_train)\n",
            "/usr/local/lib/python3.8/dist-packages/sklearn/preprocessing/_label.py:98: DataConversionWarning: A column-vector y was passed when a 1d array was expected. Please change the shape of y to (n_samples, ), for example using ravel().\n",
            "  y = column_or_1d(y, warn=True)\n",
            "/usr/local/lib/python3.8/dist-packages/sklearn/preprocessing/_label.py:133: DataConversionWarning: A column-vector y was passed when a 1d array was expected. Please change the shape of y to (n_samples, ), for example using ravel().\n",
            "  y = column_or_1d(y, warn=True)\n",
            "/usr/local/lib/python3.8/dist-packages/sklearn/neighbors/_classification.py:198: DataConversionWarning: A column-vector y was passed when a 1d array was expected. Please change the shape of y to (n_samples,), for example using ravel().\n",
            "  return self._fit(X, y)\n",
            "/usr/local/lib/python3.8/dist-packages/sklearn/utils/validation.py:993: DataConversionWarning: A column-vector y was passed when a 1d array was expected. Please change the shape of y to (n_samples, ), for example using ravel().\n",
            "  y = column_or_1d(y, warn=True)\n",
            "/usr/local/lib/python3.8/dist-packages/sklearn/neural_network/_multilayer_perceptron.py:1109: DataConversionWarning: A column-vector y was passed when a 1d array was expected. Please change the shape of y to (n_samples, ), for example using ravel().\n",
            "  y = column_or_1d(y, warn=True)\n",
            "/usr/local/lib/python3.8/dist-packages/sklearn/preprocessing/_label.py:98: DataConversionWarning: A column-vector y was passed when a 1d array was expected. Please change the shape of y to (n_samples, ), for example using ravel().\n",
            "  y = column_or_1d(y, warn=True)\n",
            "/usr/local/lib/python3.8/dist-packages/sklearn/preprocessing/_label.py:133: DataConversionWarning: A column-vector y was passed when a 1d array was expected. Please change the shape of y to (n_samples, ), for example using ravel().\n",
            "  y = column_or_1d(y, warn=True)\n"
          ]
        }
      ],
      "source": [
        "algorithms_list = [LogisticRegression, RandomForestClassifier, xgb.XGBClassifier, KNeighborsClassifier, SVC, MLPClassifier, DecisionTreeClassifier, LGBMClassifier]\n",
        "\n",
        "result = []\n",
        "results = pd.DataFrame(columns=[\"Models\", \"Accuracy\", \"Precision\", \"Recall\", \"f1_score\"])\n",
        "models = []\n",
        "for algorithm in algorithms_list:\n",
        "\n",
        "    # modelling\n",
        "    model = algorithm().fit(X_train,y_train)\n",
        "    models.append(model)\n",
        "    model_name = model.__class__.__name__\n",
        "    y_pred = model.predict(X_test)\n",
        "\n",
        "    # to calculate metrics\n",
        "    accuracy = accuracy_score(y_test,y_pred)\n",
        "    precision = precision_score(y_test, y_pred)\n",
        "    recall = recall_score(y_test, y_pred)\n",
        "    f1_score = 2 *(precision * recall) / (precision + recall)\n",
        "\n",
        "    result = pd.DataFrame([[model_name, accuracy*100, precision*100, recall*100, f1_score*100]], columns = [\"Models\", \"Accuracy\", \"Precision\", \"Recall\", \"f1_score\"])\n",
        "    results = results.append(result)"
      ]
    },
    {
      "cell_type": "code",
      "execution_count": null,
      "metadata": {
        "colab": {
          "base_uri": "https://localhost:8080/",
          "height": 300
        },
        "id": "HymGKuVklVRr",
        "outputId": "0dc0755d-54c3-4428-a02c-58bf780f7106"
      },
      "outputs": [
        {
          "output_type": "execute_result",
          "data": {
            "text/plain": [
              "                   Models  Accuracy  Precision  Recall  f1_score\n",
              "0           XGBClassifier     85.43      52.63   57.97     55.17\n",
              "0          LGBMClassifier     85.43      52.86   53.62     53.24\n",
              "0  RandomForestClassifier     84.53      50.00   49.28     49.64\n",
              "0  DecisionTreeClassifier     82.51      45.36   63.77     53.01\n",
              "0      LogisticRegression     76.01      34.68   62.32     44.56\n",
              "0    KNeighborsClassifier     70.63      30.63   71.01     42.79\n",
              "0                     SVC     69.51      24.43   46.38     32.00\n",
              "0           MLPClassifier     30.94      17.44   92.75     29.36"
            ],
            "text/html": [
              "\n",
              "  <div id=\"df-fa63c2be-7710-4b9b-849a-813c1060ec19\">\n",
              "    <div class=\"colab-df-container\">\n",
              "      <div>\n",
              "<style scoped>\n",
              "    .dataframe tbody tr th:only-of-type {\n",
              "        vertical-align: middle;\n",
              "    }\n",
              "\n",
              "    .dataframe tbody tr th {\n",
              "        vertical-align: top;\n",
              "    }\n",
              "\n",
              "    .dataframe thead th {\n",
              "        text-align: right;\n",
              "    }\n",
              "</style>\n",
              "<table border=\"1\" class=\"dataframe\">\n",
              "  <thead>\n",
              "    <tr style=\"text-align: right;\">\n",
              "      <th></th>\n",
              "      <th>Models</th>\n",
              "      <th>Accuracy</th>\n",
              "      <th>Precision</th>\n",
              "      <th>Recall</th>\n",
              "      <th>f1_score</th>\n",
              "    </tr>\n",
              "  </thead>\n",
              "  <tbody>\n",
              "    <tr>\n",
              "      <th>0</th>\n",
              "      <td>XGBClassifier</td>\n",
              "      <td>85.43</td>\n",
              "      <td>52.63</td>\n",
              "      <td>57.97</td>\n",
              "      <td>55.17</td>\n",
              "    </tr>\n",
              "    <tr>\n",
              "      <th>0</th>\n",
              "      <td>LGBMClassifier</td>\n",
              "      <td>85.43</td>\n",
              "      <td>52.86</td>\n",
              "      <td>53.62</td>\n",
              "      <td>53.24</td>\n",
              "    </tr>\n",
              "    <tr>\n",
              "      <th>0</th>\n",
              "      <td>RandomForestClassifier</td>\n",
              "      <td>84.53</td>\n",
              "      <td>50.00</td>\n",
              "      <td>49.28</td>\n",
              "      <td>49.64</td>\n",
              "    </tr>\n",
              "    <tr>\n",
              "      <th>0</th>\n",
              "      <td>DecisionTreeClassifier</td>\n",
              "      <td>82.51</td>\n",
              "      <td>45.36</td>\n",
              "      <td>63.77</td>\n",
              "      <td>53.01</td>\n",
              "    </tr>\n",
              "    <tr>\n",
              "      <th>0</th>\n",
              "      <td>LogisticRegression</td>\n",
              "      <td>76.01</td>\n",
              "      <td>34.68</td>\n",
              "      <td>62.32</td>\n",
              "      <td>44.56</td>\n",
              "    </tr>\n",
              "    <tr>\n",
              "      <th>0</th>\n",
              "      <td>KNeighborsClassifier</td>\n",
              "      <td>70.63</td>\n",
              "      <td>30.63</td>\n",
              "      <td>71.01</td>\n",
              "      <td>42.79</td>\n",
              "    </tr>\n",
              "    <tr>\n",
              "      <th>0</th>\n",
              "      <td>SVC</td>\n",
              "      <td>69.51</td>\n",
              "      <td>24.43</td>\n",
              "      <td>46.38</td>\n",
              "      <td>32.00</td>\n",
              "    </tr>\n",
              "    <tr>\n",
              "      <th>0</th>\n",
              "      <td>MLPClassifier</td>\n",
              "      <td>30.94</td>\n",
              "      <td>17.44</td>\n",
              "      <td>92.75</td>\n",
              "      <td>29.36</td>\n",
              "    </tr>\n",
              "  </tbody>\n",
              "</table>\n",
              "</div>\n",
              "      <button class=\"colab-df-convert\" onclick=\"convertToInteractive('df-fa63c2be-7710-4b9b-849a-813c1060ec19')\"\n",
              "              title=\"Convert this dataframe to an interactive table.\"\n",
              "              style=\"display:none;\">\n",
              "        \n",
              "  <svg xmlns=\"http://www.w3.org/2000/svg\" height=\"24px\"viewBox=\"0 0 24 24\"\n",
              "       width=\"24px\">\n",
              "    <path d=\"M0 0h24v24H0V0z\" fill=\"none\"/>\n",
              "    <path d=\"M18.56 5.44l.94 2.06.94-2.06 2.06-.94-2.06-.94-.94-2.06-.94 2.06-2.06.94zm-11 1L8.5 8.5l.94-2.06 2.06-.94-2.06-.94L8.5 2.5l-.94 2.06-2.06.94zm10 10l.94 2.06.94-2.06 2.06-.94-2.06-.94-.94-2.06-.94 2.06-2.06.94z\"/><path d=\"M17.41 7.96l-1.37-1.37c-.4-.4-.92-.59-1.43-.59-.52 0-1.04.2-1.43.59L10.3 9.45l-7.72 7.72c-.78.78-.78 2.05 0 2.83L4 21.41c.39.39.9.59 1.41.59.51 0 1.02-.2 1.41-.59l7.78-7.78 2.81-2.81c.8-.78.8-2.07 0-2.86zM5.41 20L4 18.59l7.72-7.72 1.47 1.35L5.41 20z\"/>\n",
              "  </svg>\n",
              "      </button>\n",
              "      \n",
              "  <style>\n",
              "    .colab-df-container {\n",
              "      display:flex;\n",
              "      flex-wrap:wrap;\n",
              "      gap: 12px;\n",
              "    }\n",
              "\n",
              "    .colab-df-convert {\n",
              "      background-color: #E8F0FE;\n",
              "      border: none;\n",
              "      border-radius: 50%;\n",
              "      cursor: pointer;\n",
              "      display: none;\n",
              "      fill: #1967D2;\n",
              "      height: 32px;\n",
              "      padding: 0 0 0 0;\n",
              "      width: 32px;\n",
              "    }\n",
              "\n",
              "    .colab-df-convert:hover {\n",
              "      background-color: #E2EBFA;\n",
              "      box-shadow: 0px 1px 2px rgba(60, 64, 67, 0.3), 0px 1px 3px 1px rgba(60, 64, 67, 0.15);\n",
              "      fill: #174EA6;\n",
              "    }\n",
              "\n",
              "    [theme=dark] .colab-df-convert {\n",
              "      background-color: #3B4455;\n",
              "      fill: #D2E3FC;\n",
              "    }\n",
              "\n",
              "    [theme=dark] .colab-df-convert:hover {\n",
              "      background-color: #434B5C;\n",
              "      box-shadow: 0px 1px 3px 1px rgba(0, 0, 0, 0.15);\n",
              "      filter: drop-shadow(0px 1px 2px rgba(0, 0, 0, 0.3));\n",
              "      fill: #FFFFFF;\n",
              "    }\n",
              "  </style>\n",
              "\n",
              "      <script>\n",
              "        const buttonEl =\n",
              "          document.querySelector('#df-fa63c2be-7710-4b9b-849a-813c1060ec19 button.colab-df-convert');\n",
              "        buttonEl.style.display =\n",
              "          google.colab.kernel.accessAllowed ? 'block' : 'none';\n",
              "\n",
              "        async function convertToInteractive(key) {\n",
              "          const element = document.querySelector('#df-fa63c2be-7710-4b9b-849a-813c1060ec19');\n",
              "          const dataTable =\n",
              "            await google.colab.kernel.invokeFunction('convertToInteractive',\n",
              "                                                     [key], {});\n",
              "          if (!dataTable) return;\n",
              "\n",
              "          const docLinkHtml = 'Like what you see? Visit the ' +\n",
              "            '<a target=\"_blank\" href=https://colab.research.google.com/notebooks/data_table.ipynb>data table notebook</a>'\n",
              "            + ' to learn more about interactive tables.';\n",
              "          element.innerHTML = '';\n",
              "          dataTable['output_type'] = 'display_data';\n",
              "          await google.colab.output.renderOutput(dataTable, element);\n",
              "          const docLink = document.createElement('div');\n",
              "          docLink.innerHTML = docLinkHtml;\n",
              "          element.appendChild(docLink);\n",
              "        }\n",
              "      </script>\n",
              "    </div>\n",
              "  </div>\n",
              "  "
            ]
          },
          "metadata": {},
          "execution_count": 87
        }
      ],
      "source": [
        "results.sort_values('Accuracy', ascending=False)"
      ]
    },
    {
      "cell_type": "markdown",
      "metadata": {
        "id": "8JSDWzvSapoi"
      },
      "source": [
        "##5. MODEL TUNING"
      ]
    },
    {
      "cell_type": "markdown",
      "metadata": {
        "id": "6feExvQUa-JN"
      },
      "source": [
        "####LGBM TUNING"
      ]
    },
    {
      "cell_type": "code",
      "execution_count": null,
      "metadata": {
        "id": "_REb9Wv_a-JN"
      },
      "outputs": [],
      "source": [
        "lgbm = LGBMClassifier()"
      ]
    },
    {
      "cell_type": "code",
      "execution_count": null,
      "metadata": {
        "id": "u8ZZkAsda-JO"
      },
      "outputs": [],
      "source": [
        "lgbm_params = {\"learning_rate\":[0.001,0.01,0.1],\n",
        "              \"n_estimators\":[200,500,100],\n",
        "              \"max_depth\":[1,2,35,8]}"
      ]
    },
    {
      "cell_type": "code",
      "execution_count": null,
      "metadata": {
        "colab": {
          "base_uri": "https://localhost:8080/"
        },
        "id": "VQLaWVDba-JO",
        "outputId": "918dccf2-7517-44a0-e966-6d80dd7f1227"
      },
      "outputs": [
        {
          "name": "stdout",
          "output_type": "stream",
          "text": [
            "Fitting 10 folds for each of 36 candidates, totalling 360 fits\n"
          ]
        },
        {
          "name": "stderr",
          "output_type": "stream",
          "text": [
            "/usr/local/lib/python3.8/dist-packages/sklearn/preprocessing/_label.py:98: DataConversionWarning: A column-vector y was passed when a 1d array was expected. Please change the shape of y to (n_samples, ), for example using ravel().\n",
            "  y = column_or_1d(y, warn=True)\n",
            "/usr/local/lib/python3.8/dist-packages/sklearn/preprocessing/_label.py:133: DataConversionWarning: A column-vector y was passed when a 1d array was expected. Please change the shape of y to (n_samples, ), for example using ravel().\n",
            "  y = column_or_1d(y, warn=True)\n"
          ]
        }
      ],
      "source": [
        "lgbm_cv_model = GridSearchCV(lgbm,lgbm_params, cv=10, n_jobs=-1, verbose=2).fit(X_train,y_train)"
      ]
    },
    {
      "cell_type": "code",
      "execution_count": null,
      "metadata": {
        "colab": {
          "base_uri": "https://localhost:8080/"
        },
        "id": "hnTpKqBya-JO",
        "outputId": "a90a626e-18d1-4399-c144-32a4a67aefdb"
      },
      "outputs": [
        {
          "output_type": "execute_result",
          "data": {
            "text/plain": [
              "{'learning_rate': 0.1, 'max_depth': 35, 'n_estimators': 500}"
            ]
          },
          "metadata": {},
          "execution_count": 236
        }
      ],
      "source": [
        "lgbm_cv_model.best_params_"
      ]
    },
    {
      "cell_type": "code",
      "execution_count": null,
      "metadata": {
        "colab": {
          "base_uri": "https://localhost:8080/"
        },
        "id": "G7ZnbJz0a-JO",
        "outputId": "5d68b641-be2f-48b6-e712-ed45e29a15a6"
      },
      "outputs": [
        {
          "output_type": "stream",
          "name": "stderr",
          "text": [
            "/usr/local/lib/python3.8/dist-packages/sklearn/preprocessing/_label.py:98: DataConversionWarning: A column-vector y was passed when a 1d array was expected. Please change the shape of y to (n_samples, ), for example using ravel().\n",
            "  y = column_or_1d(y, warn=True)\n",
            "/usr/local/lib/python3.8/dist-packages/sklearn/preprocessing/_label.py:133: DataConversionWarning: A column-vector y was passed when a 1d array was expected. Please change the shape of y to (n_samples, ), for example using ravel().\n",
            "  y = column_or_1d(y, warn=True)\n"
          ]
        },
        {
          "output_type": "execute_result",
          "data": {
            "text/plain": [
              "0.8542600896860987"
            ]
          },
          "metadata": {},
          "execution_count": 91
        }
      ],
      "source": [
        "# final model\n",
        "lgbm_tuned = LGBMClassifier(learning_rate=0.1, max_depth=8, n_estimators=500).fit(X_train,y_train)\n",
        "y_pred = lgbm_tuned.predict(X_test)\n",
        "accuracy_score(y_test,y_pred)"
      ]
    },
    {
      "cell_type": "code",
      "source": [
        "print(classification_report(y_test,y_pred))"
      ],
      "metadata": {
        "colab": {
          "base_uri": "https://localhost:8080/"
        },
        "id": "Yyboz25yGpiV",
        "outputId": "f5393c29-e298-4368-d4ff-3ade9d83efce"
      },
      "execution_count": null,
      "outputs": [
        {
          "output_type": "stream",
          "name": "stdout",
          "text": [
            "              precision    recall  f1-score   support\n",
            "\n",
            "           0       0.92      0.91      0.91       377\n",
            "           1       0.53      0.55      0.54        69\n",
            "\n",
            "    accuracy                           0.85       446\n",
            "   macro avg       0.72      0.73      0.73       446\n",
            "weighted avg       0.86      0.85      0.86       446\n",
            "\n"
          ]
        }
      ]
    },
    {
      "cell_type": "code",
      "execution_count": null,
      "metadata": {
        "colab": {
          "base_uri": "https://localhost:8080/",
          "height": 295
        },
        "id": "brTyOY2rdgbi",
        "outputId": "09e9e187-1835-4ad5-ffe7-7d9fea2c5134"
      },
      "outputs": [
        {
          "output_type": "display_data",
          "data": {
            "text/plain": [
              "<Figure size 432x288 with 1 Axes>"
            ],
            "image/png": "[encoded data removed]"
          },
          "metadata": {}
        }
      ],
      "source": [
        "lgbm_roc_auc = roc_auc_score(y_test, lgbm_tuned.predict(X_test))\n",
        "fpr, tpr, thresholds = roc_curve(y_test, lgbm_tuned.predict_proba(X_test)[:,1])\n",
        "plt.figure()\n",
        "plt.plot(fpr,tpr, label='AUC (area = %0.2f)' % lgbm_roc_auc)\n",
        "plt.plot([0, 1],[0, 1], 'r--')\n",
        "plt.xlim([0.0, 1.0])\n",
        "plt.ylim([0.0,1.02])\n",
        "plt.xlabel('False Positive Rate')\n",
        "plt.ylabel('True Positive Rate')\n",
        "plt.title(\"Reciver Operating Characteristic\")\n",
        "plt.legend(loc = \"lower right\")\n",
        "plt.show()"
      ]
    },
    {
      "cell_type": "markdown",
      "metadata": {
        "id": "7wjzaRmGc1Eu"
      },
      "source": [
        "####XGBOOST TUNING"
      ]
    },
    {
      "cell_type": "code",
      "execution_count": null,
      "metadata": {
        "id": "MGgiuPHGc1Eu"
      },
      "outputs": [],
      "source": [
        "xgb = XGBClassifier()"
      ]
    },
    {
      "cell_type": "code",
      "execution_count": null,
      "metadata": {
        "id": "x2i-OojMc1Eu"
      },
      "outputs": [],
      "source": [
        "# Typical values selected for XGBoost\n",
        "xgb_params =  {\"learning_rate\": [0.1,0.001,0.01],\n",
        "             \"n_estimators\": [100,500,800,1000],\n",
        "             \"subsample\": [0.6,0.8,1],\n",
        "              \"max_depth\": [3,5,7]}"
      ]
    },
    {
      "cell_type": "code",
      "execution_count": null,
      "metadata": {
        "colab": {
          "base_uri": "https://localhost:8080/"
        },
        "id": "1USyv4_jc1Eu",
        "outputId": "f5f97c2d-f444-45a1-9034-503aad96de4c"
      },
      "outputs": [
        {
          "metadata": {
            "tags": null
          },
          "name": "stdout",
          "output_type": "stream",
          "text": [
            "Fitting 10 folds for each of 108 candidates, totalling 1080 fits\n"
          ]
        },
        {
          "output_type": "stream",
          "name": "stderr",
          "text": [
            "/usr/local/lib/python3.8/dist-packages/sklearn/preprocessing/_label.py:98: DataConversionWarning: A column-vector y was passed when a 1d array was expected. Please change the shape of y to (n_samples, ), for example using ravel().\n",
            "  y = column_or_1d(y, warn=True)\n",
            "/usr/local/lib/python3.8/dist-packages/sklearn/preprocessing/_label.py:133: DataConversionWarning: A column-vector y was passed when a 1d array was expected. Please change the shape of y to (n_samples, ), for example using ravel().\n",
            "  y = column_or_1d(y, warn=True)\n"
          ]
        }
      ],
      "source": [
        "xgb_cv_model = GridSearchCV(xgb, xgb_params, cv=10, n_jobs=-1, verbose=2).fit(X_train, y_train)"
      ]
    },
    {
      "cell_type": "code",
      "execution_count": null,
      "metadata": {
        "id": "nhitvDnIc1Ev",
        "colab": {
          "base_uri": "https://localhost:8080/"
        },
        "outputId": "9a9b73e2-997f-4186-f280-6a0f96de7dba"
      },
      "outputs": [
        {
          "output_type": "execute_result",
          "data": {
            "text/plain": [
              "{'learning_rate': 0.1, 'max_depth': 7, 'n_estimators': 500, 'subsample': 0.8}"
            ]
          },
          "metadata": {},
          "execution_count": 218
        }
      ],
      "source": [
        "xgb_cv_model.best_params_"
      ]
    },
    {
      "cell_type": "code",
      "execution_count": null,
      "metadata": {
        "colab": {
          "base_uri": "https://localhost:8080/"
        },
        "id": "IdPSLkyuc1Ev",
        "outputId": "f7ed8883-6842-4e6f-9ebb-05c3cad9720f"
      },
      "outputs": [
        {
          "output_type": "execute_result",
          "data": {
            "text/plain": [
              "0.8587443946188341"
            ]
          },
          "metadata": {},
          "execution_count": 96
        }
      ],
      "source": [
        "xgb_tuned = XGBClassifier(learning_rate= 0.1, max_depth=7, n_estimators=500, subsample=0.8).fit(X_train,y_train)\n",
        "y_pred = xgb_tuned.predict(X_test)\n",
        "accuracy_score(y_test,y_pred)"
      ]
    },
    {
      "cell_type": "code",
      "source": [
        "print(classification_report(y_test,y_pred))"
      ],
      "metadata": {
        "colab": {
          "base_uri": "https://localhost:8080/"
        },
        "id": "u_qsLS8lo_3I",
        "outputId": "591ff935-e989-45b2-91c3-e05dc501468e"
      },
      "execution_count": null,
      "outputs": [
        {
          "output_type": "stream",
          "name": "stdout",
          "text": [
            "              precision    recall  f1-score   support\n",
            "\n",
            "           0       0.92      0.91      0.92       377\n",
            "           1       0.54      0.59      0.57        69\n",
            "\n",
            "    accuracy                           0.86       446\n",
            "   macro avg       0.73      0.75      0.74       446\n",
            "weighted avg       0.86      0.86      0.86       446\n",
            "\n"
          ]
        }
      ]
    },
    {
      "cell_type": "code",
      "execution_count": null,
      "metadata": {
        "colab": {
          "base_uri": "https://localhost:8080/",
          "height": 295
        },
        "id": "5WmGdju-gCAn",
        "outputId": "073d3d55-6846-4fc1-ec8f-c2dba4894587"
      },
      "outputs": [
        {
          "output_type": "display_data",
          "data": {
            "text/plain": [
              "<Figure size 432x288 with 1 Axes>"
            ],
            "image/png": "[encoded data removed]"
          },
          "metadata": {}
        }
      ],
      "source": [
        "xgb_roc_auc = roc_auc_score(y_test, xgb_tuned.predict(X_test))\n",
        "fpr, tpr, thresholds = roc_curve(y_test, xgb_tuned.predict_proba(X_test)[:,1])\n",
        "plt.figure()\n",
        "plt.plot(fpr,tpr, label='AUC (area = %0.2f)' % xgb_roc_auc)\n",
        "plt.plot([0, 1],[0, 1], 'r--')\n",
        "plt.xlim([0.0, 1.0])\n",
        "plt.ylim([0.0,1.02])\n",
        "plt.xlabel('False Positive Rate')\n",
        "plt.ylabel('True Positive Rate')\n",
        "plt.title(\"Reciver Operating Characteristic\")\n",
        "plt.legend(loc = \"lower right\")\n",
        "plt.show()"
      ]
    },
    {
      "cell_type": "markdown",
      "metadata": {
        "id": "7IPkJGzzc1Ew"
      },
      "source": [
        "####RANDOM FORESTS TUNING"
      ]
    },
    {
      "cell_type": "code",
      "execution_count": null,
      "metadata": {
        "id": "mK4QtpULc1Ew"
      },
      "outputs": [],
      "source": [
        "rf = RandomForestClassifier()"
      ]
    },
    {
      "cell_type": "code",
      "execution_count": null,
      "metadata": {
        "id": "yh3erxsPc1Ew"
      },
      "outputs": [],
      "source": [
        "rf_params = {'n_estimators': [100,200,500,1000],\n",
        "            \"max_features\": [3,5,7,8],\n",
        "            \"min_samples_split\": [2,5,10,20]}"
      ]
    },
    {
      "cell_type": "code",
      "execution_count": null,
      "metadata": {
        "colab": {
          "base_uri": "https://localhost:8080/"
        },
        "id": "zDSPhea4c1Ex",
        "outputId": "ee98ab5b-0849-4885-9cee-d7acb3be77b9"
      },
      "outputs": [
        {
          "output_type": "stream",
          "name": "stdout",
          "text": [
            "Fitting 10 folds for each of 64 candidates, totalling 640 fits\n"
          ]
        },
        {
          "output_type": "stream",
          "name": "stderr",
          "text": [
            "/usr/local/lib/python3.8/dist-packages/sklearn/model_selection/_search.py:926: DataConversionWarning: A column-vector y was passed when a 1d array was expected. Please change the shape of y to (n_samples,), for example using ravel().\n",
            "  self.best_estimator_.fit(X, y, **fit_params)\n"
          ]
        }
      ],
      "source": [
        "rf_cv_model = GridSearchCV(rf,rf_params, cv=10, n_jobs=-1, verbose=2).fit(X_train,y_train)"
      ]
    },
    {
      "cell_type": "code",
      "execution_count": null,
      "metadata": {
        "colab": {
          "base_uri": "https://localhost:8080/"
        },
        "id": "NLoQYnvkc1Ex",
        "outputId": "5e89f0fe-f68e-45c9-ecc8-800c21fe47a9"
      },
      "outputs": [
        {
          "output_type": "execute_result",
          "data": {
            "text/plain": [
              "{'max_features': 3, 'min_samples_split': 2, 'n_estimators': 200}"
            ]
          },
          "metadata": {},
          "execution_count": 229
        }
      ],
      "source": [
        "rf_cv_model.best_params_"
      ]
    },
    {
      "cell_type": "code",
      "execution_count": null,
      "metadata": {
        "colab": {
          "base_uri": "https://localhost:8080/"
        },
        "id": "uJhF2bHEc1Ex",
        "outputId": "8d49820a-414c-4a69-8b5f-04d038cfc9c1"
      },
      "outputs": [
        {
          "output_type": "stream",
          "name": "stderr",
          "text": [
            "<ipython-input-101-2793d0887784>:2: DataConversionWarning: A column-vector y was passed when a 1d array was expected. Please change the shape of y to (n_samples,), for example using ravel().\n",
            "  rf_tuned = RandomForestClassifier(max_features=3, min_samples_split=2, n_estimators=200).fit(X_train,y_train)\n"
          ]
        },
        {
          "output_type": "execute_result",
          "data": {
            "text/plain": [
              "0.852017937219731"
            ]
          },
          "metadata": {},
          "execution_count": 101
        }
      ],
      "source": [
        "# final model\n",
        "rf_tuned = RandomForestClassifier(max_features=3, min_samples_split=2, n_estimators=200).fit(X_train,y_train)\n",
        "y_pred = rf_tuned.predict(X_test)\n",
        "accuracy_score(y_test,y_pred)"
      ]
    },
    {
      "cell_type": "code",
      "execution_count": null,
      "metadata": {
        "colab": {
          "base_uri": "https://localhost:8080/"
        },
        "id": "WKd59659c1Ey",
        "outputId": "9fc9e216-8450-4cc1-82f6-c04346f3ac49"
      },
      "outputs": [
        {
          "output_type": "stream",
          "name": "stdout",
          "text": [
            "              precision    recall  f1-score   support\n",
            "\n",
            "           0       0.91      0.92      0.91       377\n",
            "           1       0.52      0.49      0.51        69\n",
            "\n",
            "    accuracy                           0.85       446\n",
            "   macro avg       0.72      0.71      0.71       446\n",
            "weighted avg       0.85      0.85      0.85       446\n",
            "\n"
          ]
        }
      ],
      "source": [
        "print(classification_report(y_test,y_pred))"
      ]
    },
    {
      "cell_type": "code",
      "execution_count": null,
      "metadata": {
        "colab": {
          "base_uri": "https://localhost:8080/",
          "height": 295
        },
        "id": "2uRo9SIBgJTd",
        "outputId": "8a6ebd9d-c8ea-45a8-b5dc-aefe248b29a1"
      },
      "outputs": [
        {
          "output_type": "display_data",
          "data": {
            "text/plain": [
              "<Figure size 432x288 with 1 Axes>"
            ],
            "image/png": "[encoded data removed]"
          },
          "metadata": {}
        }
      ],
      "source": [
        "rf_roc_auc = roc_auc_score(y_test, rf_tuned.predict(X_test))\n",
        "fpr, tpr, thresholds = roc_curve(y_test, rf_tuned.predict_proba(X_test)[:,1])\n",
        "plt.figure()\n",
        "plt.plot(fpr,tpr, label='AUC (area = %0.2f)' % rf_roc_auc)\n",
        "plt.plot([0, 1],[0, 1], 'r--')\n",
        "plt.xlim([0.0, 1.0])\n",
        "plt.ylim([0.0,1.02])\n",
        "plt.xlabel('False Positive Rate')\n",
        "plt.ylabel('True Positive Rate')\n",
        "plt.title(\"Reciver Operating Characteristic\")\n",
        "plt.legend(loc = \"lower right\")\n",
        "plt.show()"
      ]
    },
    {
      "cell_type": "markdown",
      "source": [
        "#BONUS"
      ],
      "metadata": {
        "id": "-lE1cdXfPeEn"
      }
    },
    {
      "cell_type": "markdown",
      "source": [
        "Lastly, we can compare importance of our new features. Finally, we can look at the importance of our new features. We want to have contributed a little to our model with the features created."
      ],
      "metadata": {
        "id": "bgg4o93JNfGb"
      }
    },
    {
      "cell_type": "code",
      "execution_count": null,
      "metadata": {
        "colab": {
          "base_uri": "https://localhost:8080/",
          "height": 295
        },
        "outputId": "096c2f57-5a21-421b-8981-e4e6228cda22",
        "id": "ZJF4bhRK5_sQ"
      },
      "outputs": [
        {
          "output_type": "display_data",
          "data": {
            "text/plain": [
              "<Figure size 432x288 with 1 Axes>"
            ],
            "image/png": "[encoded data removed]"
          },
          "metadata": {}
        }
      ],
      "source": [
        "y_pred = rf_tuned.predict(X_test)\n",
        "\n",
        "feature_importance = pd.Series(rf_tuned.feature_importances_,\n",
        "                        index=X_train.columns).sort_values(ascending=False)\n",
        "sns.barplot(x=feature_importance, y=feature_importance.index)\n",
        "plt.xlabel('Feature Importance Scores')\n",
        "plt.ylabel('Features')\n",
        "plt.title(\"Feature Importance Ranking\")\n",
        "plt.show()"
      ]
    },
    {
      "cell_type": "markdown",
      "source": [
        "YES! Our new features are at the top of the list of importance."
      ],
      "metadata": {
        "id": "8iTJVHBUON5m"
      }
    },
    {
      "cell_type": "markdown",
      "metadata": {
        "id": "atjdoTDv4nww"
      },
      "source": [
        "#CONCLUSION"
      ]
    },
    {
      "cell_type": "markdown",
      "metadata": {
        "id": "UvZT01CT419H"
      },
      "source": [
        "We achieve the best result with XGBoost. We don't have big data so we can use XGBoost comfortably, but if we had bigger data we would consider using LightGBM Algorithm to reduce computation time."
      ]
    }
  ]
}
