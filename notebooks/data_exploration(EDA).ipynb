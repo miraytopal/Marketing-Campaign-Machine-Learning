{
  "nbformat": 4,
  "nbformat_minor": 0,
  "metadata": {
    "colab": {
      "provenance": []
    },
    "kernelspec": {
      "name": "python3",
      "display_name": "Python 3"
    },
    "language_info": {
      "name": "python"
    }
  },
  "cells": [
    {
      "cell_type": "markdown",
      "metadata": {
        "id": "RZjnCUpoeMDW"
      },
      "source": [
        "**TABLE OF CONTENTS**\n",
        "1. Data Exploration\n",
        "  \n",
        "    1.1. Imports\n",
        "\n",
        "    1.2. Exploring Dataset\n",
        "\n",
        "    1.3. Variable Analysis\n",
        "2. Data Cleaning\n",
        "\n",
        "    2.1.Missing Data\n",
        "\n",
        "    2.2.Duplicate Data\n",
        "\n",
        "    2.3.Detection of Outliers – IQR approach\n",
        "3. Feature Engineering\n",
        "\n",
        "    4.1 Correlation Analysis\n",
        "\n",
        "    4.2. Feature Encoding\n",
        "4. Model Training\n",
        "5. Model Evaluation and Tuning(Hyper-parameter tuning(HPs-T))\n",
        "\n",
        "Bonus: Feature importance evaluation\n",
        "\n"
      ]
    },
    {
      "cell_type": "markdown",
      "metadata": {
        "id": "ma8cIylESfIq"
      },
      "source": [
        "#####**VARIABLES:**\n",
        "- AcceptedCmp1 - 1 if customer accepted the offer in the 1st campaign, 0 otherwise\n",
        "- AcceptedCmp2 - 1 if customer accepted the offer in the 2nd campaign, 0 otherwise\n",
        "- AcceptedCmp3 - 1 if customer accepted the offer in the 3rd campaign, 0 otherwise\n",
        "- AcceptedCmp4 - 1 if customer accepted the offer in the 4th campaign, 0 otherwise\n",
        "- AcceptedCmp5 - 1 if customer accepted the offer in the 5th campaign, 0 otherwise\n",
        "- Response (target) - 1 if customer accepted the offer in the last campaign, 0 otherwise\n",
        "- Complain - 1 if customer complained in the last 2 years\n",
        "- DtCustomer - date of customer’s enrolment with the company\n",
        "- Education - customer’s level of education\n",
        "- Marital - customer’s marital status\n",
        "- Kidhome - number of small children in customer’s household\n",
        "- Teenhome - number of teenagers in customer’s household\n",
        "- Income - customer’s yearly household income\n",
        "- MntFishProducts - amount spent on fish products in the last 2 years\n",
        "- MntMeatProducts - amount spent on meat products in the last 2 years\n",
        "- MntFruits - amount spent on fruits products in the last 2 years\n",
        "- MntSweetProducts - amount spent on sweet products in the last 2 years\n",
        "- MntWines - amount spent on wine products in the last 2 years\n",
        "- MntGoldProds - amount spent on gold products in the last 2 years\n",
        "- NumDealsPurchases - number of purchases made with discount\n",
        "- NumCatalogPurchases - number of purchases made using catalogue\n",
        "- NumStorePurchases - number of purchases made directly in stores\n",
        "- NumWebPurchases - number of purchases made through company’s web site\n",
        "- NumWebVisitsMonth - number of visits to company’s web site in the last month\n",
        "- Recency - number of days since the last purchase"
      ]
    },
    {
      "cell_type": "markdown",
      "metadata": {
        "id": "_QbFU3QZjjZr"
      },
      "source": [
        "##1. EXPLORATORY DATA ANALYSIS(EDA)"
      ]
    },
    {
      "cell_type": "markdown",
      "metadata": {
        "id": "T2PbHQH1mNSG"
      },
      "source": [
        "####1.1. Imports"
      ]
    },
    {
      "cell_type": "code",
      "execution_count": null,
      "metadata": {
        "colab": {
          "base_uri": "https://localhost:8080/"
        },
        "id": "PIoDnrN0pQke",
        "outputId": "370fb106-1efe-43ce-bb6f-ca96802b4a13"
      },
      "outputs": [
        {
          "output_type": "stream",
          "name": "stdout",
          "text": [
            "Looking in indexes: https://pypi.org/simple, https://us-python.pkg.dev/colab-wheels/public/simple/\n",
            "Requirement already satisfied: xgboost in /usr/local/lib/python3.8/dist-packages (0.90)\n",
            "Requirement already satisfied: scipy in /usr/local/lib/python3.8/dist-packages (from xgboost) (1.7.3)\n",
            "Requirement already satisfied: numpy in /usr/local/lib/python3.8/dist-packages (from xgboost) (1.21.6)\n",
            "Looking in indexes: https://pypi.org/simple, https://us-python.pkg.dev/colab-wheels/public/simple/\n",
            "Requirement already satisfied: lightgbm in /usr/local/lib/python3.8/dist-packages (2.2.3)\n",
            "Requirement already satisfied: numpy in /usr/local/lib/python3.8/dist-packages (from lightgbm) (1.21.6)\n",
            "Requirement already satisfied: scikit-learn in /usr/local/lib/python3.8/dist-packages (from lightgbm) (1.0.2)\n",
            "Requirement already satisfied: scipy in /usr/local/lib/python3.8/dist-packages (from lightgbm) (1.7.3)\n",
            "Requirement already satisfied: joblib>=0.11 in /usr/local/lib/python3.8/dist-packages (from scikit-learn->lightgbm) (1.2.0)\n",
            "Requirement already satisfied: threadpoolctl>=2.0.0 in /usr/local/lib/python3.8/dist-packages (from scikit-learn->lightgbm) (3.1.0)\n"
          ]
        }
      ],
      "source": [
        "# Importing necessary libraries\n",
        "import pandas as pd\n",
        "import numpy as np\n",
        "import seaborn as sns\n",
        "import matplotlib.pyplot as plt\n",
        "%matplotlib inline\n",
        "import scipy.stats as st\n",
        "import warnings\n",
        "from datetime import datetime as dt\n",
        "\n",
        "# modelling libraries\n",
        "!pip install xgboost\n",
        "!pip install lightgbm\n",
        "from sklearn.preprocessing import scale, StandardScaler\n",
        "from sklearn.model_selection import train_test_split, GridSearchCV, cross_val_score\n",
        "from sklearn.metrics import confusion_matrix, accuracy_score, roc_auc_score, roc_curve, classification_report\n",
        "from sklearn.linear_model import LogisticRegression\n",
        "from sklearn.neighbors import KNeighborsClassifier\n",
        "from sklearn.svm import SVC\n",
        "from sklearn.neural_network import MLPClassifier\n",
        "from sklearn.tree import DecisionTreeClassifier\n",
        "from sklearn.ensemble import RandomForestClassifier\n",
        "from sklearn.ensemble import GradientBoostingClassifier\n",
        "from xgboost import  XGBClassifier\n",
        "import xgboost as xgb\n",
        "from lightgbm import LGBMClassifier\n",
        "from sklearn.metrics import precision_score, recall_score, f1_score\n",
        "from imblearn.over_sampling import SMOTE"
      ]
    },
    {
      "cell_type": "code",
      "execution_count": null,
      "metadata": {
        "id": "DKJbE5MPjI_A"
      },
      "outputs": [],
      "source": [
        "# ignoring warnings\n",
        "from warnings import filterwarnings\n",
        "filterwarnings('ignore', category=DeprecationWarning)\n",
        "filterwarnings('ignore', category=FutureWarning)"
      ]
    },
    {
      "cell_type": "code",
      "execution_count": null,
      "metadata": {
        "id": "3HCivIwQiZQN"
      },
      "outputs": [],
      "source": [
        "pd.options.display.float_format = '{:.2f}'.format\n",
        "pd.set_option(\"display.max_columns\", None)\n",
        "pd.set_option(\"display.width\", None)\n",
        "pd.set_option('display.max_rows', None)"
      ]
    },
    {
      "cell_type": "code",
      "execution_count": null,
      "metadata": {
        "colab": {
          "base_uri": "https://localhost:8080/",
          "height": 270
        },
        "id": "B36mFafwBkp7",
        "outputId": "00e32f03-6e08-4178-c3bc-a15f72017c83"
      },
      "outputs": [
        {
          "output_type": "execute_result",
          "data": {
            "text/plain": [
              "     ID  Year_Birth   Education Marital_Status   Income  Kidhome  Teenhome  \\\n",
              "0  5524        1957  Graduation         Single 58138.00        0         0   \n",
              "1  2174        1954  Graduation         Single 46344.00        1         1   \n",
              "2  4141        1965  Graduation       Together 71613.00        0         0   \n",
              "3  6182        1984  Graduation       Together 26646.00        1         0   \n",
              "4  5324        1981         PhD        Married 58293.00        1         0   \n",
              "\n",
              "  Dt_Customer  Recency  MntWines  MntFruits  MntMeatProducts  MntFishProducts  \\\n",
              "0  2012-09-04       58       635         88              546              172   \n",
              "1  2014-03-08       38        11          1                6                2   \n",
              "2  2013-08-21       26       426         49              127              111   \n",
              "3  2014-02-10       26        11          4               20               10   \n",
              "4  2014-01-19       94       173         43              118               46   \n",
              "\n",
              "   MntSweetProducts  MntGoldProds  NumDealsPurchases  NumWebPurchases  \\\n",
              "0                88            88                  3                8   \n",
              "1                 1             6                  2                1   \n",
              "2                21            42                  1                8   \n",
              "3                 3             5                  2                2   \n",
              "4                27            15                  5                5   \n",
              "\n",
              "   NumCatalogPurchases  NumStorePurchases  NumWebVisitsMonth  AcceptedCmp3  \\\n",
              "0                   10                  4                  7             0   \n",
              "1                    1                  2                  5             0   \n",
              "2                    2                 10                  4             0   \n",
              "3                    0                  4                  6             0   \n",
              "4                    3                  6                  5             0   \n",
              "\n",
              "   AcceptedCmp4  AcceptedCmp5  AcceptedCmp1  AcceptedCmp2  Complain  \\\n",
              "0             0             0             0             0         0   \n",
              "1             0             0             0             0         0   \n",
              "2             0             0             0             0         0   \n",
              "3             0             0             0             0         0   \n",
              "4             0             0             0             0         0   \n",
              "\n",
              "   Z_CostContact  Z_Revenue  Response  \n",
              "0              3         11         1  \n",
              "1              3         11         0  \n",
              "2              3         11         0  \n",
              "3              3         11         0  \n",
              "4              3         11         0  "
            ],
            "text/html": [
              "\n",
              "  <div id=\"df-2d07834a-c833-402b-8bcb-8d60241e4b1d\">\n",
              "    <div class=\"colab-df-container\">\n",
              "      <div>\n",
              "<style scoped>\n",
              "    .dataframe tbody tr th:only-of-type {\n",
              "        vertical-align: middle;\n",
              "    }\n",
              "\n",
              "    .dataframe tbody tr th {\n",
              "        vertical-align: top;\n",
              "    }\n",
              "\n",
              "    .dataframe thead th {\n",
              "        text-align: right;\n",
              "    }\n",
              "</style>\n",
              "<table border=\"1\" class=\"dataframe\">\n",
              "  <thead>\n",
              "    <tr style=\"text-align: right;\">\n",
              "      <th></th>\n",
              "      <th>ID</th>\n",
              "      <th>Year_Birth</th>\n",
              "      <th>Education</th>\n",
              "      <th>Marital_Status</th>\n",
              "      <th>Income</th>\n",
              "      <th>Kidhome</th>\n",
              "      <th>Teenhome</th>\n",
              "      <th>Dt_Customer</th>\n",
              "      <th>Recency</th>\n",
              "      <th>MntWines</th>\n",
              "      <th>MntFruits</th>\n",
              "      <th>MntMeatProducts</th>\n",
              "      <th>MntFishProducts</th>\n",
              "      <th>MntSweetProducts</th>\n",
              "      <th>MntGoldProds</th>\n",
              "      <th>NumDealsPurchases</th>\n",
              "      <th>NumWebPurchases</th>\n",
              "      <th>NumCatalogPurchases</th>\n",
              "      <th>NumStorePurchases</th>\n",
              "      <th>NumWebVisitsMonth</th>\n",
              "      <th>AcceptedCmp3</th>\n",
              "      <th>AcceptedCmp4</th>\n",
              "      <th>AcceptedCmp5</th>\n",
              "      <th>AcceptedCmp1</th>\n",
              "      <th>AcceptedCmp2</th>\n",
              "      <th>Complain</th>\n",
              "      <th>Z_CostContact</th>\n",
              "      <th>Z_Revenue</th>\n",
              "      <th>Response</th>\n",
              "    </tr>\n",
              "  </thead>\n",
              "  <tbody>\n",
              "    <tr>\n",
              "      <th>0</th>\n",
              "      <td>5524</td>\n",
              "      <td>1957</td>\n",
              "      <td>Graduation</td>\n",
              "      <td>Single</td>\n",
              "      <td>58138.00</td>\n",
              "      <td>0</td>\n",
              "      <td>0</td>\n",
              "      <td>2012-09-04</td>\n",
              "      <td>58</td>\n",
              "      <td>635</td>\n",
              "      <td>88</td>\n",
              "      <td>546</td>\n",
              "      <td>172</td>\n",
              "      <td>88</td>\n",
              "      <td>88</td>\n",
              "      <td>3</td>\n",
              "      <td>8</td>\n",
              "      <td>10</td>\n",
              "      <td>4</td>\n",
              "      <td>7</td>\n",
              "      <td>0</td>\n",
              "      <td>0</td>\n",
              "      <td>0</td>\n",
              "      <td>0</td>\n",
              "      <td>0</td>\n",
              "      <td>0</td>\n",
              "      <td>3</td>\n",
              "      <td>11</td>\n",
              "      <td>1</td>\n",
              "    </tr>\n",
              "    <tr>\n",
              "      <th>1</th>\n",
              "      <td>2174</td>\n",
              "      <td>1954</td>\n",
              "      <td>Graduation</td>\n",
              "      <td>Single</td>\n",
              "      <td>46344.00</td>\n",
              "      <td>1</td>\n",
              "      <td>1</td>\n",
              "      <td>2014-03-08</td>\n",
              "      <td>38</td>\n",
              "      <td>11</td>\n",
              "      <td>1</td>\n",
              "      <td>6</td>\n",
              "      <td>2</td>\n",
              "      <td>1</td>\n",
              "      <td>6</td>\n",
              "      <td>2</td>\n",
              "      <td>1</td>\n",
              "      <td>1</td>\n",
              "      <td>2</td>\n",
              "      <td>5</td>\n",
              "      <td>0</td>\n",
              "      <td>0</td>\n",
              "      <td>0</td>\n",
              "      <td>0</td>\n",
              "      <td>0</td>\n",
              "      <td>0</td>\n",
              "      <td>3</td>\n",
              "      <td>11</td>\n",
              "      <td>0</td>\n",
              "    </tr>\n",
              "    <tr>\n",
              "      <th>2</th>\n",
              "      <td>4141</td>\n",
              "      <td>1965</td>\n",
              "      <td>Graduation</td>\n",
              "      <td>Together</td>\n",
              "      <td>71613.00</td>\n",
              "      <td>0</td>\n",
              "      <td>0</td>\n",
              "      <td>2013-08-21</td>\n",
              "      <td>26</td>\n",
              "      <td>426</td>\n",
              "      <td>49</td>\n",
              "      <td>127</td>\n",
              "      <td>111</td>\n",
              "      <td>21</td>\n",
              "      <td>42</td>\n",
              "      <td>1</td>\n",
              "      <td>8</td>\n",
              "      <td>2</td>\n",
              "      <td>10</td>\n",
              "      <td>4</td>\n",
              "      <td>0</td>\n",
              "      <td>0</td>\n",
              "      <td>0</td>\n",
              "      <td>0</td>\n",
              "      <td>0</td>\n",
              "      <td>0</td>\n",
              "      <td>3</td>\n",
              "      <td>11</td>\n",
              "      <td>0</td>\n",
              "    </tr>\n",
              "    <tr>\n",
              "      <th>3</th>\n",
              "      <td>6182</td>\n",
              "      <td>1984</td>\n",
              "      <td>Graduation</td>\n",
              "      <td>Together</td>\n",
              "      <td>26646.00</td>\n",
              "      <td>1</td>\n",
              "      <td>0</td>\n",
              "      <td>2014-02-10</td>\n",
              "      <td>26</td>\n",
              "      <td>11</td>\n",
              "      <td>4</td>\n",
              "      <td>20</td>\n",
              "      <td>10</td>\n",
              "      <td>3</td>\n",
              "      <td>5</td>\n",
              "      <td>2</td>\n",
              "      <td>2</td>\n",
              "      <td>0</td>\n",
              "      <td>4</td>\n",
              "      <td>6</td>\n",
              "      <td>0</td>\n",
              "      <td>0</td>\n",
              "      <td>0</td>\n",
              "      <td>0</td>\n",
              "      <td>0</td>\n",
              "      <td>0</td>\n",
              "      <td>3</td>\n",
              "      <td>11</td>\n",
              "      <td>0</td>\n",
              "    </tr>\n",
              "    <tr>\n",
              "      <th>4</th>\n",
              "      <td>5324</td>\n",
              "      <td>1981</td>\n",
              "      <td>PhD</td>\n",
              "      <td>Married</td>\n",
              "      <td>58293.00</td>\n",
              "      <td>1</td>\n",
              "      <td>0</td>\n",
              "      <td>2014-01-19</td>\n",
              "      <td>94</td>\n",
              "      <td>173</td>\n",
              "      <td>43</td>\n",
              "      <td>118</td>\n",
              "      <td>46</td>\n",
              "      <td>27</td>\n",
              "      <td>15</td>\n",
              "      <td>5</td>\n",
              "      <td>5</td>\n",
              "      <td>3</td>\n",
              "      <td>6</td>\n",
              "      <td>5</td>\n",
              "      <td>0</td>\n",
              "      <td>0</td>\n",
              "      <td>0</td>\n",
              "      <td>0</td>\n",
              "      <td>0</td>\n",
              "      <td>0</td>\n",
              "      <td>3</td>\n",
              "      <td>11</td>\n",
              "      <td>0</td>\n",
              "    </tr>\n",
              "  </tbody>\n",
              "</table>\n",
              "</div>\n",
              "      <button class=\"colab-df-convert\" onclick=\"convertToInteractive('df-2d07834a-c833-402b-8bcb-8d60241e4b1d')\"\n",
              "              title=\"Convert this dataframe to an interactive table.\"\n",
              "              style=\"display:none;\">\n",
              "        \n",
              "  <svg xmlns=\"http://www.w3.org/2000/svg\" height=\"24px\"viewBox=\"0 0 24 24\"\n",
              "       width=\"24px\">\n",
              "    <path d=\"M0 0h24v24H0V0z\" fill=\"none\"/>\n",
              "    <path d=\"M18.56 5.44l.94 2.06.94-2.06 2.06-.94-2.06-.94-.94-2.06-.94 2.06-2.06.94zm-11 1L8.5 8.5l.94-2.06 2.06-.94-2.06-.94L8.5 2.5l-.94 2.06-2.06.94zm10 10l.94 2.06.94-2.06 2.06-.94-2.06-.94-.94-2.06-.94 2.06-2.06.94z\"/><path d=\"M17.41 7.96l-1.37-1.37c-.4-.4-.92-.59-1.43-.59-.52 0-1.04.2-1.43.59L10.3 9.45l-7.72 7.72c-.78.78-.78 2.05 0 2.83L4 21.41c.39.39.9.59 1.41.59.51 0 1.02-.2 1.41-.59l7.78-7.78 2.81-2.81c.8-.78.8-2.07 0-2.86zM5.41 20L4 18.59l7.72-7.72 1.47 1.35L5.41 20z\"/>\n",
              "  </svg>\n",
              "      </button>\n",
              "      \n",
              "  <style>\n",
              "    .colab-df-container {\n",
              "      display:flex;\n",
              "      flex-wrap:wrap;\n",
              "      gap: 12px;\n",
              "    }\n",
              "\n",
              "    .colab-df-convert {\n",
              "      background-color: #E8F0FE;\n",
              "      border: none;\n",
              "      border-radius: 50%;\n",
              "      cursor: pointer;\n",
              "      display: none;\n",
              "      fill: #1967D2;\n",
              "      height: 32px;\n",
              "      padding: 0 0 0 0;\n",
              "      width: 32px;\n",
              "    }\n",
              "\n",
              "    .colab-df-convert:hover {\n",
              "      background-color: #E2EBFA;\n",
              "      box-shadow: 0px 1px 2px rgba(60, 64, 67, 0.3), 0px 1px 3px 1px rgba(60, 64, 67, 0.15);\n",
              "      fill: #174EA6;\n",
              "    }\n",
              "\n",
              "    [theme=dark] .colab-df-convert {\n",
              "      background-color: #3B4455;\n",
              "      fill: #D2E3FC;\n",
              "    }\n",
              "\n",
              "    [theme=dark] .colab-df-convert:hover {\n",
              "      background-color: #434B5C;\n",
              "      box-shadow: 0px 1px 3px 1px rgba(0, 0, 0, 0.15);\n",
              "      filter: drop-shadow(0px 1px 2px rgba(0, 0, 0, 0.3));\n",
              "      fill: #FFFFFF;\n",
              "    }\n",
              "  </style>\n",
              "\n",
              "      <script>\n",
              "        const buttonEl =\n",
              "          document.querySelector('#df-2d07834a-c833-402b-8bcb-8d60241e4b1d button.colab-df-convert');\n",
              "        buttonEl.style.display =\n",
              "          google.colab.kernel.accessAllowed ? 'block' : 'none';\n",
              "\n",
              "        async function convertToInteractive(key) {\n",
              "          const element = document.querySelector('#df-2d07834a-c833-402b-8bcb-8d60241e4b1d');\n",
              "          const dataTable =\n",
              "            await google.colab.kernel.invokeFunction('convertToInteractive',\n",
              "                                                     [key], {});\n",
              "          if (!dataTable) return;\n",
              "\n",
              "          const docLinkHtml = 'Like what you see? Visit the ' +\n",
              "            '<a target=\"_blank\" href=https://colab.research.google.com/notebooks/data_table.ipynb>data table notebook</a>'\n",
              "            + ' to learn more about interactive tables.';\n",
              "          element.innerHTML = '';\n",
              "          dataTable['output_type'] = 'display_data';\n",
              "          await google.colab.output.renderOutput(dataTable, element);\n",
              "          const docLink = document.createElement('div');\n",
              "          docLink.innerHTML = docLinkHtml;\n",
              "          element.appendChild(docLink);\n",
              "        }\n",
              "      </script>\n",
              "    </div>\n",
              "  </div>\n",
              "  "
            ]
          },
          "metadata": {},
          "execution_count": 4
        }
      ],
      "source": [
        "df = pd.read_csv('/content/marketing_campaign.csv', sep=\";\")\n",
        "df.head()"
      ]
    },
    {
      "cell_type": "markdown",
      "metadata": {
        "id": "53eCqsjYmW8Y"
      },
      "source": [
        "####1.2.Exploring Dataset"
      ]
    },
    {
      "cell_type": "code",
      "execution_count": null,
      "metadata": {
        "colab": {
          "base_uri": "https://localhost:8080/"
        },
        "id": "WSTSNayJiuop",
        "outputId": "d9b4e44e-8f72-4623-f6b5-25c6b4535f90"
      },
      "outputs": [
        {
          "output_type": "execute_result",
          "data": {
            "text/plain": [
              "(2240, 29)"
            ]
          },
          "metadata": {},
          "execution_count": 5
        }
      ],
      "source": [
        "df.shape"
      ]
    },
    {
      "cell_type": "code",
      "execution_count": null,
      "metadata": {
        "colab": {
          "base_uri": "https://localhost:8080/"
        },
        "id": "5f73VjuNiwNu",
        "outputId": "5add4668-a122-4976-c82d-57cb1bb2c8a6"
      },
      "outputs": [
        {
          "output_type": "execute_result",
          "data": {
            "text/plain": [
              "Index(['ID', 'Year_Birth', 'Education', 'Marital_Status', 'Income', 'Kidhome',\n",
              "       'Teenhome', 'Dt_Customer', 'Recency', 'MntWines', 'MntFruits',\n",
              "       'MntMeatProducts', 'MntFishProducts', 'MntSweetProducts',\n",
              "       'MntGoldProds', 'NumDealsPurchases', 'NumWebPurchases',\n",
              "       'NumCatalogPurchases', 'NumStorePurchases', 'NumWebVisitsMonth',\n",
              "       'AcceptedCmp3', 'AcceptedCmp4', 'AcceptedCmp5', 'AcceptedCmp1',\n",
              "       'AcceptedCmp2', 'Complain', 'Z_CostContact', 'Z_Revenue', 'Response'],\n",
              "      dtype='object')"
            ]
          },
          "metadata": {},
          "execution_count": 6
        }
      ],
      "source": [
        "df.columns"
      ]
    },
    {
      "cell_type": "code",
      "execution_count": null,
      "metadata": {
        "colab": {
          "base_uri": "https://localhost:8080/"
        },
        "id": "Ajv2-JzFH_ZQ",
        "outputId": "75a4a28f-c115-4f09-dd9f-332f95022187"
      },
      "outputs": [
        {
          "output_type": "stream",
          "name": "stdout",
          "text": [
            "<class 'pandas.core.frame.DataFrame'>\n",
            "RangeIndex: 2240 entries, 0 to 2239\n",
            "Data columns (total 29 columns):\n",
            " #   Column               Non-Null Count  Dtype  \n",
            "---  ------               --------------  -----  \n",
            " 0   ID                   2240 non-null   int64  \n",
            " 1   Year_Birth           2240 non-null   int64  \n",
            " 2   Education            2240 non-null   object \n",
            " 3   Marital_Status       2240 non-null   object \n",
            " 4   Income               2216 non-null   float64\n",
            " 5   Kidhome              2240 non-null   int64  \n",
            " 6   Teenhome             2240 non-null   int64  \n",
            " 7   Dt_Customer          2240 non-null   object \n",
            " 8   Recency              2240 non-null   int64  \n",
            " 9   MntWines             2240 non-null   int64  \n",
            " 10  MntFruits            2240 non-null   int64  \n",
            " 11  MntMeatProducts      2240 non-null   int64  \n",
            " 12  MntFishProducts      2240 non-null   int64  \n",
            " 13  MntSweetProducts     2240 non-null   int64  \n",
            " 14  MntGoldProds         2240 non-null   int64  \n",
            " 15  NumDealsPurchases    2240 non-null   int64  \n",
            " 16  NumWebPurchases      2240 non-null   int64  \n",
            " 17  NumCatalogPurchases  2240 non-null   int64  \n",
            " 18  NumStorePurchases    2240 non-null   int64  \n",
            " 19  NumWebVisitsMonth    2240 non-null   int64  \n",
            " 20  AcceptedCmp3         2240 non-null   int64  \n",
            " 21  AcceptedCmp4         2240 non-null   int64  \n",
            " 22  AcceptedCmp5         2240 non-null   int64  \n",
            " 23  AcceptedCmp1         2240 non-null   int64  \n",
            " 24  AcceptedCmp2         2240 non-null   int64  \n",
            " 25  Complain             2240 non-null   int64  \n",
            " 26  Z_CostContact        2240 non-null   int64  \n",
            " 27  Z_Revenue            2240 non-null   int64  \n",
            " 28  Response             2240 non-null   int64  \n",
            "dtypes: float64(1), int64(25), object(3)\n",
            "memory usage: 507.6+ KB\n"
          ]
        }
      ],
      "source": [
        "df.info()"
      ]
    },
    {
      "cell_type": "code",
      "execution_count": null,
      "metadata": {
        "colab": {
          "base_uri": "https://localhost:8080/"
        },
        "id": "5BhWIbu1OU-G",
        "outputId": "dce63457-669a-4c85-fa9d-e7038bdb717e"
      },
      "outputs": [
        {
          "output_type": "execute_result",
          "data": {
            "text/plain": [
              "<pandas.io.formats.style.Styler at 0x7feee799e2e0>"
            ],
            "text/html": [
              "<style type=\"text/css\">\n",
              "#T_697f3_row0_col0, #T_697f3_row1_col0, #T_697f3_row1_col3, #T_697f3_row2_col1, #T_697f3_row2_col2, #T_697f3_row2_col4, #T_697f3_row2_col5, #T_697f3_row2_col6, #T_697f3_row2_col7, #T_697f3_row3_col0, #T_697f3_row4_col0, #T_697f3_row5_col0, #T_697f3_row6_col0, #T_697f3_row7_col0, #T_697f3_row8_col0, #T_697f3_row9_col0, #T_697f3_row10_col0, #T_697f3_row11_col0, #T_697f3_row12_col0, #T_697f3_row13_col0, #T_697f3_row14_col0, #T_697f3_row15_col0, #T_697f3_row16_col0, #T_697f3_row17_col0, #T_697f3_row18_col0, #T_697f3_row19_col0, #T_697f3_row20_col0, #T_697f3_row21_col0, #T_697f3_row22_col0, #T_697f3_row23_col0, #T_697f3_row24_col0, #T_697f3_row25_col0 {\n",
              "  background-color: #08306b;\n",
              "  color: #f1f1f1;\n",
              "}\n",
              "#T_697f3_row0_col1, #T_697f3_row0_col5 {\n",
              "  background-color: #e2edf8;\n",
              "  color: #000000;\n",
              "}\n",
              "#T_697f3_row0_col2 {\n",
              "  background-color: #ddeaf7;\n",
              "  color: #000000;\n",
              "}\n",
              "#T_697f3_row0_col3, #T_697f3_row1_col2, #T_697f3_row1_col7, #T_697f3_row2_col0, #T_697f3_row3_col1, #T_697f3_row3_col2, #T_697f3_row3_col3, #T_697f3_row3_col4, #T_697f3_row3_col5, #T_697f3_row3_col6, #T_697f3_row3_col7, #T_697f3_row4_col1, #T_697f3_row4_col2, #T_697f3_row4_col3, #T_697f3_row4_col4, #T_697f3_row4_col5, #T_697f3_row4_col6, #T_697f3_row4_col7, #T_697f3_row5_col1, #T_697f3_row5_col2, #T_697f3_row5_col3, #T_697f3_row5_col4, #T_697f3_row5_col5, #T_697f3_row5_col6, #T_697f3_row5_col7, #T_697f3_row6_col3, #T_697f3_row6_col4, #T_697f3_row6_col5, #T_697f3_row6_col7, #T_697f3_row7_col1, #T_697f3_row7_col2, #T_697f3_row7_col3, #T_697f3_row7_col4, #T_697f3_row7_col5, #T_697f3_row7_col6, #T_697f3_row7_col7, #T_697f3_row8_col1, #T_697f3_row8_col3, #T_697f3_row8_col4, #T_697f3_row8_col5, #T_697f3_row8_col6, #T_697f3_row8_col7, #T_697f3_row9_col1, #T_697f3_row9_col2, #T_697f3_row9_col3, #T_697f3_row9_col4, #T_697f3_row9_col5, #T_697f3_row9_col6, #T_697f3_row9_col7, #T_697f3_row10_col1, #T_697f3_row10_col2, #T_697f3_row10_col3, #T_697f3_row10_col4, #T_697f3_row10_col5, #T_697f3_row10_col6, #T_697f3_row10_col7, #T_697f3_row11_col1, #T_697f3_row11_col2, #T_697f3_row11_col3, #T_697f3_row11_col4, #T_697f3_row11_col5, #T_697f3_row11_col6, #T_697f3_row11_col7, #T_697f3_row12_col1, #T_697f3_row12_col2, #T_697f3_row12_col3, #T_697f3_row12_col4, #T_697f3_row12_col5, #T_697f3_row12_col6, #T_697f3_row12_col7, #T_697f3_row13_col1, #T_697f3_row13_col2, #T_697f3_row13_col3, #T_697f3_row13_col4, #T_697f3_row13_col5, #T_697f3_row13_col6, #T_697f3_row13_col7, #T_697f3_row14_col1, #T_697f3_row14_col2, #T_697f3_row14_col3, #T_697f3_row14_col4, #T_697f3_row14_col5, #T_697f3_row14_col6, #T_697f3_row14_col7, #T_697f3_row15_col1, #T_697f3_row15_col2, #T_697f3_row15_col3, #T_697f3_row15_col4, #T_697f3_row15_col5, #T_697f3_row15_col6, #T_697f3_row15_col7, #T_697f3_row16_col1, #T_697f3_row16_col2, #T_697f3_row16_col3, #T_697f3_row16_col4, #T_697f3_row16_col5, #T_697f3_row16_col6, #T_697f3_row16_col7, #T_697f3_row17_col1, #T_697f3_row17_col2, #T_697f3_row17_col3, #T_697f3_row17_col4, #T_697f3_row17_col5, #T_697f3_row17_col6, #T_697f3_row17_col7, #T_697f3_row18_col1, #T_697f3_row18_col2, #T_697f3_row18_col3, #T_697f3_row18_col4, #T_697f3_row18_col5, #T_697f3_row18_col6, #T_697f3_row18_col7, #T_697f3_row19_col1, #T_697f3_row19_col2, #T_697f3_row19_col3, #T_697f3_row19_col4, #T_697f3_row19_col5, #T_697f3_row19_col6, #T_697f3_row19_col7, #T_697f3_row20_col1, #T_697f3_row20_col2, #T_697f3_row20_col3, #T_697f3_row20_col4, #T_697f3_row20_col5, #T_697f3_row20_col6, #T_697f3_row20_col7, #T_697f3_row21_col1, #T_697f3_row21_col2, #T_697f3_row21_col3, #T_697f3_row21_col4, #T_697f3_row21_col5, #T_697f3_row21_col6, #T_697f3_row21_col7, #T_697f3_row22_col1, #T_697f3_row22_col2, #T_697f3_row22_col3, #T_697f3_row22_col4, #T_697f3_row22_col5, #T_697f3_row22_col6, #T_697f3_row22_col7, #T_697f3_row23_col1, #T_697f3_row23_col2, #T_697f3_row23_col3, #T_697f3_row23_col4, #T_697f3_row23_col5, #T_697f3_row23_col6, #T_697f3_row23_col7, #T_697f3_row24_col1, #T_697f3_row24_col2, #T_697f3_row24_col4, #T_697f3_row24_col5, #T_697f3_row24_col6, #T_697f3_row24_col7, #T_697f3_row25_col1, #T_697f3_row25_col2, #T_697f3_row25_col3, #T_697f3_row25_col4, #T_697f3_row25_col5, #T_697f3_row25_col6, #T_697f3_row25_col7 {\n",
              "  background-color: #f7fbff;\n",
              "  color: #000000;\n",
              "}\n",
              "#T_697f3_row0_col4 {\n",
              "  background-color: #e7f1fa;\n",
              "  color: #000000;\n",
              "}\n",
              "#T_697f3_row0_col6 {\n",
              "  background-color: #dfebf7;\n",
              "  color: #000000;\n",
              "}\n",
              "#T_697f3_row0_col7 {\n",
              "  background-color: #f4f9fe;\n",
              "  color: #000000;\n",
              "}\n",
              "#T_697f3_row1_col1, #T_697f3_row1_col5 {\n",
              "  background-color: #f0f6fd;\n",
              "  color: #000000;\n",
              "}\n",
              "#T_697f3_row1_col4 {\n",
              "  background-color: #ecf4fb;\n",
              "  color: #000000;\n",
              "}\n",
              "#T_697f3_row1_col6 {\n",
              "  background-color: #f2f7fd;\n",
              "  color: #000000;\n",
              "}\n",
              "#T_697f3_row2_col3 {\n",
              "  background-color: #08478d;\n",
              "  color: #f1f1f1;\n",
              "}\n",
              "#T_697f3_row6_col1, #T_697f3_row6_col6, #T_697f3_row24_col3 {\n",
              "  background-color: #f6faff;\n",
              "  color: #000000;\n",
              "}\n",
              "#T_697f3_row6_col2 {\n",
              "  background-color: #f5f9fe;\n",
              "  color: #000000;\n",
              "}\n",
              "#T_697f3_row8_col2 {\n",
              "  background-color: #f5fafe;\n",
              "  color: #000000;\n",
              "}\n",
              "</style>\n",
              "<table id=\"T_697f3_\" class=\"dataframe\">\n",
              "  <thead>\n",
              "    <tr>\n",
              "      <th class=\"blank level0\" >&nbsp;</th>\n",
              "      <th class=\"col_heading level0 col0\" >count</th>\n",
              "      <th class=\"col_heading level0 col1\" >mean</th>\n",
              "      <th class=\"col_heading level0 col2\" >std</th>\n",
              "      <th class=\"col_heading level0 col3\" >min</th>\n",
              "      <th class=\"col_heading level0 col4\" >25%</th>\n",
              "      <th class=\"col_heading level0 col5\" >50%</th>\n",
              "      <th class=\"col_heading level0 col6\" >75%</th>\n",
              "      <th class=\"col_heading level0 col7\" >max</th>\n",
              "    </tr>\n",
              "  </thead>\n",
              "  <tbody>\n",
              "    <tr>\n",
              "      <th id=\"T_697f3_level0_row0\" class=\"row_heading level0 row0\" >ID</th>\n",
              "      <td id=\"T_697f3_row0_col0\" class=\"data row0 col0\" >2240.000000</td>\n",
              "      <td id=\"T_697f3_row0_col1\" class=\"data row0 col1\" >5592.159821</td>\n",
              "      <td id=\"T_697f3_row0_col2\" class=\"data row0 col2\" >3246.662198</td>\n",
              "      <td id=\"T_697f3_row0_col3\" class=\"data row0 col3\" >0.000000</td>\n",
              "      <td id=\"T_697f3_row0_col4\" class=\"data row0 col4\" >2828.250000</td>\n",
              "      <td id=\"T_697f3_row0_col5\" class=\"data row0 col5\" >5458.500000</td>\n",
              "      <td id=\"T_697f3_row0_col6\" class=\"data row0 col6\" >8427.750000</td>\n",
              "      <td id=\"T_697f3_row0_col7\" class=\"data row0 col7\" >11191.000000</td>\n",
              "    </tr>\n",
              "    <tr>\n",
              "      <th id=\"T_697f3_level0_row1\" class=\"row_heading level0 row1\" >Year_Birth</th>\n",
              "      <td id=\"T_697f3_row1_col0\" class=\"data row1 col0\" >2240.000000</td>\n",
              "      <td id=\"T_697f3_row1_col1\" class=\"data row1 col1\" >1968.805804</td>\n",
              "      <td id=\"T_697f3_row1_col2\" class=\"data row1 col2\" >11.984069</td>\n",
              "      <td id=\"T_697f3_row1_col3\" class=\"data row1 col3\" >1893.000000</td>\n",
              "      <td id=\"T_697f3_row1_col4\" class=\"data row1 col4\" >1959.000000</td>\n",
              "      <td id=\"T_697f3_row1_col5\" class=\"data row1 col5\" >1970.000000</td>\n",
              "      <td id=\"T_697f3_row1_col6\" class=\"data row1 col6\" >1977.000000</td>\n",
              "      <td id=\"T_697f3_row1_col7\" class=\"data row1 col7\" >1996.000000</td>\n",
              "    </tr>\n",
              "    <tr>\n",
              "      <th id=\"T_697f3_level0_row2\" class=\"row_heading level0 row2\" >Income</th>\n",
              "      <td id=\"T_697f3_row2_col0\" class=\"data row2 col0\" >2216.000000</td>\n",
              "      <td id=\"T_697f3_row2_col1\" class=\"data row2 col1\" >52247.251354</td>\n",
              "      <td id=\"T_697f3_row2_col2\" class=\"data row2 col2\" >25173.076661</td>\n",
              "      <td id=\"T_697f3_row2_col3\" class=\"data row2 col3\" >1730.000000</td>\n",
              "      <td id=\"T_697f3_row2_col4\" class=\"data row2 col4\" >35303.000000</td>\n",
              "      <td id=\"T_697f3_row2_col5\" class=\"data row2 col5\" >51381.500000</td>\n",
              "      <td id=\"T_697f3_row2_col6\" class=\"data row2 col6\" >68522.000000</td>\n",
              "      <td id=\"T_697f3_row2_col7\" class=\"data row2 col7\" >666666.000000</td>\n",
              "    </tr>\n",
              "    <tr>\n",
              "      <th id=\"T_697f3_level0_row3\" class=\"row_heading level0 row3\" >Kidhome</th>\n",
              "      <td id=\"T_697f3_row3_col0\" class=\"data row3 col0\" >2240.000000</td>\n",
              "      <td id=\"T_697f3_row3_col1\" class=\"data row3 col1\" >0.444196</td>\n",
              "      <td id=\"T_697f3_row3_col2\" class=\"data row3 col2\" >0.538398</td>\n",
              "      <td id=\"T_697f3_row3_col3\" class=\"data row3 col3\" >0.000000</td>\n",
              "      <td id=\"T_697f3_row3_col4\" class=\"data row3 col4\" >0.000000</td>\n",
              "      <td id=\"T_697f3_row3_col5\" class=\"data row3 col5\" >0.000000</td>\n",
              "      <td id=\"T_697f3_row3_col6\" class=\"data row3 col6\" >1.000000</td>\n",
              "      <td id=\"T_697f3_row3_col7\" class=\"data row3 col7\" >2.000000</td>\n",
              "    </tr>\n",
              "    <tr>\n",
              "      <th id=\"T_697f3_level0_row4\" class=\"row_heading level0 row4\" >Teenhome</th>\n",
              "      <td id=\"T_697f3_row4_col0\" class=\"data row4 col0\" >2240.000000</td>\n",
              "      <td id=\"T_697f3_row4_col1\" class=\"data row4 col1\" >0.506250</td>\n",
              "      <td id=\"T_697f3_row4_col2\" class=\"data row4 col2\" >0.544538</td>\n",
              "      <td id=\"T_697f3_row4_col3\" class=\"data row4 col3\" >0.000000</td>\n",
              "      <td id=\"T_697f3_row4_col4\" class=\"data row4 col4\" >0.000000</td>\n",
              "      <td id=\"T_697f3_row4_col5\" class=\"data row4 col5\" >0.000000</td>\n",
              "      <td id=\"T_697f3_row4_col6\" class=\"data row4 col6\" >1.000000</td>\n",
              "      <td id=\"T_697f3_row4_col7\" class=\"data row4 col7\" >2.000000</td>\n",
              "    </tr>\n",
              "    <tr>\n",
              "      <th id=\"T_697f3_level0_row5\" class=\"row_heading level0 row5\" >Recency</th>\n",
              "      <td id=\"T_697f3_row5_col0\" class=\"data row5 col0\" >2240.000000</td>\n",
              "      <td id=\"T_697f3_row5_col1\" class=\"data row5 col1\" >49.109375</td>\n",
              "      <td id=\"T_697f3_row5_col2\" class=\"data row5 col2\" >28.962453</td>\n",
              "      <td id=\"T_697f3_row5_col3\" class=\"data row5 col3\" >0.000000</td>\n",
              "      <td id=\"T_697f3_row5_col4\" class=\"data row5 col4\" >24.000000</td>\n",
              "      <td id=\"T_697f3_row5_col5\" class=\"data row5 col5\" >49.000000</td>\n",
              "      <td id=\"T_697f3_row5_col6\" class=\"data row5 col6\" >74.000000</td>\n",
              "      <td id=\"T_697f3_row5_col7\" class=\"data row5 col7\" >99.000000</td>\n",
              "    </tr>\n",
              "    <tr>\n",
              "      <th id=\"T_697f3_level0_row6\" class=\"row_heading level0 row6\" >MntWines</th>\n",
              "      <td id=\"T_697f3_row6_col0\" class=\"data row6 col0\" >2240.000000</td>\n",
              "      <td id=\"T_697f3_row6_col1\" class=\"data row6 col1\" >303.935714</td>\n",
              "      <td id=\"T_697f3_row6_col2\" class=\"data row6 col2\" >336.597393</td>\n",
              "      <td id=\"T_697f3_row6_col3\" class=\"data row6 col3\" >0.000000</td>\n",
              "      <td id=\"T_697f3_row6_col4\" class=\"data row6 col4\" >23.750000</td>\n",
              "      <td id=\"T_697f3_row6_col5\" class=\"data row6 col5\" >173.500000</td>\n",
              "      <td id=\"T_697f3_row6_col6\" class=\"data row6 col6\" >504.250000</td>\n",
              "      <td id=\"T_697f3_row6_col7\" class=\"data row6 col7\" >1493.000000</td>\n",
              "    </tr>\n",
              "    <tr>\n",
              "      <th id=\"T_697f3_level0_row7\" class=\"row_heading level0 row7\" >MntFruits</th>\n",
              "      <td id=\"T_697f3_row7_col0\" class=\"data row7 col0\" >2240.000000</td>\n",
              "      <td id=\"T_697f3_row7_col1\" class=\"data row7 col1\" >26.302232</td>\n",
              "      <td id=\"T_697f3_row7_col2\" class=\"data row7 col2\" >39.773434</td>\n",
              "      <td id=\"T_697f3_row7_col3\" class=\"data row7 col3\" >0.000000</td>\n",
              "      <td id=\"T_697f3_row7_col4\" class=\"data row7 col4\" >1.000000</td>\n",
              "      <td id=\"T_697f3_row7_col5\" class=\"data row7 col5\" >8.000000</td>\n",
              "      <td id=\"T_697f3_row7_col6\" class=\"data row7 col6\" >33.000000</td>\n",
              "      <td id=\"T_697f3_row7_col7\" class=\"data row7 col7\" >199.000000</td>\n",
              "    </tr>\n",
              "    <tr>\n",
              "      <th id=\"T_697f3_level0_row8\" class=\"row_heading level0 row8\" >MntMeatProducts</th>\n",
              "      <td id=\"T_697f3_row8_col0\" class=\"data row8 col0\" >2240.000000</td>\n",
              "      <td id=\"T_697f3_row8_col1\" class=\"data row8 col1\" >166.950000</td>\n",
              "      <td id=\"T_697f3_row8_col2\" class=\"data row8 col2\" >225.715373</td>\n",
              "      <td id=\"T_697f3_row8_col3\" class=\"data row8 col3\" >0.000000</td>\n",
              "      <td id=\"T_697f3_row8_col4\" class=\"data row8 col4\" >16.000000</td>\n",
              "      <td id=\"T_697f3_row8_col5\" class=\"data row8 col5\" >67.000000</td>\n",
              "      <td id=\"T_697f3_row8_col6\" class=\"data row8 col6\" >232.000000</td>\n",
              "      <td id=\"T_697f3_row8_col7\" class=\"data row8 col7\" >1725.000000</td>\n",
              "    </tr>\n",
              "    <tr>\n",
              "      <th id=\"T_697f3_level0_row9\" class=\"row_heading level0 row9\" >MntFishProducts</th>\n",
              "      <td id=\"T_697f3_row9_col0\" class=\"data row9 col0\" >2240.000000</td>\n",
              "      <td id=\"T_697f3_row9_col1\" class=\"data row9 col1\" >37.525446</td>\n",
              "      <td id=\"T_697f3_row9_col2\" class=\"data row9 col2\" >54.628979</td>\n",
              "      <td id=\"T_697f3_row9_col3\" class=\"data row9 col3\" >0.000000</td>\n",
              "      <td id=\"T_697f3_row9_col4\" class=\"data row9 col4\" >3.000000</td>\n",
              "      <td id=\"T_697f3_row9_col5\" class=\"data row9 col5\" >12.000000</td>\n",
              "      <td id=\"T_697f3_row9_col6\" class=\"data row9 col6\" >50.000000</td>\n",
              "      <td id=\"T_697f3_row9_col7\" class=\"data row9 col7\" >259.000000</td>\n",
              "    </tr>\n",
              "    <tr>\n",
              "      <th id=\"T_697f3_level0_row10\" class=\"row_heading level0 row10\" >MntSweetProducts</th>\n",
              "      <td id=\"T_697f3_row10_col0\" class=\"data row10 col0\" >2240.000000</td>\n",
              "      <td id=\"T_697f3_row10_col1\" class=\"data row10 col1\" >27.062946</td>\n",
              "      <td id=\"T_697f3_row10_col2\" class=\"data row10 col2\" >41.280498</td>\n",
              "      <td id=\"T_697f3_row10_col3\" class=\"data row10 col3\" >0.000000</td>\n",
              "      <td id=\"T_697f3_row10_col4\" class=\"data row10 col4\" >1.000000</td>\n",
              "      <td id=\"T_697f3_row10_col5\" class=\"data row10 col5\" >8.000000</td>\n",
              "      <td id=\"T_697f3_row10_col6\" class=\"data row10 col6\" >33.000000</td>\n",
              "      <td id=\"T_697f3_row10_col7\" class=\"data row10 col7\" >263.000000</td>\n",
              "    </tr>\n",
              "    <tr>\n",
              "      <th id=\"T_697f3_level0_row11\" class=\"row_heading level0 row11\" >MntGoldProds</th>\n",
              "      <td id=\"T_697f3_row11_col0\" class=\"data row11 col0\" >2240.000000</td>\n",
              "      <td id=\"T_697f3_row11_col1\" class=\"data row11 col1\" >44.021875</td>\n",
              "      <td id=\"T_697f3_row11_col2\" class=\"data row11 col2\" >52.167439</td>\n",
              "      <td id=\"T_697f3_row11_col3\" class=\"data row11 col3\" >0.000000</td>\n",
              "      <td id=\"T_697f3_row11_col4\" class=\"data row11 col4\" >9.000000</td>\n",
              "      <td id=\"T_697f3_row11_col5\" class=\"data row11 col5\" >24.000000</td>\n",
              "      <td id=\"T_697f3_row11_col6\" class=\"data row11 col6\" >56.000000</td>\n",
              "      <td id=\"T_697f3_row11_col7\" class=\"data row11 col7\" >362.000000</td>\n",
              "    </tr>\n",
              "    <tr>\n",
              "      <th id=\"T_697f3_level0_row12\" class=\"row_heading level0 row12\" >NumDealsPurchases</th>\n",
              "      <td id=\"T_697f3_row12_col0\" class=\"data row12 col0\" >2240.000000</td>\n",
              "      <td id=\"T_697f3_row12_col1\" class=\"data row12 col1\" >2.325000</td>\n",
              "      <td id=\"T_697f3_row12_col2\" class=\"data row12 col2\" >1.932238</td>\n",
              "      <td id=\"T_697f3_row12_col3\" class=\"data row12 col3\" >0.000000</td>\n",
              "      <td id=\"T_697f3_row12_col4\" class=\"data row12 col4\" >1.000000</td>\n",
              "      <td id=\"T_697f3_row12_col5\" class=\"data row12 col5\" >2.000000</td>\n",
              "      <td id=\"T_697f3_row12_col6\" class=\"data row12 col6\" >3.000000</td>\n",
              "      <td id=\"T_697f3_row12_col7\" class=\"data row12 col7\" >15.000000</td>\n",
              "    </tr>\n",
              "    <tr>\n",
              "      <th id=\"T_697f3_level0_row13\" class=\"row_heading level0 row13\" >NumWebPurchases</th>\n",
              "      <td id=\"T_697f3_row13_col0\" class=\"data row13 col0\" >2240.000000</td>\n",
              "      <td id=\"T_697f3_row13_col1\" class=\"data row13 col1\" >4.084821</td>\n",
              "      <td id=\"T_697f3_row13_col2\" class=\"data row13 col2\" >2.778714</td>\n",
              "      <td id=\"T_697f3_row13_col3\" class=\"data row13 col3\" >0.000000</td>\n",
              "      <td id=\"T_697f3_row13_col4\" class=\"data row13 col4\" >2.000000</td>\n",
              "      <td id=\"T_697f3_row13_col5\" class=\"data row13 col5\" >4.000000</td>\n",
              "      <td id=\"T_697f3_row13_col6\" class=\"data row13 col6\" >6.000000</td>\n",
              "      <td id=\"T_697f3_row13_col7\" class=\"data row13 col7\" >27.000000</td>\n",
              "    </tr>\n",
              "    <tr>\n",
              "      <th id=\"T_697f3_level0_row14\" class=\"row_heading level0 row14\" >NumCatalogPurchases</th>\n",
              "      <td id=\"T_697f3_row14_col0\" class=\"data row14 col0\" >2240.000000</td>\n",
              "      <td id=\"T_697f3_row14_col1\" class=\"data row14 col1\" >2.662054</td>\n",
              "      <td id=\"T_697f3_row14_col2\" class=\"data row14 col2\" >2.923101</td>\n",
              "      <td id=\"T_697f3_row14_col3\" class=\"data row14 col3\" >0.000000</td>\n",
              "      <td id=\"T_697f3_row14_col4\" class=\"data row14 col4\" >0.000000</td>\n",
              "      <td id=\"T_697f3_row14_col5\" class=\"data row14 col5\" >2.000000</td>\n",
              "      <td id=\"T_697f3_row14_col6\" class=\"data row14 col6\" >4.000000</td>\n",
              "      <td id=\"T_697f3_row14_col7\" class=\"data row14 col7\" >28.000000</td>\n",
              "    </tr>\n",
              "    <tr>\n",
              "      <th id=\"T_697f3_level0_row15\" class=\"row_heading level0 row15\" >NumStorePurchases</th>\n",
              "      <td id=\"T_697f3_row15_col0\" class=\"data row15 col0\" >2240.000000</td>\n",
              "      <td id=\"T_697f3_row15_col1\" class=\"data row15 col1\" >5.790179</td>\n",
              "      <td id=\"T_697f3_row15_col2\" class=\"data row15 col2\" >3.250958</td>\n",
              "      <td id=\"T_697f3_row15_col3\" class=\"data row15 col3\" >0.000000</td>\n",
              "      <td id=\"T_697f3_row15_col4\" class=\"data row15 col4\" >3.000000</td>\n",
              "      <td id=\"T_697f3_row15_col5\" class=\"data row15 col5\" >5.000000</td>\n",
              "      <td id=\"T_697f3_row15_col6\" class=\"data row15 col6\" >8.000000</td>\n",
              "      <td id=\"T_697f3_row15_col7\" class=\"data row15 col7\" >13.000000</td>\n",
              "    </tr>\n",
              "    <tr>\n",
              "      <th id=\"T_697f3_level0_row16\" class=\"row_heading level0 row16\" >NumWebVisitsMonth</th>\n",
              "      <td id=\"T_697f3_row16_col0\" class=\"data row16 col0\" >2240.000000</td>\n",
              "      <td id=\"T_697f3_row16_col1\" class=\"data row16 col1\" >5.316518</td>\n",
              "      <td id=\"T_697f3_row16_col2\" class=\"data row16 col2\" >2.426645</td>\n",
              "      <td id=\"T_697f3_row16_col3\" class=\"data row16 col3\" >0.000000</td>\n",
              "      <td id=\"T_697f3_row16_col4\" class=\"data row16 col4\" >3.000000</td>\n",
              "      <td id=\"T_697f3_row16_col5\" class=\"data row16 col5\" >6.000000</td>\n",
              "      <td id=\"T_697f3_row16_col6\" class=\"data row16 col6\" >7.000000</td>\n",
              "      <td id=\"T_697f3_row16_col7\" class=\"data row16 col7\" >20.000000</td>\n",
              "    </tr>\n",
              "    <tr>\n",
              "      <th id=\"T_697f3_level0_row17\" class=\"row_heading level0 row17\" >AcceptedCmp3</th>\n",
              "      <td id=\"T_697f3_row17_col0\" class=\"data row17 col0\" >2240.000000</td>\n",
              "      <td id=\"T_697f3_row17_col1\" class=\"data row17 col1\" >0.072768</td>\n",
              "      <td id=\"T_697f3_row17_col2\" class=\"data row17 col2\" >0.259813</td>\n",
              "      <td id=\"T_697f3_row17_col3\" class=\"data row17 col3\" >0.000000</td>\n",
              "      <td id=\"T_697f3_row17_col4\" class=\"data row17 col4\" >0.000000</td>\n",
              "      <td id=\"T_697f3_row17_col5\" class=\"data row17 col5\" >0.000000</td>\n",
              "      <td id=\"T_697f3_row17_col6\" class=\"data row17 col6\" >0.000000</td>\n",
              "      <td id=\"T_697f3_row17_col7\" class=\"data row17 col7\" >1.000000</td>\n",
              "    </tr>\n",
              "    <tr>\n",
              "      <th id=\"T_697f3_level0_row18\" class=\"row_heading level0 row18\" >AcceptedCmp4</th>\n",
              "      <td id=\"T_697f3_row18_col0\" class=\"data row18 col0\" >2240.000000</td>\n",
              "      <td id=\"T_697f3_row18_col1\" class=\"data row18 col1\" >0.074554</td>\n",
              "      <td id=\"T_697f3_row18_col2\" class=\"data row18 col2\" >0.262728</td>\n",
              "      <td id=\"T_697f3_row18_col3\" class=\"data row18 col3\" >0.000000</td>\n",
              "      <td id=\"T_697f3_row18_col4\" class=\"data row18 col4\" >0.000000</td>\n",
              "      <td id=\"T_697f3_row18_col5\" class=\"data row18 col5\" >0.000000</td>\n",
              "      <td id=\"T_697f3_row18_col6\" class=\"data row18 col6\" >0.000000</td>\n",
              "      <td id=\"T_697f3_row18_col7\" class=\"data row18 col7\" >1.000000</td>\n",
              "    </tr>\n",
              "    <tr>\n",
              "      <th id=\"T_697f3_level0_row19\" class=\"row_heading level0 row19\" >AcceptedCmp5</th>\n",
              "      <td id=\"T_697f3_row19_col0\" class=\"data row19 col0\" >2240.000000</td>\n",
              "      <td id=\"T_697f3_row19_col1\" class=\"data row19 col1\" >0.072768</td>\n",
              "      <td id=\"T_697f3_row19_col2\" class=\"data row19 col2\" >0.259813</td>\n",
              "      <td id=\"T_697f3_row19_col3\" class=\"data row19 col3\" >0.000000</td>\n",
              "      <td id=\"T_697f3_row19_col4\" class=\"data row19 col4\" >0.000000</td>\n",
              "      <td id=\"T_697f3_row19_col5\" class=\"data row19 col5\" >0.000000</td>\n",
              "      <td id=\"T_697f3_row19_col6\" class=\"data row19 col6\" >0.000000</td>\n",
              "      <td id=\"T_697f3_row19_col7\" class=\"data row19 col7\" >1.000000</td>\n",
              "    </tr>\n",
              "    <tr>\n",
              "      <th id=\"T_697f3_level0_row20\" class=\"row_heading level0 row20\" >AcceptedCmp1</th>\n",
              "      <td id=\"T_697f3_row20_col0\" class=\"data row20 col0\" >2240.000000</td>\n",
              "      <td id=\"T_697f3_row20_col1\" class=\"data row20 col1\" >0.064286</td>\n",
              "      <td id=\"T_697f3_row20_col2\" class=\"data row20 col2\" >0.245316</td>\n",
              "      <td id=\"T_697f3_row20_col3\" class=\"data row20 col3\" >0.000000</td>\n",
              "      <td id=\"T_697f3_row20_col4\" class=\"data row20 col4\" >0.000000</td>\n",
              "      <td id=\"T_697f3_row20_col5\" class=\"data row20 col5\" >0.000000</td>\n",
              "      <td id=\"T_697f3_row20_col6\" class=\"data row20 col6\" >0.000000</td>\n",
              "      <td id=\"T_697f3_row20_col7\" class=\"data row20 col7\" >1.000000</td>\n",
              "    </tr>\n",
              "    <tr>\n",
              "      <th id=\"T_697f3_level0_row21\" class=\"row_heading level0 row21\" >AcceptedCmp2</th>\n",
              "      <td id=\"T_697f3_row21_col0\" class=\"data row21 col0\" >2240.000000</td>\n",
              "      <td id=\"T_697f3_row21_col1\" class=\"data row21 col1\" >0.013393</td>\n",
              "      <td id=\"T_697f3_row21_col2\" class=\"data row21 col2\" >0.114976</td>\n",
              "      <td id=\"T_697f3_row21_col3\" class=\"data row21 col3\" >0.000000</td>\n",
              "      <td id=\"T_697f3_row21_col4\" class=\"data row21 col4\" >0.000000</td>\n",
              "      <td id=\"T_697f3_row21_col5\" class=\"data row21 col5\" >0.000000</td>\n",
              "      <td id=\"T_697f3_row21_col6\" class=\"data row21 col6\" >0.000000</td>\n",
              "      <td id=\"T_697f3_row21_col7\" class=\"data row21 col7\" >1.000000</td>\n",
              "    </tr>\n",
              "    <tr>\n",
              "      <th id=\"T_697f3_level0_row22\" class=\"row_heading level0 row22\" >Complain</th>\n",
              "      <td id=\"T_697f3_row22_col0\" class=\"data row22 col0\" >2240.000000</td>\n",
              "      <td id=\"T_697f3_row22_col1\" class=\"data row22 col1\" >0.009375</td>\n",
              "      <td id=\"T_697f3_row22_col2\" class=\"data row22 col2\" >0.096391</td>\n",
              "      <td id=\"T_697f3_row22_col3\" class=\"data row22 col3\" >0.000000</td>\n",
              "      <td id=\"T_697f3_row22_col4\" class=\"data row22 col4\" >0.000000</td>\n",
              "      <td id=\"T_697f3_row22_col5\" class=\"data row22 col5\" >0.000000</td>\n",
              "      <td id=\"T_697f3_row22_col6\" class=\"data row22 col6\" >0.000000</td>\n",
              "      <td id=\"T_697f3_row22_col7\" class=\"data row22 col7\" >1.000000</td>\n",
              "    </tr>\n",
              "    <tr>\n",
              "      <th id=\"T_697f3_level0_row23\" class=\"row_heading level0 row23\" >Z_CostContact</th>\n",
              "      <td id=\"T_697f3_row23_col0\" class=\"data row23 col0\" >2240.000000</td>\n",
              "      <td id=\"T_697f3_row23_col1\" class=\"data row23 col1\" >3.000000</td>\n",
              "      <td id=\"T_697f3_row23_col2\" class=\"data row23 col2\" >0.000000</td>\n",
              "      <td id=\"T_697f3_row23_col3\" class=\"data row23 col3\" >3.000000</td>\n",
              "      <td id=\"T_697f3_row23_col4\" class=\"data row23 col4\" >3.000000</td>\n",
              "      <td id=\"T_697f3_row23_col5\" class=\"data row23 col5\" >3.000000</td>\n",
              "      <td id=\"T_697f3_row23_col6\" class=\"data row23 col6\" >3.000000</td>\n",
              "      <td id=\"T_697f3_row23_col7\" class=\"data row23 col7\" >3.000000</td>\n",
              "    </tr>\n",
              "    <tr>\n",
              "      <th id=\"T_697f3_level0_row24\" class=\"row_heading level0 row24\" >Z_Revenue</th>\n",
              "      <td id=\"T_697f3_row24_col0\" class=\"data row24 col0\" >2240.000000</td>\n",
              "      <td id=\"T_697f3_row24_col1\" class=\"data row24 col1\" >11.000000</td>\n",
              "      <td id=\"T_697f3_row24_col2\" class=\"data row24 col2\" >0.000000</td>\n",
              "      <td id=\"T_697f3_row24_col3\" class=\"data row24 col3\" >11.000000</td>\n",
              "      <td id=\"T_697f3_row24_col4\" class=\"data row24 col4\" >11.000000</td>\n",
              "      <td id=\"T_697f3_row24_col5\" class=\"data row24 col5\" >11.000000</td>\n",
              "      <td id=\"T_697f3_row24_col6\" class=\"data row24 col6\" >11.000000</td>\n",
              "      <td id=\"T_697f3_row24_col7\" class=\"data row24 col7\" >11.000000</td>\n",
              "    </tr>\n",
              "    <tr>\n",
              "      <th id=\"T_697f3_level0_row25\" class=\"row_heading level0 row25\" >Response</th>\n",
              "      <td id=\"T_697f3_row25_col0\" class=\"data row25 col0\" >2240.000000</td>\n",
              "      <td id=\"T_697f3_row25_col1\" class=\"data row25 col1\" >0.149107</td>\n",
              "      <td id=\"T_697f3_row25_col2\" class=\"data row25 col2\" >0.356274</td>\n",
              "      <td id=\"T_697f3_row25_col3\" class=\"data row25 col3\" >0.000000</td>\n",
              "      <td id=\"T_697f3_row25_col4\" class=\"data row25 col4\" >0.000000</td>\n",
              "      <td id=\"T_697f3_row25_col5\" class=\"data row25 col5\" >0.000000</td>\n",
              "      <td id=\"T_697f3_row25_col6\" class=\"data row25 col6\" >0.000000</td>\n",
              "      <td id=\"T_697f3_row25_col7\" class=\"data row25 col7\" >1.000000</td>\n",
              "    </tr>\n",
              "  </tbody>\n",
              "</table>\n"
            ]
          },
          "metadata": {},
          "execution_count": 8
        }
      ],
      "source": [
        "df.describe().T.style.background_gradient(cmap='Blues')"
      ]
    },
    {
      "cell_type": "code",
      "execution_count": null,
      "metadata": {
        "id": "UWlDoU6RMqi0"
      },
      "outputs": [],
      "source": [
        "# Z_CostContact and Z_Revenue variables don't carry information so we can drop these\n",
        "df.drop('Z_CostContact', inplace=True, axis=1)\n",
        "df.drop('Z_Revenue', inplace=True, axis=1)"
      ]
    },
    {
      "cell_type": "code",
      "execution_count": null,
      "metadata": {
        "colab": {
          "base_uri": "https://localhost:8080/"
        },
        "id": "xV0ylxFTiz7P",
        "outputId": "c83b2602-68d5-46cf-a2bb-9ff3802a9ca8"
      },
      "outputs": [
        {
          "output_type": "execute_result",
          "data": {
            "text/plain": [
              "     ID  Year_Birth   Education Marital_Status   Income  Kidhome  Teenhome  \\\n",
              "0  5524        1957  Graduation         Single 58138.00        0         0   \n",
              "1  2174        1954  Graduation         Single 46344.00        1         1   \n",
              "2  4141        1965  Graduation       Together 71613.00        0         0   \n",
              "3  6182        1984  Graduation       Together 26646.00        1         0   \n",
              "4  5324        1981         PhD        Married 58293.00        1         0   \n",
              "\n",
              "  Dt_Customer  Recency  MntWines  MntFruits  MntMeatProducts  MntFishProducts  \\\n",
              "0  2012-09-04       58       635         88              546              172   \n",
              "1  2014-03-08       38        11          1                6                2   \n",
              "2  2013-08-21       26       426         49              127              111   \n",
              "3  2014-02-10       26        11          4               20               10   \n",
              "4  2014-01-19       94       173         43              118               46   \n",
              "\n",
              "   MntSweetProducts  MntGoldProds  NumDealsPurchases  NumWebPurchases  \\\n",
              "0                88            88                  3                8   \n",
              "1                 1             6                  2                1   \n",
              "2                21            42                  1                8   \n",
              "3                 3             5                  2                2   \n",
              "4                27            15                  5                5   \n",
              "\n",
              "   NumCatalogPurchases  NumStorePurchases  NumWebVisitsMonth  AcceptedCmp3  \\\n",
              "0                   10                  4                  7             0   \n",
              "1                    1                  2                  5             0   \n",
              "2                    2                 10                  4             0   \n",
              "3                    0                  4                  6             0   \n",
              "4                    3                  6                  5             0   \n",
              "\n",
              "   AcceptedCmp4  AcceptedCmp5  AcceptedCmp1  AcceptedCmp2  Complain  Response  \n",
              "0             0             0             0             0         0         1  \n",
              "1             0             0             0             0         0         0  \n",
              "2             0             0             0             0         0         0  \n",
              "3             0             0             0             0         0         0  \n",
              "4             0             0             0             0         0         0  "
            ],
            "text/html": [
              "\n",
              "  <div id=\"df-92947892-a502-4409-a1c3-b4b099b8ebff\">\n",
              "    <div class=\"colab-df-container\">\n",
              "      <div>\n",
              "<style scoped>\n",
              "    .dataframe tbody tr th:only-of-type {\n",
              "        vertical-align: middle;\n",
              "    }\n",
              "\n",
              "    .dataframe tbody tr th {\n",
              "        vertical-align: top;\n",
              "    }\n",
              "\n",
              "    .dataframe thead th {\n",
              "        text-align: right;\n",
              "    }\n",
              "</style>\n",
              "<table border=\"1\" class=\"dataframe\">\n",
              "  <thead>\n",
              "    <tr style=\"text-align: right;\">\n",
              "      <th></th>\n",
              "      <th>ID</th>\n",
              "      <th>Year_Birth</th>\n",
              "      <th>Education</th>\n",
              "      <th>Marital_Status</th>\n",
              "      <th>Income</th>\n",
              "      <th>Kidhome</th>\n",
              "      <th>Teenhome</th>\n",
              "      <th>Dt_Customer</th>\n",
              "      <th>Recency</th>\n",
              "      <th>MntWines</th>\n",
              "      <th>MntFruits</th>\n",
              "      <th>MntMeatProducts</th>\n",
              "      <th>MntFishProducts</th>\n",
              "      <th>MntSweetProducts</th>\n",
              "      <th>MntGoldProds</th>\n",
              "      <th>NumDealsPurchases</th>\n",
              "      <th>NumWebPurchases</th>\n",
              "      <th>NumCatalogPurchases</th>\n",
              "      <th>NumStorePurchases</th>\n",
              "      <th>NumWebVisitsMonth</th>\n",
              "      <th>AcceptedCmp3</th>\n",
              "      <th>AcceptedCmp4</th>\n",
              "      <th>AcceptedCmp5</th>\n",
              "      <th>AcceptedCmp1</th>\n",
              "      <th>AcceptedCmp2</th>\n",
              "      <th>Complain</th>\n",
              "      <th>Response</th>\n",
              "    </tr>\n",
              "  </thead>\n",
              "  <tbody>\n",
              "    <tr>\n",
              "      <th>0</th>\n",
              "      <td>5524</td>\n",
              "      <td>1957</td>\n",
              "      <td>Graduation</td>\n",
              "      <td>Single</td>\n",
              "      <td>58138.00</td>\n",
              "      <td>0</td>\n",
              "      <td>0</td>\n",
              "      <td>2012-09-04</td>\n",
              "      <td>58</td>\n",
              "      <td>635</td>\n",
              "      <td>88</td>\n",
              "      <td>546</td>\n",
              "      <td>172</td>\n",
              "      <td>88</td>\n",
              "      <td>88</td>\n",
              "      <td>3</td>\n",
              "      <td>8</td>\n",
              "      <td>10</td>\n",
              "      <td>4</td>\n",
              "      <td>7</td>\n",
              "      <td>0</td>\n",
              "      <td>0</td>\n",
              "      <td>0</td>\n",
              "      <td>0</td>\n",
              "      <td>0</td>\n",
              "      <td>0</td>\n",
              "      <td>1</td>\n",
              "    </tr>\n",
              "    <tr>\n",
              "      <th>1</th>\n",
              "      <td>2174</td>\n",
              "      <td>1954</td>\n",
              "      <td>Graduation</td>\n",
              "      <td>Single</td>\n",
              "      <td>46344.00</td>\n",
              "      <td>1</td>\n",
              "      <td>1</td>\n",
              "      <td>2014-03-08</td>\n",
              "      <td>38</td>\n",
              "      <td>11</td>\n",
              "      <td>1</td>\n",
              "      <td>6</td>\n",
              "      <td>2</td>\n",
              "      <td>1</td>\n",
              "      <td>6</td>\n",
              "      <td>2</td>\n",
              "      <td>1</td>\n",
              "      <td>1</td>\n",
              "      <td>2</td>\n",
              "      <td>5</td>\n",
              "      <td>0</td>\n",
              "      <td>0</td>\n",
              "      <td>0</td>\n",
              "      <td>0</td>\n",
              "      <td>0</td>\n",
              "      <td>0</td>\n",
              "      <td>0</td>\n",
              "    </tr>\n",
              "    <tr>\n",
              "      <th>2</th>\n",
              "      <td>4141</td>\n",
              "      <td>1965</td>\n",
              "      <td>Graduation</td>\n",
              "      <td>Together</td>\n",
              "      <td>71613.00</td>\n",
              "      <td>0</td>\n",
              "      <td>0</td>\n",
              "      <td>2013-08-21</td>\n",
              "      <td>26</td>\n",
              "      <td>426</td>\n",
              "      <td>49</td>\n",
              "      <td>127</td>\n",
              "      <td>111</td>\n",
              "      <td>21</td>\n",
              "      <td>42</td>\n",
              "      <td>1</td>\n",
              "      <td>8</td>\n",
              "      <td>2</td>\n",
              "      <td>10</td>\n",
              "      <td>4</td>\n",
              "      <td>0</td>\n",
              "      <td>0</td>\n",
              "      <td>0</td>\n",
              "      <td>0</td>\n",
              "      <td>0</td>\n",
              "      <td>0</td>\n",
              "      <td>0</td>\n",
              "    </tr>\n",
              "    <tr>\n",
              "      <th>3</th>\n",
              "      <td>6182</td>\n",
              "      <td>1984</td>\n",
              "      <td>Graduation</td>\n",
              "      <td>Together</td>\n",
              "      <td>26646.00</td>\n",
              "      <td>1</td>\n",
              "      <td>0</td>\n",
              "      <td>2014-02-10</td>\n",
              "      <td>26</td>\n",
              "      <td>11</td>\n",
              "      <td>4</td>\n",
              "      <td>20</td>\n",
              "      <td>10</td>\n",
              "      <td>3</td>\n",
              "      <td>5</td>\n",
              "      <td>2</td>\n",
              "      <td>2</td>\n",
              "      <td>0</td>\n",
              "      <td>4</td>\n",
              "      <td>6</td>\n",
              "      <td>0</td>\n",
              "      <td>0</td>\n",
              "      <td>0</td>\n",
              "      <td>0</td>\n",
              "      <td>0</td>\n",
              "      <td>0</td>\n",
              "      <td>0</td>\n",
              "    </tr>\n",
              "    <tr>\n",
              "      <th>4</th>\n",
              "      <td>5324</td>\n",
              "      <td>1981</td>\n",
              "      <td>PhD</td>\n",
              "      <td>Married</td>\n",
              "      <td>58293.00</td>\n",
              "      <td>1</td>\n",
              "      <td>0</td>\n",
              "      <td>2014-01-19</td>\n",
              "      <td>94</td>\n",
              "      <td>173</td>\n",
              "      <td>43</td>\n",
              "      <td>118</td>\n",
              "      <td>46</td>\n",
              "      <td>27</td>\n",
              "      <td>15</td>\n",
              "      <td>5</td>\n",
              "      <td>5</td>\n",
              "      <td>3</td>\n",
              "      <td>6</td>\n",
              "      <td>5</td>\n",
              "      <td>0</td>\n",
              "      <td>0</td>\n",
              "      <td>0</td>\n",
              "      <td>0</td>\n",
              "      <td>0</td>\n",
              "      <td>0</td>\n",
              "      <td>0</td>\n",
              "    </tr>\n",
              "  </tbody>\n",
              "</table>\n",
              "</div>\n",
              "      <button class=\"colab-df-convert\" onclick=\"convertToInteractive('df-92947892-a502-4409-a1c3-b4b099b8ebff')\"\n",
              "              title=\"Convert this dataframe to an interactive table.\"\n",
              "              style=\"display:none;\">\n",
              "        \n",
              "  <svg xmlns=\"http://www.w3.org/2000/svg\" height=\"24px\"viewBox=\"0 0 24 24\"\n",
              "       width=\"24px\">\n",
              "    <path d=\"M0 0h24v24H0V0z\" fill=\"none\"/>\n",
              "    <path d=\"M18.56 5.44l.94 2.06.94-2.06 2.06-.94-2.06-.94-.94-2.06-.94 2.06-2.06.94zm-11 1L8.5 8.5l.94-2.06 2.06-.94-2.06-.94L8.5 2.5l-.94 2.06-2.06.94zm10 10l.94 2.06.94-2.06 2.06-.94-2.06-.94-.94-2.06-.94 2.06-2.06.94z\"/><path d=\"M17.41 7.96l-1.37-1.37c-.4-.4-.92-.59-1.43-.59-.52 0-1.04.2-1.43.59L10.3 9.45l-7.72 7.72c-.78.78-.78 2.05 0 2.83L4 21.41c.39.39.9.59 1.41.59.51 0 1.02-.2 1.41-.59l7.78-7.78 2.81-2.81c.8-.78.8-2.07 0-2.86zM5.41 20L4 18.59l7.72-7.72 1.47 1.35L5.41 20z\"/>\n",
              "  </svg>\n",
              "      </button>\n",
              "      \n",
              "  <style>\n",
              "    .colab-df-container {\n",
              "      display:flex;\n",
              "      flex-wrap:wrap;\n",
              "      gap: 12px;\n",
              "    }\n",
              "\n",
              "    .colab-df-convert {\n",
              "      background-color: #E8F0FE;\n",
              "      border: none;\n",
              "      border-radius: 50%;\n",
              "      cursor: pointer;\n",
              "      display: none;\n",
              "      fill: #1967D2;\n",
              "      height: 32px;\n",
              "      padding: 0 0 0 0;\n",
              "      width: 32px;\n",
              "    }\n",
              "\n",
              "    .colab-df-convert:hover {\n",
              "      background-color: #E2EBFA;\n",
              "      box-shadow: 0px 1px 2px rgba(60, 64, 67, 0.3), 0px 1px 3px 1px rgba(60, 64, 67, 0.15);\n",
              "      fill: #174EA6;\n",
              "    }\n",
              "\n",
              "    [theme=dark] .colab-df-convert {\n",
              "      background-color: #3B4455;\n",
              "      fill: #D2E3FC;\n",
              "    }\n",
              "\n",
              "    [theme=dark] .colab-df-convert:hover {\n",
              "      background-color: #434B5C;\n",
              "      box-shadow: 0px 1px 3px 1px rgba(0, 0, 0, 0.15);\n",
              "      filter: drop-shadow(0px 1px 2px rgba(0, 0, 0, 0.3));\n",
              "      fill: #FFFFFF;\n",
              "    }\n",
              "  </style>\n",
              "\n",
              "      <script>\n",
              "        const buttonEl =\n",
              "          document.querySelector('#df-92947892-a502-4409-a1c3-b4b099b8ebff button.colab-df-convert');\n",
              "        buttonEl.style.display =\n",
              "          google.colab.kernel.accessAllowed ? 'block' : 'none';\n",
              "\n",
              "        async function convertToInteractive(key) {\n",
              "          const element = document.querySelector('#df-92947892-a502-4409-a1c3-b4b099b8ebff');\n",
              "          const dataTable =\n",
              "            await google.colab.kernel.invokeFunction('convertToInteractive',\n",
              "                                                     [key], {});\n",
              "          if (!dataTable) return;\n",
              "\n",
              "          const docLinkHtml = 'Like what you see? Visit the ' +\n",
              "            '<a target=\"_blank\" href=https://colab.research.google.com/notebooks/data_table.ipynb>data table notebook</a>'\n",
              "            + ' to learn more about interactive tables.';\n",
              "          element.innerHTML = '';\n",
              "          dataTable['output_type'] = 'display_data';\n",
              "          await google.colab.output.renderOutput(dataTable, element);\n",
              "          const docLink = document.createElement('div');\n",
              "          docLink.innerHTML = docLinkHtml;\n",
              "          element.appendChild(docLink);\n",
              "        }\n",
              "      </script>\n",
              "    </div>\n",
              "  </div>\n",
              "  "
            ]
          },
          "metadata": {},
          "execution_count": 10
        }
      ],
      "source": [
        "df.head()"
      ]
    },
    {
      "cell_type": "code",
      "execution_count": null,
      "metadata": {
        "colab": {
          "base_uri": "https://localhost:8080/"
        },
        "id": "aN0biZwbi2MX",
        "outputId": "fb7d2aa9-4adf-48c9-c4ca-fdca826f1e28"
      },
      "outputs": [
        {
          "output_type": "execute_result",
          "data": {
            "text/plain": [
              "         ID  Year_Birth   Education Marital_Status   Income  Kidhome  \\\n",
              "2235  10870        1967  Graduation        Married 61223.00        0   \n",
              "2236   4001        1946         PhD       Together 64014.00        2   \n",
              "2237   7270        1981  Graduation       Divorced 56981.00        0   \n",
              "2238   8235        1956      Master       Together 69245.00        0   \n",
              "2239   9405        1954         PhD        Married 52869.00        1   \n",
              "\n",
              "      Teenhome Dt_Customer  Recency  MntWines  MntFruits  MntMeatProducts  \\\n",
              "2235         1  2013-06-13       46       709         43              182   \n",
              "2236         1  2014-06-10       56       406          0               30   \n",
              "2237         0  2014-01-25       91       908         48              217   \n",
              "2238         1  2014-01-24        8       428         30              214   \n",
              "2239         1  2012-10-15       40        84          3               61   \n",
              "\n",
              "      MntFishProducts  MntSweetProducts  MntGoldProds  NumDealsPurchases  \\\n",
              "2235               42               118           247                  2   \n",
              "2236                0                 0             8                  7   \n",
              "2237               32                12            24                  1   \n",
              "2238               80                30            61                  2   \n",
              "2239                2                 1            21                  3   \n",
              "\n",
              "      NumWebPurchases  NumCatalogPurchases  NumStorePurchases  \\\n",
              "2235                9                    3                  4   \n",
              "2236                8                    2                  5   \n",
              "2237                2                    3                 13   \n",
              "2238                6                    5                 10   \n",
              "2239                3                    1                  4   \n",
              "\n",
              "      NumWebVisitsMonth  AcceptedCmp3  AcceptedCmp4  AcceptedCmp5  \\\n",
              "2235                  5             0             0             0   \n",
              "2236                  7             0             0             0   \n",
              "2237                  6             0             1             0   \n",
              "2238                  3             0             0             0   \n",
              "2239                  7             0             0             0   \n",
              "\n",
              "      AcceptedCmp1  AcceptedCmp2  Complain  Response  \n",
              "2235             0             0         0         0  \n",
              "2236             1             0         0         0  \n",
              "2237             0             0         0         0  \n",
              "2238             0             0         0         0  \n",
              "2239             0             0         0         1  "
            ],
            "text/html": [
              "\n",
              "  <div id=\"df-a1d57e16-6df8-4e2a-82d3-b1ba557f526c\">\n",
              "    <div class=\"colab-df-container\">\n",
              "      <div>\n",
              "<style scoped>\n",
              "    .dataframe tbody tr th:only-of-type {\n",
              "        vertical-align: middle;\n",
              "    }\n",
              "\n",
              "    .dataframe tbody tr th {\n",
              "        vertical-align: top;\n",
              "    }\n",
              "\n",
              "    .dataframe thead th {\n",
              "        text-align: right;\n",
              "    }\n",
              "</style>\n",
              "<table border=\"1\" class=\"dataframe\">\n",
              "  <thead>\n",
              "    <tr style=\"text-align: right;\">\n",
              "      <th></th>\n",
              "      <th>ID</th>\n",
              "      <th>Year_Birth</th>\n",
              "      <th>Education</th>\n",
              "      <th>Marital_Status</th>\n",
              "      <th>Income</th>\n",
              "      <th>Kidhome</th>\n",
              "      <th>Teenhome</th>\n",
              "      <th>Dt_Customer</th>\n",
              "      <th>Recency</th>\n",
              "      <th>MntWines</th>\n",
              "      <th>MntFruits</th>\n",
              "      <th>MntMeatProducts</th>\n",
              "      <th>MntFishProducts</th>\n",
              "      <th>MntSweetProducts</th>\n",
              "      <th>MntGoldProds</th>\n",
              "      <th>NumDealsPurchases</th>\n",
              "      <th>NumWebPurchases</th>\n",
              "      <th>NumCatalogPurchases</th>\n",
              "      <th>NumStorePurchases</th>\n",
              "      <th>NumWebVisitsMonth</th>\n",
              "      <th>AcceptedCmp3</th>\n",
              "      <th>AcceptedCmp4</th>\n",
              "      <th>AcceptedCmp5</th>\n",
              "      <th>AcceptedCmp1</th>\n",
              "      <th>AcceptedCmp2</th>\n",
              "      <th>Complain</th>\n",
              "      <th>Response</th>\n",
              "    </tr>\n",
              "  </thead>\n",
              "  <tbody>\n",
              "    <tr>\n",
              "      <th>2235</th>\n",
              "      <td>10870</td>\n",
              "      <td>1967</td>\n",
              "      <td>Graduation</td>\n",
              "      <td>Married</td>\n",
              "      <td>61223.00</td>\n",
              "      <td>0</td>\n",
              "      <td>1</td>\n",
              "      <td>2013-06-13</td>\n",
              "      <td>46</td>\n",
              "      <td>709</td>\n",
              "      <td>43</td>\n",
              "      <td>182</td>\n",
              "      <td>42</td>\n",
              "      <td>118</td>\n",
              "      <td>247</td>\n",
              "      <td>2</td>\n",
              "      <td>9</td>\n",
              "      <td>3</td>\n",
              "      <td>4</td>\n",
              "      <td>5</td>\n",
              "      <td>0</td>\n",
              "      <td>0</td>\n",
              "      <td>0</td>\n",
              "      <td>0</td>\n",
              "      <td>0</td>\n",
              "      <td>0</td>\n",
              "      <td>0</td>\n",
              "    </tr>\n",
              "    <tr>\n",
              "      <th>2236</th>\n",
              "      <td>4001</td>\n",
              "      <td>1946</td>\n",
              "      <td>PhD</td>\n",
              "      <td>Together</td>\n",
              "      <td>64014.00</td>\n",
              "      <td>2</td>\n",
              "      <td>1</td>\n",
              "      <td>2014-06-10</td>\n",
              "      <td>56</td>\n",
              "      <td>406</td>\n",
              "      <td>0</td>\n",
              "      <td>30</td>\n",
              "      <td>0</td>\n",
              "      <td>0</td>\n",
              "      <td>8</td>\n",
              "      <td>7</td>\n",
              "      <td>8</td>\n",
              "      <td>2</td>\n",
              "      <td>5</td>\n",
              "      <td>7</td>\n",
              "      <td>0</td>\n",
              "      <td>0</td>\n",
              "      <td>0</td>\n",
              "      <td>1</td>\n",
              "      <td>0</td>\n",
              "      <td>0</td>\n",
              "      <td>0</td>\n",
              "    </tr>\n",
              "    <tr>\n",
              "      <th>2237</th>\n",
              "      <td>7270</td>\n",
              "      <td>1981</td>\n",
              "      <td>Graduation</td>\n",
              "      <td>Divorced</td>\n",
              "      <td>56981.00</td>\n",
              "      <td>0</td>\n",
              "      <td>0</td>\n",
              "      <td>2014-01-25</td>\n",
              "      <td>91</td>\n",
              "      <td>908</td>\n",
              "      <td>48</td>\n",
              "      <td>217</td>\n",
              "      <td>32</td>\n",
              "      <td>12</td>\n",
              "      <td>24</td>\n",
              "      <td>1</td>\n",
              "      <td>2</td>\n",
              "      <td>3</td>\n",
              "      <td>13</td>\n",
              "      <td>6</td>\n",
              "      <td>0</td>\n",
              "      <td>1</td>\n",
              "      <td>0</td>\n",
              "      <td>0</td>\n",
              "      <td>0</td>\n",
              "      <td>0</td>\n",
              "      <td>0</td>\n",
              "    </tr>\n",
              "    <tr>\n",
              "      <th>2238</th>\n",
              "      <td>8235</td>\n",
              "      <td>1956</td>\n",
              "      <td>Master</td>\n",
              "      <td>Together</td>\n",
              "      <td>69245.00</td>\n",
              "      <td>0</td>\n",
              "      <td>1</td>\n",
              "      <td>2014-01-24</td>\n",
              "      <td>8</td>\n",
              "      <td>428</td>\n",
              "      <td>30</td>\n",
              "      <td>214</td>\n",
              "      <td>80</td>\n",
              "      <td>30</td>\n",
              "      <td>61</td>\n",
              "      <td>2</td>\n",
              "      <td>6</td>\n",
              "      <td>5</td>\n",
              "      <td>10</td>\n",
              "      <td>3</td>\n",
              "      <td>0</td>\n",
              "      <td>0</td>\n",
              "      <td>0</td>\n",
              "      <td>0</td>\n",
              "      <td>0</td>\n",
              "      <td>0</td>\n",
              "      <td>0</td>\n",
              "    </tr>\n",
              "    <tr>\n",
              "      <th>2239</th>\n",
              "      <td>9405</td>\n",
              "      <td>1954</td>\n",
              "      <td>PhD</td>\n",
              "      <td>Married</td>\n",
              "      <td>52869.00</td>\n",
              "      <td>1</td>\n",
              "      <td>1</td>\n",
              "      <td>2012-10-15</td>\n",
              "      <td>40</td>\n",
              "      <td>84</td>\n",
              "      <td>3</td>\n",
              "      <td>61</td>\n",
              "      <td>2</td>\n",
              "      <td>1</td>\n",
              "      <td>21</td>\n",
              "      <td>3</td>\n",
              "      <td>3</td>\n",
              "      <td>1</td>\n",
              "      <td>4</td>\n",
              "      <td>7</td>\n",
              "      <td>0</td>\n",
              "      <td>0</td>\n",
              "      <td>0</td>\n",
              "      <td>0</td>\n",
              "      <td>0</td>\n",
              "      <td>0</td>\n",
              "      <td>1</td>\n",
              "    </tr>\n",
              "  </tbody>\n",
              "</table>\n",
              "</div>\n",
              "      <button class=\"colab-df-convert\" onclick=\"convertToInteractive('df-a1d57e16-6df8-4e2a-82d3-b1ba557f526c')\"\n",
              "              title=\"Convert this dataframe to an interactive table.\"\n",
              "              style=\"display:none;\">\n",
              "        \n",
              "  <svg xmlns=\"http://www.w3.org/2000/svg\" height=\"24px\"viewBox=\"0 0 24 24\"\n",
              "       width=\"24px\">\n",
              "    <path d=\"M0 0h24v24H0V0z\" fill=\"none\"/>\n",
              "    <path d=\"M18.56 5.44l.94 2.06.94-2.06 2.06-.94-2.06-.94-.94-2.06-.94 2.06-2.06.94zm-11 1L8.5 8.5l.94-2.06 2.06-.94-2.06-.94L8.5 2.5l-.94 2.06-2.06.94zm10 10l.94 2.06.94-2.06 2.06-.94-2.06-.94-.94-2.06-.94 2.06-2.06.94z\"/><path d=\"M17.41 7.96l-1.37-1.37c-.4-.4-.92-.59-1.43-.59-.52 0-1.04.2-1.43.59L10.3 9.45l-7.72 7.72c-.78.78-.78 2.05 0 2.83L4 21.41c.39.39.9.59 1.41.59.51 0 1.02-.2 1.41-.59l7.78-7.78 2.81-2.81c.8-.78.8-2.07 0-2.86zM5.41 20L4 18.59l7.72-7.72 1.47 1.35L5.41 20z\"/>\n",
              "  </svg>\n",
              "      </button>\n",
              "      \n",
              "  <style>\n",
              "    .colab-df-container {\n",
              "      display:flex;\n",
              "      flex-wrap:wrap;\n",
              "      gap: 12px;\n",
              "    }\n",
              "\n",
              "    .colab-df-convert {\n",
              "      background-color: #E8F0FE;\n",
              "      border: none;\n",
              "      border-radius: 50%;\n",
              "      cursor: pointer;\n",
              "      display: none;\n",
              "      fill: #1967D2;\n",
              "      height: 32px;\n",
              "      padding: 0 0 0 0;\n",
              "      width: 32px;\n",
              "    }\n",
              "\n",
              "    .colab-df-convert:hover {\n",
              "      background-color: #E2EBFA;\n",
              "      box-shadow: 0px 1px 2px rgba(60, 64, 67, 0.3), 0px 1px 3px 1px rgba(60, 64, 67, 0.15);\n",
              "      fill: #174EA6;\n",
              "    }\n",
              "\n",
              "    [theme=dark] .colab-df-convert {\n",
              "      background-color: #3B4455;\n",
              "      fill: #D2E3FC;\n",
              "    }\n",
              "\n",
              "    [theme=dark] .colab-df-convert:hover {\n",
              "      background-color: #434B5C;\n",
              "      box-shadow: 0px 1px 3px 1px rgba(0, 0, 0, 0.15);\n",
              "      filter: drop-shadow(0px 1px 2px rgba(0, 0, 0, 0.3));\n",
              "      fill: #FFFFFF;\n",
              "    }\n",
              "  </style>\n",
              "\n",
              "      <script>\n",
              "        const buttonEl =\n",
              "          document.querySelector('#df-a1d57e16-6df8-4e2a-82d3-b1ba557f526c button.colab-df-convert');\n",
              "        buttonEl.style.display =\n",
              "          google.colab.kernel.accessAllowed ? 'block' : 'none';\n",
              "\n",
              "        async function convertToInteractive(key) {\n",
              "          const element = document.querySelector('#df-a1d57e16-6df8-4e2a-82d3-b1ba557f526c');\n",
              "          const dataTable =\n",
              "            await google.colab.kernel.invokeFunction('convertToInteractive',\n",
              "                                                     [key], {});\n",
              "          if (!dataTable) return;\n",
              "\n",
              "          const docLinkHtml = 'Like what you see? Visit the ' +\n",
              "            '<a target=\"_blank\" href=https://colab.research.google.com/notebooks/data_table.ipynb>data table notebook</a>'\n",
              "            + ' to learn more about interactive tables.';\n",
              "          element.innerHTML = '';\n",
              "          dataTable['output_type'] = 'display_data';\n",
              "          await google.colab.output.renderOutput(dataTable, element);\n",
              "          const docLink = document.createElement('div');\n",
              "          docLink.innerHTML = docLinkHtml;\n",
              "          element.appendChild(docLink);\n",
              "        }\n",
              "      </script>\n",
              "    </div>\n",
              "  </div>\n",
              "  "
            ]
          },
          "metadata": {},
          "execution_count": 11
        }
      ],
      "source": [
        "df.tail()"
      ]
    },
    {
      "cell_type": "code",
      "execution_count": null,
      "metadata": {
        "colab": {
          "base_uri": "https://localhost:8080/"
        },
        "id": "8aNhendv9UZz",
        "outputId": "615ef992-3bb2-4a8e-8a51-30f8125732c1"
      },
      "outputs": [
        {
          "output_type": "execute_result",
          "data": {
            "text/plain": [
              "0    1906\n",
              "1     334\n",
              "Name: Response, dtype: int64"
            ]
          },
          "metadata": {},
          "execution_count": 12
        }
      ],
      "source": [
        "# to check data balance\n",
        "df['Response'].value_counts()"
      ]
    },
    {
      "cell_type": "code",
      "execution_count": null,
      "metadata": {
        "colab": {
          "base_uri": "https://localhost:8080/"
        },
        "id": "1_IItjVFUO-y",
        "outputId": "fdbbb48f-27ec-454c-c6e5-9143c4351dd3"
      },
      "outputs": [
        {
          "output_type": "display_data",
          "data": {
            "text/plain": [
              "<Figure size 432x288 with 1 Axes>"
            ],
            "image/png": "[encoded data removed]"
          },
          "metadata": {}
        }
      ],
      "source": [
        "sns.set_style('whitegrid')\n",
        "sns.countplot(x='Response',data=df);"
      ]
    },
    {
      "cell_type": "code",
      "execution_count": null,
      "metadata": {
        "colab": {
          "base_uri": "https://localhost:8080/"
        },
        "id": "PqjDwPKRg80q",
        "outputId": "6262ca43-6c50-4fd8-985a-fd617fb4c242"
      },
      "outputs": [
        {
          "output_type": "execute_result",
          "data": {
            "text/plain": [
              "17.523609653725078"
            ]
          },
          "metadata": {},
          "execution_count": 14
        }
      ],
      "source": [
        "# There is imbalanced distribution\n",
        "# Imblance class : Moderate (%1-%20)\n",
        "(df[(df.Response == 1)].count()[0]/df[(df.Response == 0)].count()[0])*100"
      ]
    },
    {
      "cell_type": "code",
      "execution_count": null,
      "metadata": {
        "colab": {
          "base_uri": "https://localhost:8080/"
        },
        "id": "WbSfa5spIxHf",
        "outputId": "d8bcf2f8-1b82-4838-c6e7-d730e1c1feac"
      },
      "outputs": [
        {
          "output_type": "display_data",
          "data": {
            "text/plain": [
              "<Figure size 432x288 with 1 Axes>"
            ],
            "image/png": "[encoded data removed]"
          },
          "metadata": {}
        }
      ],
      "source": [
        "# to calculate success rate for each campaign\n",
        "campaign_success = pd.DataFrame(df[['AcceptedCmp1', 'AcceptedCmp2', 'AcceptedCmp3', 'AcceptedCmp4', 'AcceptedCmp5', 'Response']].mean()*100, \n",
        "                           columns=['Percent']).reset_index()\n",
        "\n",
        "# plot\n",
        "sns.barplot(x='Percent', y='index', data=campaign_success.sort_values('Percent'), palette='Blues')\n",
        "plt.xlabel('Accepted (%)')\n",
        "plt.ylabel('Campaigns')\n",
        "plt.title('Marketing campaign success rate', size=16);"
      ]
    },
    {
      "cell_type": "code",
      "execution_count": null,
      "metadata": {
        "colab": {
          "base_uri": "https://localhost:8080/"
        },
        "id": "Bb6nG7uQBIbW",
        "outputId": "7bff1a6c-9e12-4b5a-9f55-9f2b0d69abac"
      },
      "outputs": [
        {
          "output_type": "execute_result",
          "data": {
            "text/plain": [
              "            Count\n",
              "Graduation   1127\n",
              "PhD           486\n",
              "Master        370\n",
              "2n Cycle      203\n",
              "Basic          54"
            ],
            "text/html": [
              "\n",
              "  <div id=\"df-7394e959-e6da-4e6d-ad7d-9fea95cc1d46\">\n",
              "    <div class=\"colab-df-container\">\n",
              "      <div>\n",
              "<style scoped>\n",
              "    .dataframe tbody tr th:only-of-type {\n",
              "        vertical-align: middle;\n",
              "    }\n",
              "\n",
              "    .dataframe tbody tr th {\n",
              "        vertical-align: top;\n",
              "    }\n",
              "\n",
              "    .dataframe thead th {\n",
              "        text-align: right;\n",
              "    }\n",
              "</style>\n",
              "<table border=\"1\" class=\"dataframe\">\n",
              "  <thead>\n",
              "    <tr style=\"text-align: right;\">\n",
              "      <th></th>\n",
              "      <th>Count</th>\n",
              "    </tr>\n",
              "  </thead>\n",
              "  <tbody>\n",
              "    <tr>\n",
              "      <th>Graduation</th>\n",
              "      <td>1127</td>\n",
              "    </tr>\n",
              "    <tr>\n",
              "      <th>PhD</th>\n",
              "      <td>486</td>\n",
              "    </tr>\n",
              "    <tr>\n",
              "      <th>Master</th>\n",
              "      <td>370</td>\n",
              "    </tr>\n",
              "    <tr>\n",
              "      <th>2n Cycle</th>\n",
              "      <td>203</td>\n",
              "    </tr>\n",
              "    <tr>\n",
              "      <th>Basic</th>\n",
              "      <td>54</td>\n",
              "    </tr>\n",
              "  </tbody>\n",
              "</table>\n",
              "</div>\n",
              "      <button class=\"colab-df-convert\" onclick=\"convertToInteractive('df-7394e959-e6da-4e6d-ad7d-9fea95cc1d46')\"\n",
              "              title=\"Convert this dataframe to an interactive table.\"\n",
              "              style=\"display:none;\">\n",
              "        \n",
              "  <svg xmlns=\"http://www.w3.org/2000/svg\" height=\"24px\"viewBox=\"0 0 24 24\"\n",
              "       width=\"24px\">\n",
              "    <path d=\"M0 0h24v24H0V0z\" fill=\"none\"/>\n",
              "    <path d=\"M18.56 5.44l.94 2.06.94-2.06 2.06-.94-2.06-.94-.94-2.06-.94 2.06-2.06.94zm-11 1L8.5 8.5l.94-2.06 2.06-.94-2.06-.94L8.5 2.5l-.94 2.06-2.06.94zm10 10l.94 2.06.94-2.06 2.06-.94-2.06-.94-.94-2.06-.94 2.06-2.06.94z\"/><path d=\"M17.41 7.96l-1.37-1.37c-.4-.4-.92-.59-1.43-.59-.52 0-1.04.2-1.43.59L10.3 9.45l-7.72 7.72c-.78.78-.78 2.05 0 2.83L4 21.41c.39.39.9.59 1.41.59.51 0 1.02-.2 1.41-.59l7.78-7.78 2.81-2.81c.8-.78.8-2.07 0-2.86zM5.41 20L4 18.59l7.72-7.72 1.47 1.35L5.41 20z\"/>\n",
              "  </svg>\n",
              "      </button>\n",
              "      \n",
              "  <style>\n",
              "    .colab-df-container {\n",
              "      display:flex;\n",
              "      flex-wrap:wrap;\n",
              "      gap: 12px;\n",
              "    }\n",
              "\n",
              "    .colab-df-convert {\n",
              "      background-color: #E8F0FE;\n",
              "      border: none;\n",
              "      border-radius: 50%;\n",
              "      cursor: pointer;\n",
              "      display: none;\n",
              "      fill: #1967D2;\n",
              "      height: 32px;\n",
              "      padding: 0 0 0 0;\n",
              "      width: 32px;\n",
              "    }\n",
              "\n",
              "    .colab-df-convert:hover {\n",
              "      background-color: #E2EBFA;\n",
              "      box-shadow: 0px 1px 2px rgba(60, 64, 67, 0.3), 0px 1px 3px 1px rgba(60, 64, 67, 0.15);\n",
              "      fill: #174EA6;\n",
              "    }\n",
              "\n",
              "    [theme=dark] .colab-df-convert {\n",
              "      background-color: #3B4455;\n",
              "      fill: #D2E3FC;\n",
              "    }\n",
              "\n",
              "    [theme=dark] .colab-df-convert:hover {\n",
              "      background-color: #434B5C;\n",
              "      box-shadow: 0px 1px 3px 1px rgba(0, 0, 0, 0.15);\n",
              "      filter: drop-shadow(0px 1px 2px rgba(0, 0, 0, 0.3));\n",
              "      fill: #FFFFFF;\n",
              "    }\n",
              "  </style>\n",
              "\n",
              "      <script>\n",
              "        const buttonEl =\n",
              "          document.querySelector('#df-7394e959-e6da-4e6d-ad7d-9fea95cc1d46 button.colab-df-convert');\n",
              "        buttonEl.style.display =\n",
              "          google.colab.kernel.accessAllowed ? 'block' : 'none';\n",
              "\n",
              "        async function convertToInteractive(key) {\n",
              "          const element = document.querySelector('#df-7394e959-e6da-4e6d-ad7d-9fea95cc1d46');\n",
              "          const dataTable =\n",
              "            await google.colab.kernel.invokeFunction('convertToInteractive',\n",
              "                                                     [key], {});\n",
              "          if (!dataTable) return;\n",
              "\n",
              "          const docLinkHtml = 'Like what you see? Visit the ' +\n",
              "            '<a target=\"_blank\" href=https://colab.research.google.com/notebooks/data_table.ipynb>data table notebook</a>'\n",
              "            + ' to learn more about interactive tables.';\n",
              "          element.innerHTML = '';\n",
              "          dataTable['output_type'] = 'display_data';\n",
              "          await google.colab.output.renderOutput(dataTable, element);\n",
              "          const docLink = document.createElement('div');\n",
              "          docLink.innerHTML = docLinkHtml;\n",
              "          element.appendChild(docLink);\n",
              "        }\n",
              "      </script>\n",
              "    </div>\n",
              "  </div>\n",
              "  "
            ]
          },
          "metadata": {},
          "execution_count": 16
        }
      ],
      "source": [
        "df['Education'].value_counts().to_frame('Count')"
      ]
    },
    {
      "cell_type": "code",
      "execution_count": null,
      "metadata": {
        "colab": {
          "base_uri": "https://localhost:8080/"
        },
        "id": "x9MdWjfe8z7m",
        "outputId": "58ee7d02-ac32-499b-8d14-058d88afc9a4"
      },
      "outputs": [
        {
          "output_type": "display_data",
          "data": {
            "text/plain": [
              "<Figure size 360x360 with 1 Axes>"
            ],
            "image/png": "[encoded data removed]"
          },
          "metadata": {}
        }
      ],
      "source": [
        "# Visualizing the distribution of 'Education' variable in the dataset\n",
        "\n",
        "df['Education'].value_counts().plot.pie(subplots=True, shadow = True, figsize=(5, 5), startangle=145);"
      ]
    },
    {
      "cell_type": "code",
      "execution_count": null,
      "metadata": {
        "colab": {
          "base_uri": "https://localhost:8080/"
        },
        "id": "FCCQo50r8OH3",
        "outputId": "83d9b4e6-dbd3-4fde-89e1-acef19a6e2dc"
      },
      "outputs": [
        {
          "output_type": "execute_result",
          "data": {
            "text/plain": [
              "                     Response\n",
              "Education  Response          \n",
              "2n Cycle   0              181\n",
              "           1               22\n",
              "Basic      0               52\n",
              "           1                2\n",
              "Graduation 0              975\n",
              "           1              152\n",
              "Master     0              313\n",
              "           1               57\n",
              "PhD        0              385\n",
              "           1              101"
            ],
            "text/html": [
              "\n",
              "  <div id=\"df-f379bbdc-3eef-4ed7-b09c-167a7201e9e6\">\n",
              "    <div class=\"colab-df-container\">\n",
              "      <div>\n",
              "<style scoped>\n",
              "    .dataframe tbody tr th:only-of-type {\n",
              "        vertical-align: middle;\n",
              "    }\n",
              "\n",
              "    .dataframe tbody tr th {\n",
              "        vertical-align: top;\n",
              "    }\n",
              "\n",
              "    .dataframe thead th {\n",
              "        text-align: right;\n",
              "    }\n",
              "</style>\n",
              "<table border=\"1\" class=\"dataframe\">\n",
              "  <thead>\n",
              "    <tr style=\"text-align: right;\">\n",
              "      <th></th>\n",
              "      <th></th>\n",
              "      <th>Response</th>\n",
              "    </tr>\n",
              "    <tr>\n",
              "      <th>Education</th>\n",
              "      <th>Response</th>\n",
              "      <th></th>\n",
              "    </tr>\n",
              "  </thead>\n",
              "  <tbody>\n",
              "    <tr>\n",
              "      <th rowspan=\"2\" valign=\"top\">2n Cycle</th>\n",
              "      <th>0</th>\n",
              "      <td>181</td>\n",
              "    </tr>\n",
              "    <tr>\n",
              "      <th>1</th>\n",
              "      <td>22</td>\n",
              "    </tr>\n",
              "    <tr>\n",
              "      <th rowspan=\"2\" valign=\"top\">Basic</th>\n",
              "      <th>0</th>\n",
              "      <td>52</td>\n",
              "    </tr>\n",
              "    <tr>\n",
              "      <th>1</th>\n",
              "      <td>2</td>\n",
              "    </tr>\n",
              "    <tr>\n",
              "      <th rowspan=\"2\" valign=\"top\">Graduation</th>\n",
              "      <th>0</th>\n",
              "      <td>975</td>\n",
              "    </tr>\n",
              "    <tr>\n",
              "      <th>1</th>\n",
              "      <td>152</td>\n",
              "    </tr>\n",
              "    <tr>\n",
              "      <th rowspan=\"2\" valign=\"top\">Master</th>\n",
              "      <th>0</th>\n",
              "      <td>313</td>\n",
              "    </tr>\n",
              "    <tr>\n",
              "      <th>1</th>\n",
              "      <td>57</td>\n",
              "    </tr>\n",
              "    <tr>\n",
              "      <th rowspan=\"2\" valign=\"top\">PhD</th>\n",
              "      <th>0</th>\n",
              "      <td>385</td>\n",
              "    </tr>\n",
              "    <tr>\n",
              "      <th>1</th>\n",
              "      <td>101</td>\n",
              "    </tr>\n",
              "  </tbody>\n",
              "</table>\n",
              "</div>\n",
              "      <button class=\"colab-df-convert\" onclick=\"convertToInteractive('df-f379bbdc-3eef-4ed7-b09c-167a7201e9e6')\"\n",
              "              title=\"Convert this dataframe to an interactive table.\"\n",
              "              style=\"display:none;\">\n",
              "        \n",
              "  <svg xmlns=\"http://www.w3.org/2000/svg\" height=\"24px\"viewBox=\"0 0 24 24\"\n",
              "       width=\"24px\">\n",
              "    <path d=\"M0 0h24v24H0V0z\" fill=\"none\"/>\n",
              "    <path d=\"M18.56 5.44l.94 2.06.94-2.06 2.06-.94-2.06-.94-.94-2.06-.94 2.06-2.06.94zm-11 1L8.5 8.5l.94-2.06 2.06-.94-2.06-.94L8.5 2.5l-.94 2.06-2.06.94zm10 10l.94 2.06.94-2.06 2.06-.94-2.06-.94-.94-2.06-.94 2.06-2.06.94z\"/><path d=\"M17.41 7.96l-1.37-1.37c-.4-.4-.92-.59-1.43-.59-.52 0-1.04.2-1.43.59L10.3 9.45l-7.72 7.72c-.78.78-.78 2.05 0 2.83L4 21.41c.39.39.9.59 1.41.59.51 0 1.02-.2 1.41-.59l7.78-7.78 2.81-2.81c.8-.78.8-2.07 0-2.86zM5.41 20L4 18.59l7.72-7.72 1.47 1.35L5.41 20z\"/>\n",
              "  </svg>\n",
              "      </button>\n",
              "      \n",
              "  <style>\n",
              "    .colab-df-container {\n",
              "      display:flex;\n",
              "      flex-wrap:wrap;\n",
              "      gap: 12px;\n",
              "    }\n",
              "\n",
              "    .colab-df-convert {\n",
              "      background-color: #E8F0FE;\n",
              "      border: none;\n",
              "      border-radius: 50%;\n",
              "      cursor: pointer;\n",
              "      display: none;\n",
              "      fill: #1967D2;\n",
              "      height: 32px;\n",
              "      padding: 0 0 0 0;\n",
              "      width: 32px;\n",
              "    }\n",
              "\n",
              "    .colab-df-convert:hover {\n",
              "      background-color: #E2EBFA;\n",
              "      box-shadow: 0px 1px 2px rgba(60, 64, 67, 0.3), 0px 1px 3px 1px rgba(60, 64, 67, 0.15);\n",
              "      fill: #174EA6;\n",
              "    }\n",
              "\n",
              "    [theme=dark] .colab-df-convert {\n",
              "      background-color: #3B4455;\n",
              "      fill: #D2E3FC;\n",
              "    }\n",
              "\n",
              "    [theme=dark] .colab-df-convert:hover {\n",
              "      background-color: #434B5C;\n",
              "      box-shadow: 0px 1px 3px 1px rgba(0, 0, 0, 0.15);\n",
              "      filter: drop-shadow(0px 1px 2px rgba(0, 0, 0, 0.3));\n",
              "      fill: #FFFFFF;\n",
              "    }\n",
              "  </style>\n",
              "\n",
              "      <script>\n",
              "        const buttonEl =\n",
              "          document.querySelector('#df-f379bbdc-3eef-4ed7-b09c-167a7201e9e6 button.colab-df-convert');\n",
              "        buttonEl.style.display =\n",
              "          google.colab.kernel.accessAllowed ? 'block' : 'none';\n",
              "\n",
              "        async function convertToInteractive(key) {\n",
              "          const element = document.querySelector('#df-f379bbdc-3eef-4ed7-b09c-167a7201e9e6');\n",
              "          const dataTable =\n",
              "            await google.colab.kernel.invokeFunction('convertToInteractive',\n",
              "                                                     [key], {});\n",
              "          if (!dataTable) return;\n",
              "\n",
              "          const docLinkHtml = 'Like what you see? Visit the ' +\n",
              "            '<a target=\"_blank\" href=https://colab.research.google.com/notebooks/data_table.ipynb>data table notebook</a>'\n",
              "            + ' to learn more about interactive tables.';\n",
              "          element.innerHTML = '';\n",
              "          dataTable['output_type'] = 'display_data';\n",
              "          await google.colab.output.renderOutput(dataTable, element);\n",
              "          const docLink = document.createElement('div');\n",
              "          docLink.innerHTML = docLinkHtml;\n",
              "          element.appendChild(docLink);\n",
              "        }\n",
              "      </script>\n",
              "    </div>\n",
              "  </div>\n",
              "  "
            ]
          },
          "metadata": {},
          "execution_count": 18
        }
      ],
      "source": [
        "# to check the distribution of response by education variable\n",
        "df[['Education','Response']].groupby('Education').agg({'Response':'value_counts'})"
      ]
    },
    {
      "cell_type": "code",
      "execution_count": null,
      "metadata": {
        "colab": {
          "base_uri": "https://localhost:8080/"
        },
        "id": "u3WntZyC8Y30",
        "outputId": "213907ca-1f5a-4686-caf7-834ed936b726"
      },
      "outputs": [
        {
          "output_type": "execute_result",
          "data": {
            "text/plain": [
              "            Response\n",
              "Education           \n",
              "2n Cycle        0.11\n",
              "Basic           0.04\n",
              "Graduation      0.13\n",
              "Master          0.15\n",
              "PhD             0.21"
            ],
            "text/html": [
              "\n",
              "  <div id=\"df-e039645c-827f-4eec-b475-773a39debac7\">\n",
              "    <div class=\"colab-df-container\">\n",
              "      <div>\n",
              "<style scoped>\n",
              "    .dataframe tbody tr th:only-of-type {\n",
              "        vertical-align: middle;\n",
              "    }\n",
              "\n",
              "    .dataframe tbody tr th {\n",
              "        vertical-align: top;\n",
              "    }\n",
              "\n",
              "    .dataframe thead th {\n",
              "        text-align: right;\n",
              "    }\n",
              "</style>\n",
              "<table border=\"1\" class=\"dataframe\">\n",
              "  <thead>\n",
              "    <tr style=\"text-align: right;\">\n",
              "      <th></th>\n",
              "      <th>Response</th>\n",
              "    </tr>\n",
              "    <tr>\n",
              "      <th>Education</th>\n",
              "      <th></th>\n",
              "    </tr>\n",
              "  </thead>\n",
              "  <tbody>\n",
              "    <tr>\n",
              "      <th>2n Cycle</th>\n",
              "      <td>0.11</td>\n",
              "    </tr>\n",
              "    <tr>\n",
              "      <th>Basic</th>\n",
              "      <td>0.04</td>\n",
              "    </tr>\n",
              "    <tr>\n",
              "      <th>Graduation</th>\n",
              "      <td>0.13</td>\n",
              "    </tr>\n",
              "    <tr>\n",
              "      <th>Master</th>\n",
              "      <td>0.15</td>\n",
              "    </tr>\n",
              "    <tr>\n",
              "      <th>PhD</th>\n",
              "      <td>0.21</td>\n",
              "    </tr>\n",
              "  </tbody>\n",
              "</table>\n",
              "</div>\n",
              "      <button class=\"colab-df-convert\" onclick=\"convertToInteractive('df-e039645c-827f-4eec-b475-773a39debac7')\"\n",
              "              title=\"Convert this dataframe to an interactive table.\"\n",
              "              style=\"display:none;\">\n",
              "        \n",
              "  <svg xmlns=\"http://www.w3.org/2000/svg\" height=\"24px\"viewBox=\"0 0 24 24\"\n",
              "       width=\"24px\">\n",
              "    <path d=\"M0 0h24v24H0V0z\" fill=\"none\"/>\n",
              "    <path d=\"M18.56 5.44l.94 2.06.94-2.06 2.06-.94-2.06-.94-.94-2.06-.94 2.06-2.06.94zm-11 1L8.5 8.5l.94-2.06 2.06-.94-2.06-.94L8.5 2.5l-.94 2.06-2.06.94zm10 10l.94 2.06.94-2.06 2.06-.94-2.06-.94-.94-2.06-.94 2.06-2.06.94z\"/><path d=\"M17.41 7.96l-1.37-1.37c-.4-.4-.92-.59-1.43-.59-.52 0-1.04.2-1.43.59L10.3 9.45l-7.72 7.72c-.78.78-.78 2.05 0 2.83L4 21.41c.39.39.9.59 1.41.59.51 0 1.02-.2 1.41-.59l7.78-7.78 2.81-2.81c.8-.78.8-2.07 0-2.86zM5.41 20L4 18.59l7.72-7.72 1.47 1.35L5.41 20z\"/>\n",
              "  </svg>\n",
              "      </button>\n",
              "      \n",
              "  <style>\n",
              "    .colab-df-container {\n",
              "      display:flex;\n",
              "      flex-wrap:wrap;\n",
              "      gap: 12px;\n",
              "    }\n",
              "\n",
              "    .colab-df-convert {\n",
              "      background-color: #E8F0FE;\n",
              "      border: none;\n",
              "      border-radius: 50%;\n",
              "      cursor: pointer;\n",
              "      display: none;\n",
              "      fill: #1967D2;\n",
              "      height: 32px;\n",
              "      padding: 0 0 0 0;\n",
              "      width: 32px;\n",
              "    }\n",
              "\n",
              "    .colab-df-convert:hover {\n",
              "      background-color: #E2EBFA;\n",
              "      box-shadow: 0px 1px 2px rgba(60, 64, 67, 0.3), 0px 1px 3px 1px rgba(60, 64, 67, 0.15);\n",
              "      fill: #174EA6;\n",
              "    }\n",
              "\n",
              "    [theme=dark] .colab-df-convert {\n",
              "      background-color: #3B4455;\n",
              "      fill: #D2E3FC;\n",
              "    }\n",
              "\n",
              "    [theme=dark] .colab-df-convert:hover {\n",
              "      background-color: #434B5C;\n",
              "      box-shadow: 0px 1px 3px 1px rgba(0, 0, 0, 0.15);\n",
              "      filter: drop-shadow(0px 1px 2px rgba(0, 0, 0, 0.3));\n",
              "      fill: #FFFFFF;\n",
              "    }\n",
              "  </style>\n",
              "\n",
              "      <script>\n",
              "        const buttonEl =\n",
              "          document.querySelector('#df-e039645c-827f-4eec-b475-773a39debac7 button.colab-df-convert');\n",
              "        buttonEl.style.display =\n",
              "          google.colab.kernel.accessAllowed ? 'block' : 'none';\n",
              "\n",
              "        async function convertToInteractive(key) {\n",
              "          const element = document.querySelector('#df-e039645c-827f-4eec-b475-773a39debac7');\n",
              "          const dataTable =\n",
              "            await google.colab.kernel.invokeFunction('convertToInteractive',\n",
              "                                                     [key], {});\n",
              "          if (!dataTable) return;\n",
              "\n",
              "          const docLinkHtml = 'Like what you see? Visit the ' +\n",
              "            '<a target=\"_blank\" href=https://colab.research.google.com/notebooks/data_table.ipynb>data table notebook</a>'\n",
              "            + ' to learn more about interactive tables.';\n",
              "          element.innerHTML = '';\n",
              "          dataTable['output_type'] = 'display_data';\n",
              "          await google.colab.output.renderOutput(dataTable, element);\n",
              "          const docLink = document.createElement('div');\n",
              "          docLink.innerHTML = docLinkHtml;\n",
              "          element.appendChild(docLink);\n",
              "        }\n",
              "      </script>\n",
              "    </div>\n",
              "  </div>\n",
              "  "
            ]
          },
          "metadata": {},
          "execution_count": 19
        }
      ],
      "source": [
        "df[['Education','Response']].groupby('Education').agg({'Response':'mean'}).round(2)"
      ]
    },
    {
      "cell_type": "code",
      "execution_count": null,
      "metadata": {
        "colab": {
          "base_uri": "https://localhost:8080/"
        },
        "id": "--TBqVxt8Y30",
        "outputId": "04b7267e-4daf-46da-df2f-1b76db59f760"
      },
      "outputs": [
        {
          "output_type": "execute_result",
          "data": {
            "text/plain": [
              "             Income\n",
              "Education          \n",
              "2n Cycle   47633.19\n",
              "Basic      20306.26\n",
              "Graduation 52720.37\n",
              "Master     52917.53\n",
              "PhD        56145.31"
            ],
            "text/html": [
              "\n",
              "  <div id=\"df-1679c423-1e2c-4f2e-b5af-0fa9ad77d2d2\">\n",
              "    <div class=\"colab-df-container\">\n",
              "      <div>\n",
              "<style scoped>\n",
              "    .dataframe tbody tr th:only-of-type {\n",
              "        vertical-align: middle;\n",
              "    }\n",
              "\n",
              "    .dataframe tbody tr th {\n",
              "        vertical-align: top;\n",
              "    }\n",
              "\n",
              "    .dataframe thead th {\n",
              "        text-align: right;\n",
              "    }\n",
              "</style>\n",
              "<table border=\"1\" class=\"dataframe\">\n",
              "  <thead>\n",
              "    <tr style=\"text-align: right;\">\n",
              "      <th></th>\n",
              "      <th>Income</th>\n",
              "    </tr>\n",
              "    <tr>\n",
              "      <th>Education</th>\n",
              "      <th></th>\n",
              "    </tr>\n",
              "  </thead>\n",
              "  <tbody>\n",
              "    <tr>\n",
              "      <th>2n Cycle</th>\n",
              "      <td>47633.19</td>\n",
              "    </tr>\n",
              "    <tr>\n",
              "      <th>Basic</th>\n",
              "      <td>20306.26</td>\n",
              "    </tr>\n",
              "    <tr>\n",
              "      <th>Graduation</th>\n",
              "      <td>52720.37</td>\n",
              "    </tr>\n",
              "    <tr>\n",
              "      <th>Master</th>\n",
              "      <td>52917.53</td>\n",
              "    </tr>\n",
              "    <tr>\n",
              "      <th>PhD</th>\n",
              "      <td>56145.31</td>\n",
              "    </tr>\n",
              "  </tbody>\n",
              "</table>\n",
              "</div>\n",
              "      <button class=\"colab-df-convert\" onclick=\"convertToInteractive('df-1679c423-1e2c-4f2e-b5af-0fa9ad77d2d2')\"\n",
              "              title=\"Convert this dataframe to an interactive table.\"\n",
              "              style=\"display:none;\">\n",
              "        \n",
              "  <svg xmlns=\"http://www.w3.org/2000/svg\" height=\"24px\"viewBox=\"0 0 24 24\"\n",
              "       width=\"24px\">\n",
              "    <path d=\"M0 0h24v24H0V0z\" fill=\"none\"/>\n",
              "    <path d=\"M18.56 5.44l.94 2.06.94-2.06 2.06-.94-2.06-.94-.94-2.06-.94 2.06-2.06.94zm-11 1L8.5 8.5l.94-2.06 2.06-.94-2.06-.94L8.5 2.5l-.94 2.06-2.06.94zm10 10l.94 2.06.94-2.06 2.06-.94-2.06-.94-.94-2.06-.94 2.06-2.06.94z\"/><path d=\"M17.41 7.96l-1.37-1.37c-.4-.4-.92-.59-1.43-.59-.52 0-1.04.2-1.43.59L10.3 9.45l-7.72 7.72c-.78.78-.78 2.05 0 2.83L4 21.41c.39.39.9.59 1.41.59.51 0 1.02-.2 1.41-.59l7.78-7.78 2.81-2.81c.8-.78.8-2.07 0-2.86zM5.41 20L4 18.59l7.72-7.72 1.47 1.35L5.41 20z\"/>\n",
              "  </svg>\n",
              "      </button>\n",
              "      \n",
              "  <style>\n",
              "    .colab-df-container {\n",
              "      display:flex;\n",
              "      flex-wrap:wrap;\n",
              "      gap: 12px;\n",
              "    }\n",
              "\n",
              "    .colab-df-convert {\n",
              "      background-color: #E8F0FE;\n",
              "      border: none;\n",
              "      border-radius: 50%;\n",
              "      cursor: pointer;\n",
              "      display: none;\n",
              "      fill: #1967D2;\n",
              "      height: 32px;\n",
              "      padding: 0 0 0 0;\n",
              "      width: 32px;\n",
              "    }\n",
              "\n",
              "    .colab-df-convert:hover {\n",
              "      background-color: #E2EBFA;\n",
              "      box-shadow: 0px 1px 2px rgba(60, 64, 67, 0.3), 0px 1px 3px 1px rgba(60, 64, 67, 0.15);\n",
              "      fill: #174EA6;\n",
              "    }\n",
              "\n",
              "    [theme=dark] .colab-df-convert {\n",
              "      background-color: #3B4455;\n",
              "      fill: #D2E3FC;\n",
              "    }\n",
              "\n",
              "    [theme=dark] .colab-df-convert:hover {\n",
              "      background-color: #434B5C;\n",
              "      box-shadow: 0px 1px 3px 1px rgba(0, 0, 0, 0.15);\n",
              "      filter: drop-shadow(0px 1px 2px rgba(0, 0, 0, 0.3));\n",
              "      fill: #FFFFFF;\n",
              "    }\n",
              "  </style>\n",
              "\n",
              "      <script>\n",
              "        const buttonEl =\n",
              "          document.querySelector('#df-1679c423-1e2c-4f2e-b5af-0fa9ad77d2d2 button.colab-df-convert');\n",
              "        buttonEl.style.display =\n",
              "          google.colab.kernel.accessAllowed ? 'block' : 'none';\n",
              "\n",
              "        async function convertToInteractive(key) {\n",
              "          const element = document.querySelector('#df-1679c423-1e2c-4f2e-b5af-0fa9ad77d2d2');\n",
              "          const dataTable =\n",
              "            await google.colab.kernel.invokeFunction('convertToInteractive',\n",
              "                                                     [key], {});\n",
              "          if (!dataTable) return;\n",
              "\n",
              "          const docLinkHtml = 'Like what you see? Visit the ' +\n",
              "            '<a target=\"_blank\" href=https://colab.research.google.com/notebooks/data_table.ipynb>data table notebook</a>'\n",
              "            + ' to learn more about interactive tables.';\n",
              "          element.innerHTML = '';\n",
              "          dataTable['output_type'] = 'display_data';\n",
              "          await google.colab.output.renderOutput(dataTable, element);\n",
              "          const docLink = document.createElement('div');\n",
              "          docLink.innerHTML = docLinkHtml;\n",
              "          element.appendChild(docLink);\n",
              "        }\n",
              "      </script>\n",
              "    </div>\n",
              "  </div>\n",
              "  "
            ]
          },
          "metadata": {},
          "execution_count": 20
        }
      ],
      "source": [
        "# Let's take a look at the income change by education level\n",
        "df[['Education','Income']].groupby('Education').agg({'Income':'mean'}).round(2)"
      ]
    },
    {
      "cell_type": "code",
      "execution_count": null,
      "metadata": {
        "colab": {
          "base_uri": "https://localhost:8080/"
        },
        "id": "9JGL2C1Y98hl",
        "outputId": "1e36271e-d07d-403e-e594-a5465efb63a4"
      },
      "outputs": [
        {
          "output_type": "display_data",
          "data": {
            "text/plain": [
              "<Figure size 432x288 with 1 Axes>"
            ],
            "image/png": "[encoded data removed]"
          },
          "metadata": {}
        }
      ],
      "source": [
        "sns.barplot(x=df['Education'], y=df['Income'], data=df,  palette=\"Blues_d\");"
      ]
    },
    {
      "cell_type": "markdown",
      "metadata": {
        "id": "ruKHo2RqH3Je"
      },
      "source": [
        "####1.3.Variable Analysis"
      ]
    },
    {
      "cell_type": "code",
      "execution_count": null,
      "metadata": {
        "id": "7zetjSXUIx6j"
      },
      "outputs": [],
      "source": [
        "# to find data types of columns\n",
        "def grab_col_types(dataframe):\n",
        "  \"\"\"\n",
        "  Returns the type of variables in the dataset\n",
        "  \"\"\"\n",
        "  # to find obvious categorical variables\n",
        "  cat_cols = [col for col in df.columns if str(df[col].dtypes) in [\"category\", \"object\", \"bool\"]]\n",
        "\n",
        "  # to find numerical but categorical variables\n",
        "  num_but_cat = [col for col in df.columns if df[col].nunique() < 10 and df[col].dtypes in [\"int\", \"float\"]]\n",
        "  cat_cols = cat_cols + num_but_cat\n",
        "\n",
        "  # to find categorical but cardinal variables\n",
        "  cat_but_car = [col for col in df.columns if df[col].nunique() > 20 and str(df[col].dtypes) in [\"category\", \"object\"]]\n",
        "  cat_cols = [col for col in cat_cols if col not in cat_but_car]\n",
        "\n",
        "  num_cols = [col for col in df.columns if df[col].dtypes in [\"int\", \"float\"]]\n",
        "  num_cols = [col for col in num_cols if col not in cat_cols]\n",
        "\n",
        "  print(f'Total Variables: {len(df.columns)}\\n'\n",
        "        f'Categorical columns: {len(cat_cols)}\\n'\n",
        "        f'Numerical columns: {len(num_cols)}\\n'\n",
        "        f'Categorical but cardinal columns: {len(cat_but_car)}\\n'\n",
        "        f'Numerical but categorical columns: {len(num_but_cat)}')\n",
        "\n",
        "  return cat_cols, num_cols, cat_but_car, num_but_cat"
      ]
    },
    {
      "cell_type": "code",
      "execution_count": null,
      "metadata": {
        "colab": {
          "base_uri": "https://localhost:8080/"
        },
        "id": "Di7NH8ySJm0S",
        "outputId": "91fd57a2-0c50-43cf-c27b-a2008414c822"
      },
      "outputs": [
        {
          "output_type": "stream",
          "name": "stdout",
          "text": [
            "Total Variables: 27\n",
            "Categorical columns: 11\n",
            "Numerical columns: 15\n",
            "Categorical but cardinal columns: 1\n",
            "Numerical but categorical columns: 9\n"
          ]
        }
      ],
      "source": [
        "cat_cols, num_cols, cat_but_car_cols, num_but_cat = grab_col_types(df)"
      ]
    },
    {
      "cell_type": "code",
      "execution_count": null,
      "metadata": {
        "colab": {
          "base_uri": "https://localhost:8080/"
        },
        "id": "-qDi-mWjuBIX",
        "outputId": "2a2813af-0dca-4aac-f8f6-b416f465dfaf"
      },
      "outputs": [
        {
          "output_type": "execute_result",
          "data": {
            "text/plain": [
              "['Dt_Customer']"
            ]
          },
          "metadata": {},
          "execution_count": 24
        }
      ],
      "source": [
        "cat_but_car_cols"
      ]
    },
    {
      "cell_type": "code",
      "execution_count": null,
      "metadata": {
        "colab": {
          "base_uri": "https://localhost:8080/"
        },
        "id": "iPwkO_2huk-F",
        "outputId": "69b0cbd6-70c2-4de1-bfcf-b218dfcabfbb"
      },
      "outputs": [
        {
          "output_type": "execute_result",
          "data": {
            "text/plain": [
              "['Kidhome',\n",
              " 'Teenhome',\n",
              " 'AcceptedCmp3',\n",
              " 'AcceptedCmp4',\n",
              " 'AcceptedCmp5',\n",
              " 'AcceptedCmp1',\n",
              " 'AcceptedCmp2',\n",
              " 'Complain',\n",
              " 'Response']"
            ]
          },
          "metadata": {},
          "execution_count": 25
        }
      ],
      "source": [
        "num_but_cat"
      ]
    },
    {
      "cell_type": "markdown",
      "metadata": {
        "id": "VL8sVTzvt1vQ"
      },
      "source": [
        "NOTES:\n",
        "\n",
        "We've learned more about the data types of columns.\n",
        "\n",
        "[1] Dt_Customer column looks like categorical columns but it is not.\n",
        "\n",
        "[2] 'Kidhome',\n",
        " 'Teenhome',\n",
        " 'AcceptedCmp3',\n",
        " 'AcceptedCmp4',\n",
        " 'AcceptedCmp5',\n",
        " 'AcceptedCmp1',\n",
        " 'AcceptedCmp2',\n",
        " 'Complain' and\n",
        " 'Response' columns looks like numeric but they are categorical."
      ]
    },
    {
      "cell_type": "markdown",
      "metadata": {
        "id": "4CuPcA3YLhML"
      },
      "source": [
        "#####Visualization Categorical Variables"
      ]
    },
    {
      "cell_type": "code",
      "execution_count": null,
      "metadata": {
        "id": "dacCWQyn6fqU"
      },
      "outputs": [],
      "source": [
        "# to visualize categorical columns\n",
        "def cat_var_summary(df, col_name, plot=False):\n",
        "  print(pd.DataFrame({col_name: df[col_name].value_counts(),\n",
        "                        \"Ratio\": 100 * df[col_name].value_counts() / len(df)}))\n",
        "\n",
        "  if plot:\n",
        "    plt.figure()\n",
        "    plt.title(col_name + ' Distribution')\n",
        "    sns.barplot(x=df[col_name], y=df['Response'], data = df)\n",
        "    plt.show(block=True)"
      ]
    },
    {
      "cell_type": "code",
      "execution_count": null,
      "metadata": {
        "colab": {
          "base_uri": "https://localhost:8080/"
        },
        "id": "tokmPr2q6l5T",
        "outputId": "2f358ab0-84e5-4dc6-aee3-0abac4ad92d2"
      },
      "outputs": [
        {
          "output_type": "stream",
          "name": "stdout",
          "text": [
            "            Education  Ratio\n",
            "Graduation       1127  50.31\n",
            "PhD               486  21.70\n",
            "Master            370  16.52\n",
            "2n Cycle          203   9.06\n",
            "Basic              54   2.41\n"
          ]
        },
        {
          "output_type": "display_data",
          "data": {
            "text/plain": [
              "<Figure size 432x288 with 1 Axes>"
            ],
            "image/png": "[encoded data removed]"
          },
          "metadata": {}
        },
        {
          "output_type": "stream",
          "name": "stdout",
          "text": [
            "          Marital_Status  Ratio\n",
            "Married              864  38.57\n",
            "Together             580  25.89\n",
            "Single               480  21.43\n",
            "Divorced             232  10.36\n",
            "Widow                 77   3.44\n",
            "Alone                  3   0.13\n",
            "Absurd                 2   0.09\n",
            "YOLO                   2   0.09\n"
          ]
        },
        {
          "output_type": "display_data",
          "data": {
            "text/plain": [
              "<Figure size 432x288 with 1 Axes>"
            ],
            "image/png": "[encoded data removed]"
          },
          "metadata": {}
        },
        {
          "output_type": "stream",
          "name": "stdout",
          "text": [
            "   Kidhome  Ratio\n",
            "0     1293  57.72\n",
            "1      899  40.13\n",
            "2       48   2.14\n"
          ]
        },
        {
          "output_type": "display_data",
          "data": {
            "text/plain": [
              "<Figure size 432x288 with 1 Axes>"
            ],
            "image/png": "[encoded data removed]"
          },
          "metadata": {}
        },
        {
          "output_type": "stream",
          "name": "stdout",
          "text": [
            "   Teenhome  Ratio\n",
            "0      1158  51.70\n",
            "1      1030  45.98\n",
            "2        52   2.32\n"
          ]
        },
        {
          "output_type": "display_data",
          "data": {
            "text/plain": [
              "<Figure size 432x288 with 1 Axes>"
            ],
            "image/png": "[encoded data removed]"
          },
          "metadata": {}
        },
        {
          "output_type": "stream",
          "name": "stdout",
          "text": [
            "   AcceptedCmp3  Ratio\n",
            "0          2077  92.72\n",
            "1           163   7.28\n"
          ]
        },
        {
          "output_type": "display_data",
          "data": {
            "text/plain": [
              "<Figure size 432x288 with 1 Axes>"
            ],
            "image/png": "[encoded data removed]"
          },
          "metadata": {}
        },
        {
          "output_type": "stream",
          "name": "stdout",
          "text": [
            "   AcceptedCmp4  Ratio\n",
            "0          2073  92.54\n",
            "1           167   7.46\n"
          ]
        },
        {
          "output_type": "display_data",
          "data": {
            "text/plain": [
              "<Figure size 432x288 with 1 Axes>"
            ],
            "image/png": "[encoded data removed]"
          },
          "metadata": {}
        },
        {
          "output_type": "stream",
          "name": "stdout",
          "text": [
            "   AcceptedCmp5  Ratio\n",
            "0          2077  92.72\n",
            "1           163   7.28\n"
          ]
        },
        {
          "output_type": "display_data",
          "data": {
            "text/plain": [
              "<Figure size 432x288 with 1 Axes>"
            ],
            "image/png": "[encoded data removed]"
          },
          "metadata": {}
        },
        {
          "output_type": "stream",
          "name": "stdout",
          "text": [
            "   AcceptedCmp1  Ratio\n",
            "0          2096  93.57\n",
            "1           144   6.43\n"
          ]
        },
        {
          "output_type": "display_data",
          "data": {
            "text/plain": [
              "<Figure size 432x288 with 1 Axes>"
            ],
            "image/png": "[encoded data removed]"
          },
          "metadata": {}
        },
        {
          "output_type": "stream",
          "name": "stdout",
          "text": [
            "   AcceptedCmp2  Ratio\n",
            "0          2210  98.66\n",
            "1            30   1.34\n"
          ]
        },
        {
          "output_type": "display_data",
          "data": {
            "text/plain": [
              "<Figure size 432x288 with 1 Axes>"
            ],
            "image/png": "[encoded data removed]"
          },
          "metadata": {}
        },
        {
          "output_type": "stream",
          "name": "stdout",
          "text": [
            "   Complain  Ratio\n",
            "0      2219  99.06\n",
            "1        21   0.94\n"
          ]
        },
        {
          "output_type": "display_data",
          "data": {
            "text/plain": [
              "<Figure size 432x288 with 1 Axes>"
            ],
            "image/png": "[encoded data removed]"
          },
          "metadata": {}
        },
        {
          "output_type": "stream",
          "name": "stdout",
          "text": [
            "   Response  Ratio\n",
            "0      1906  85.09\n",
            "1       334  14.91\n"
          ]
        },
        {
          "output_type": "display_data",
          "data": {
            "text/plain": [
              "<Figure size 432x288 with 1 Axes>"
            ],
            "image/png": "[encoded data removed]"
          },
          "metadata": {}
        }
      ],
      "source": [
        "# Let's visualize our categorical columns excluding booleans!\n",
        "for col in cat_cols:\n",
        "    if df[col].dtypes == \"bool\":\n",
        "        print(f'{col} variable is boolean type!')\n",
        "    else:\n",
        "        cat_var_summary(df, col, plot=True)"
      ]
    },
    {
      "cell_type": "markdown",
      "metadata": {
        "id": "OV4ubzACWhW1"
      },
      "source": [
        "#####Visualization Numerical Variables"
      ]
    },
    {
      "cell_type": "code",
      "execution_count": null,
      "metadata": {
        "id": "xpax-SRaTbdF"
      },
      "outputs": [],
      "source": [
        "# to visualize numerical columns\n",
        "def num_summary(df, numerical_col, plot=False):\n",
        "    quantiles = [0.05, 0.15, 0.35, 0.50, 0.65, 0.80, 0.90, 0.95, 0.99]\n",
        "    print(df[numerical_col].describe(quantiles).T)\n",
        "\n",
        "    if plot:\n",
        "        df[numerical_col].hist()\n",
        "        plt.xlabel(numerical_col)\n",
        "        plt.title(numerical_col)\n",
        "        plt.show(block=True)"
      ]
    },
    {
      "cell_type": "code",
      "execution_count": null,
      "metadata": {
        "colab": {
          "base_uri": "https://localhost:8080/"
        },
        "id": "qGu1fbhCTdXS",
        "outputId": "4b209f90-015e-4ab8-fc44-67f6edd6b91f"
      },
      "outputs": [
        {
          "output_type": "stream",
          "name": "stdout",
          "text": [
            "count    2240.00\n",
            "mean     5592.16\n",
            "std      3246.66\n",
            "min         0.00\n",
            "5%        576.85\n",
            "15%      1661.80\n",
            "35%      3920.30\n",
            "50%      5458.50\n",
            "65%      7186.35\n",
            "80%      9059.20\n",
            "90%     10203.40\n",
            "95%     10675.05\n",
            "99%     11074.61\n",
            "max     11191.00\n",
            "Name: ID, dtype: float64\n"
          ]
        },
        {
          "output_type": "display_data",
          "data": {
            "text/plain": [
              "<Figure size 432x288 with 1 Axes>"
            ],
            "image/png": "[encoded data removed]"
          },
          "metadata": {}
        },
        {
          "output_type": "stream",
          "name": "stdout",
          "text": [
            "count   2240.00\n",
            "mean    1968.81\n",
            "std       11.98\n",
            "min     1893.00\n",
            "5%      1950.00\n",
            "15%     1955.00\n",
            "35%     1964.00\n",
            "50%     1970.00\n",
            "65%     1974.00\n",
            "80%     1979.00\n",
            "90%     1984.00\n",
            "95%     1988.00\n",
            "99%     1992.00\n",
            "max     1996.00\n",
            "Name: Year_Birth, dtype: float64\n"
          ]
        },
        {
          "output_type": "display_data",
          "data": {
            "text/plain": [
              "<Figure size 432x288 with 1 Axes>"
            ],
            "image/png": "[encoded data removed]"
          },
          "metadata": {}
        },
        {
          "output_type": "stream",
          "name": "stdout",
          "text": [
            "count     2216.00\n",
            "mean     52247.25\n",
            "std      25173.08\n",
            "min       1730.00\n",
            "5%       18985.50\n",
            "15%      28427.00\n",
            "35%      41417.50\n",
            "50%      51381.50\n",
            "65%      62060.25\n",
            "80%      71819.00\n",
            "90%      79844.00\n",
            "95%      84130.00\n",
            "99%      94458.80\n",
            "max     666666.00\n",
            "Name: Income, dtype: float64\n"
          ]
        },
        {
          "output_type": "display_data",
          "data": {
            "text/plain": [
              "<Figure size 432x288 with 1 Axes>"
            ],
            "image/png": "[encoded data removed]"
          },
          "metadata": {}
        },
        {
          "output_type": "stream",
          "name": "stdout",
          "text": [
            "count   2240.00\n",
            "mean      49.11\n",
            "std       28.96\n",
            "min        0.00\n",
            "5%         4.00\n",
            "15%       13.85\n",
            "35%       34.00\n",
            "50%       49.00\n",
            "65%       64.00\n",
            "80%       79.00\n",
            "90%       89.00\n",
            "95%       94.00\n",
            "99%       98.00\n",
            "max       99.00\n",
            "Name: Recency, dtype: float64\n"
          ]
        },
        {
          "output_type": "display_data",
          "data": {
            "text/plain": [
              "<Figure size 432x288 with 1 Axes>"
            ],
            "image/png": "[encoded data removed]"
          },
          "metadata": {}
        },
        {
          "output_type": "stream",
          "name": "stdout",
          "text": [
            "count   2240.00\n",
            "mean     303.94\n",
            "std      336.60\n",
            "min        0.00\n",
            "5%         3.00\n",
            "15%       10.85\n",
            "35%       53.00\n",
            "50%      173.50\n",
            "65%      356.35\n",
            "80%      581.20\n",
            "90%      822.10\n",
            "95%     1000.00\n",
            "99%     1285.00\n",
            "max     1493.00\n",
            "Name: MntWines, dtype: float64\n"
          ]
        },
        {
          "output_type": "display_data",
          "data": {
            "text/plain": [
              "<Figure size 432x288 with 1 Axes>"
            ],
            "image/png": "[encoded data removed]"
          },
          "metadata": {}
        },
        {
          "output_type": "stream",
          "name": "stdout",
          "text": [
            "count   2240.00\n",
            "mean      26.30\n",
            "std       39.77\n",
            "min        0.00\n",
            "5%         0.00\n",
            "15%        0.00\n",
            "35%        3.00\n",
            "50%        8.00\n",
            "65%       19.00\n",
            "80%       44.00\n",
            "90%       83.00\n",
            "95%      123.00\n",
            "99%      172.00\n",
            "max      199.00\n",
            "Name: MntFruits, dtype: float64\n"
          ]
        },
        {
          "output_type": "display_data",
          "data": {
            "text/plain": [
              "<Figure size 432x288 with 1 Axes>"
            ],
            "image/png": "[encoded data removed]"
          },
          "metadata": {}
        },
        {
          "output_type": "stream",
          "name": "stdout",
          "text": [
            "count   2240.00\n",
            "mean     166.95\n",
            "std      225.72\n",
            "min        0.00\n",
            "5%         4.00\n",
            "15%        9.00\n",
            "35%       26.00\n",
            "50%       67.00\n",
            "65%      135.00\n",
            "80%      298.40\n",
            "90%      499.00\n",
            "95%      687.10\n",
            "99%      915.00\n",
            "max     1725.00\n",
            "Name: MntMeatProducts, dtype: float64\n"
          ]
        },
        {
          "output_type": "display_data",
          "data": {
            "text/plain": [
              "<Figure size 432x288 with 1 Axes>"
            ],
            "image/png": "[encoded data removed]"
          },
          "metadata": {}
        },
        {
          "output_type": "stream",
          "name": "stdout",
          "text": [
            "count   2240.00\n",
            "mean      37.53\n",
            "std       54.63\n",
            "min        0.00\n",
            "5%         0.00\n",
            "15%        0.00\n",
            "35%        4.00\n",
            "50%       12.00\n",
            "65%       28.00\n",
            "80%       65.00\n",
            "90%      120.00\n",
            "95%      168.05\n",
            "99%      226.22\n",
            "max      259.00\n",
            "Name: MntFishProducts, dtype: float64\n"
          ]
        },
        {
          "output_type": "display_data",
          "data": {
            "text/plain": [
              "<Figure size 432x288 with 1 Axes>"
            ],
            "image/png": "[encoded data removed]"
          },
          "metadata": {}
        },
        {
          "output_type": "stream",
          "name": "stdout",
          "text": [
            "count   2240.00\n",
            "mean      27.06\n",
            "std       41.28\n",
            "min        0.00\n",
            "5%         0.00\n",
            "15%        0.00\n",
            "35%        3.00\n",
            "50%        8.00\n",
            "65%       19.00\n",
            "80%       44.20\n",
            "90%       89.00\n",
            "95%      126.00\n",
            "99%      177.22\n",
            "max      263.00\n",
            "Name: MntSweetProducts, dtype: float64\n"
          ]
        },
        {
          "output_type": "display_data",
          "data": {
            "text/plain": [
              "<Figure size 432x288 with 1 Axes>"
            ],
            "image/png": "[encoded data removed]"
          },
          "metadata": {}
        },
        {
          "output_type": "stream",
          "name": "stdout",
          "text": [
            "count   2240.00\n",
            "mean      44.02\n",
            "std       52.17\n",
            "min        0.00\n",
            "5%         1.00\n",
            "15%        5.00\n",
            "35%       14.00\n",
            "50%       24.00\n",
            "65%       40.00\n",
            "80%       73.00\n",
            "90%      122.00\n",
            "95%      165.05\n",
            "99%      227.00\n",
            "max      362.00\n",
            "Name: MntGoldProds, dtype: float64\n"
          ]
        },
        {
          "output_type": "display_data",
          "data": {
            "text/plain": [
              "<Figure size 432x288 with 1 Axes>"
            ],
            "image/png": "[encoded data removed]"
          },
          "metadata": {}
        },
        {
          "output_type": "stream",
          "name": "stdout",
          "text": [
            "count   2240.00\n",
            "mean       2.33\n",
            "std        1.93\n",
            "min        0.00\n",
            "5%         1.00\n",
            "15%        1.00\n",
            "35%        1.00\n",
            "50%        2.00\n",
            "65%        2.00\n",
            "80%        3.00\n",
            "90%        5.00\n",
            "95%        6.00\n",
            "99%       10.00\n",
            "max       15.00\n",
            "Name: NumDealsPurchases, dtype: float64\n"
          ]
        },
        {
          "output_type": "display_data",
          "data": {
            "text/plain": [
              "<Figure size 432x288 with 1 Axes>"
            ],
            "image/png": "[encoded data removed]"
          },
          "metadata": {}
        },
        {
          "output_type": "stream",
          "name": "stdout",
          "text": [
            "count   2240.00\n",
            "mean       4.08\n",
            "std        2.78\n",
            "min        0.00\n",
            "5%         1.00\n",
            "15%        1.00\n",
            "35%        3.00\n",
            "50%        4.00\n",
            "65%        5.00\n",
            "80%        6.00\n",
            "90%        8.00\n",
            "95%        9.00\n",
            "99%       11.00\n",
            "max       27.00\n",
            "Name: NumWebPurchases, dtype: float64\n"
          ]
        },
        {
          "output_type": "display_data",
          "data": {
            "text/plain": [
              "<Figure size 432x288 with 1 Axes>"
            ],
            "image/png": "[encoded data removed]"
          },
          "metadata": {}
        },
        {
          "output_type": "stream",
          "name": "stdout",
          "text": [
            "count   2240.00\n",
            "mean       2.66\n",
            "std        2.92\n",
            "min        0.00\n",
            "5%         0.00\n",
            "15%        0.00\n",
            "35%        1.00\n",
            "50%        2.00\n",
            "65%        3.00\n",
            "80%        5.00\n",
            "90%        7.00\n",
            "95%        9.00\n",
            "99%       10.61\n",
            "max       28.00\n",
            "Name: NumCatalogPurchases, dtype: float64\n"
          ]
        },
        {
          "output_type": "display_data",
          "data": {
            "text/plain": [
              "<Figure size 432x288 with 1 Axes>"
            ],
            "image/png": "[encoded data removed]"
          },
          "metadata": {}
        },
        {
          "output_type": "stream",
          "name": "stdout",
          "text": [
            "count   2240.00\n",
            "mean       5.79\n",
            "std        3.25\n",
            "min        0.00\n",
            "5%         2.00\n",
            "15%        3.00\n",
            "35%        4.00\n",
            "50%        5.00\n",
            "65%        7.00\n",
            "80%        9.00\n",
            "90%       11.00\n",
            "95%       12.00\n",
            "99%       13.00\n",
            "max       13.00\n",
            "Name: NumStorePurchases, dtype: float64\n"
          ]
        },
        {
          "output_type": "display_data",
          "data": {
            "text/plain": [
              "<Figure size 432x288 with 1 Axes>"
            ],
            "image/png": "[encoded data removed]"
          },
          "metadata": {}
        },
        {
          "output_type": "stream",
          "name": "stdout",
          "text": [
            "count   2240.00\n",
            "mean       5.32\n",
            "std        2.43\n",
            "min        0.00\n",
            "5%         1.00\n",
            "15%        2.00\n",
            "35%        4.00\n",
            "50%        6.00\n",
            "65%        7.00\n",
            "80%        7.00\n",
            "90%        8.00\n",
            "95%        8.00\n",
            "99%        9.00\n",
            "max       20.00\n",
            "Name: NumWebVisitsMonth, dtype: float64\n"
          ]
        },
        {
          "output_type": "display_data",
          "data": {
            "text/plain": [
              "<Figure size 432x288 with 1 Axes>"
            ],
            "image/png": "[encoded data removed]"
          },
          "metadata": {}
        }
      ],
      "source": [
        "for col in num_cols:\n",
        "    num_summary(df, col, plot=True)"
      ]
    }
  ]
}
